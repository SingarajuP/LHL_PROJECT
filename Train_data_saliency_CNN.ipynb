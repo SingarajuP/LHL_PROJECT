{
 "cells": [
  {
   "cell_type": "code",
   "execution_count": 1,
   "metadata": {},
   "outputs": [],
   "source": [
    "import numpy as np \n",
    "import pandas as pd \n",
    "import matplotlib.pyplot as plt\n",
    "%matplotlib inline\n",
    "import seaborn as sns\n",
    "from os import listdir\n",
    "from PIL import Image\n",
    "import os\n",
    "import cv2\n",
    "from sklearn.model_selection import train_test_split\n",
    "from sklearn.metrics import classification_report,confusion_matrix\n",
    "from sklearn.metrics import roc_curve\n",
    "from sklearn.metrics import auc\n",
    "import pickle"
   ]
  },
  {
   "cell_type": "code",
   "execution_count": 2,
   "metadata": {},
   "outputs": [
    {
     "data": {
      "text/plain": [
       "252"
      ]
     },
     "execution_count": 2,
     "metadata": {},
     "output_type": "execute_result"
    }
   ],
   "source": [
    "path= 'images/IDC_regular_ps50_idx5'\n",
    "patients = listdir(path)\n",
    "len(patients)\n",
    "\n"
   ]
  },
  {
   "cell_type": "code",
   "execution_count": 3,
   "metadata": {},
   "outputs": [],
   "source": [
    "path= 'images/IDC_regular_ps50_idx5'\n",
    "images = []\n",
    "\n",
    "for root, dirs, files in os.walk(path):\n",
    "    for file in files:\n",
    "        #append the file name to the list\n",
    "        images.append(os.path.join(root,file))\n",
    "\n"
   ]
  },
  {
   "cell_type": "code",
   "execution_count": 4,
   "metadata": {},
   "outputs": [
    {
     "data": {
      "text/plain": [
       "250883"
      ]
     },
     "execution_count": 4,
     "metadata": {},
     "output_type": "execute_result"
    }
   ],
   "source": [
    "len(images)"
   ]
  },
  {
   "cell_type": "code",
   "execution_count": 2,
   "metadata": {},
   "outputs": [
    {
     "name": "stderr",
     "output_type": "stream",
     "text": [
      "Using TensorFlow backend.\n",
      "/Users/phanisingaraju/anaconda3/lib/python3.7/site-packages/tensorflow/python/framework/dtypes.py:516: FutureWarning: Passing (type, 1) or '1type' as a synonym of type is deprecated; in a future version of numpy, it will be understood as (type, (1,)) / '(1,)type'.\n",
      "  _np_qint8 = np.dtype([(\"qint8\", np.int8, 1)])\n",
      "/Users/phanisingaraju/anaconda3/lib/python3.7/site-packages/tensorflow/python/framework/dtypes.py:517: FutureWarning: Passing (type, 1) or '1type' as a synonym of type is deprecated; in a future version of numpy, it will be understood as (type, (1,)) / '(1,)type'.\n",
      "  _np_quint8 = np.dtype([(\"quint8\", np.uint8, 1)])\n",
      "/Users/phanisingaraju/anaconda3/lib/python3.7/site-packages/tensorflow/python/framework/dtypes.py:518: FutureWarning: Passing (type, 1) or '1type' as a synonym of type is deprecated; in a future version of numpy, it will be understood as (type, (1,)) / '(1,)type'.\n",
      "  _np_qint16 = np.dtype([(\"qint16\", np.int16, 1)])\n",
      "/Users/phanisingaraju/anaconda3/lib/python3.7/site-packages/tensorflow/python/framework/dtypes.py:519: FutureWarning: Passing (type, 1) or '1type' as a synonym of type is deprecated; in a future version of numpy, it will be understood as (type, (1,)) / '(1,)type'.\n",
      "  _np_quint16 = np.dtype([(\"quint16\", np.uint16, 1)])\n",
      "/Users/phanisingaraju/anaconda3/lib/python3.7/site-packages/tensorflow/python/framework/dtypes.py:520: FutureWarning: Passing (type, 1) or '1type' as a synonym of type is deprecated; in a future version of numpy, it will be understood as (type, (1,)) / '(1,)type'.\n",
      "  _np_qint32 = np.dtype([(\"qint32\", np.int32, 1)])\n",
      "/Users/phanisingaraju/anaconda3/lib/python3.7/site-packages/tensorflow/python/framework/dtypes.py:525: FutureWarning: Passing (type, 1) or '1type' as a synonym of type is deprecated; in a future version of numpy, it will be understood as (type, (1,)) / '(1,)type'.\n",
      "  np_resource = np.dtype([(\"resource\", np.ubyte, 1)])\n",
      "/Users/phanisingaraju/anaconda3/lib/python3.7/site-packages/tensorboard/compat/tensorflow_stub/dtypes.py:541: FutureWarning: Passing (type, 1) or '1type' as a synonym of type is deprecated; in a future version of numpy, it will be understood as (type, (1,)) / '(1,)type'.\n",
      "  _np_qint8 = np.dtype([(\"qint8\", np.int8, 1)])\n",
      "/Users/phanisingaraju/anaconda3/lib/python3.7/site-packages/tensorboard/compat/tensorflow_stub/dtypes.py:542: FutureWarning: Passing (type, 1) or '1type' as a synonym of type is deprecated; in a future version of numpy, it will be understood as (type, (1,)) / '(1,)type'.\n",
      "  _np_quint8 = np.dtype([(\"quint8\", np.uint8, 1)])\n",
      "/Users/phanisingaraju/anaconda3/lib/python3.7/site-packages/tensorboard/compat/tensorflow_stub/dtypes.py:543: FutureWarning: Passing (type, 1) or '1type' as a synonym of type is deprecated; in a future version of numpy, it will be understood as (type, (1,)) / '(1,)type'.\n",
      "  _np_qint16 = np.dtype([(\"qint16\", np.int16, 1)])\n",
      "/Users/phanisingaraju/anaconda3/lib/python3.7/site-packages/tensorboard/compat/tensorflow_stub/dtypes.py:544: FutureWarning: Passing (type, 1) or '1type' as a synonym of type is deprecated; in a future version of numpy, it will be understood as (type, (1,)) / '(1,)type'.\n",
      "  _np_quint16 = np.dtype([(\"quint16\", np.uint16, 1)])\n",
      "/Users/phanisingaraju/anaconda3/lib/python3.7/site-packages/tensorboard/compat/tensorflow_stub/dtypes.py:545: FutureWarning: Passing (type, 1) or '1type' as a synonym of type is deprecated; in a future version of numpy, it will be understood as (type, (1,)) / '(1,)type'.\n",
      "  _np_qint32 = np.dtype([(\"qint32\", np.int32, 1)])\n",
      "/Users/phanisingaraju/anaconda3/lib/python3.7/site-packages/tensorboard/compat/tensorflow_stub/dtypes.py:550: FutureWarning: Passing (type, 1) or '1type' as a synonym of type is deprecated; in a future version of numpy, it will be understood as (type, (1,)) / '(1,)type'.\n",
      "  np_resource = np.dtype([(\"resource\", np.ubyte, 1)])\n"
     ]
    }
   ],
   "source": [
    "from keras.preprocessing.image import load_img, img_to_array\n",
    "from keras.preprocessing.image import ImageDataGenerator\n",
    "from numpy import expand_dims"
   ]
  },
  {
   "cell_type": "code",
   "execution_count": 6,
   "metadata": {},
   "outputs": [],
   "source": [
    "def load_data(files):\n",
    "    X = []\n",
    "    y = []\n",
    "    datagen = ImageDataGenerator(horizontal_flip=True)\n",
    "\n",
    "    for file in files:\n",
    "        if file.endswith(\".png\"):\n",
    "            if(file[-5] == '1'):\n",
    "                img = load_img(file, target_size = (50,50))\n",
    "                data = img_to_array(img)\n",
    "                pixels =data/ 255\n",
    "                X.append(pixels)\n",
    "                y.append(1)\n",
    "                samples=expand_dims(data,0)\n",
    "                it = datagen.flow(samples, batch_size=1) \n",
    "                batch=it.next()\n",
    "                X.append(np.squeeze(batch, axis=0))\n",
    "                y.append(1)\n",
    "\n",
    "            elif(file[-5] == '0'):\n",
    "                img = load_img(file, target_size = (50,50))\n",
    "                pixels = img_to_array(img)\n",
    "                pixels /= 255\n",
    "                X.append(pixels)\n",
    "                y.append(0)\n",
    "    return np.stack(X), y\n",
    "        "
   ]
  },
  {
   "cell_type": "code",
   "execution_count": 7,
   "metadata": {},
   "outputs": [],
   "source": [
    "X,y=load_data(filelist)"
   ]
  },
  {
   "cell_type": "code",
   "execution_count": 10,
   "metadata": {},
   "outputs": [
    {
     "data": {
      "text/plain": [
       "((323808, 50, 50, 3), (323808, 1))"
      ]
     },
     "execution_count": 10,
     "metadata": {},
     "output_type": "execute_result"
    }
   ],
   "source": [
    "y=np.vstack(y)\n",
    "X.shape,y.shape"
   ]
  },
  {
   "cell_type": "code",
   "execution_count": 11,
   "metadata": {},
   "outputs": [
    {
     "data": {
      "text/plain": [
       "(145854, 177954)"
      ]
     },
     "execution_count": 11,
     "metadata": {},
     "output_type": "execute_result"
    }
   ],
   "source": [
    "np.count_nonzero(y == 1),np.count_nonzero(y == 0)"
   ]
  },
  {
   "cell_type": "code",
   "execution_count": 88,
   "metadata": {},
   "outputs": [],
   "source": [
    "X_train, X_t, y_train, y_t = train_test_split(X, y, test_size=0.3)"
   ]
  },
  {
   "cell_type": "code",
   "execution_count": null,
   "metadata": {},
   "outputs": [],
   "source": [
    "X_test, X_val, y_test, y_val = train_test_split(X_t, y_t, test_size=0.5)"
   ]
  },
  {
   "cell_type": "code",
   "execution_count": 3,
   "metadata": {},
   "outputs": [],
   "source": [
    "import keras\n",
    "from keras.models import Sequential\n",
    "from keras.layers import Dense, Dropout, Flatten, BatchNormalization\n",
    "from keras.layers import Conv2D, MaxPooling2D\n",
    "from keras import backend as K\n",
    "from keras import activations\n",
    "from keras.callbacks import EarlyStopping,ModelCheckpoint"
   ]
  },
  {
   "cell_type": "code",
   "execution_count": 89,
   "metadata": {},
   "outputs": [],
   "source": [
    "# Create the model\n",
    "mod = Sequential()\n",
    "mod.add(Conv2D(32, kernel_size=(3, 3), activation='relu', padding=\"same\", input_shape=(50, 50, 3)))\n",
    "mod.add(MaxPooling2D(pool_size=(2, 2)))\n",
    "mod.add(BatchNormalization())\n",
    "\n",
    "mod.add(Conv2D(64, kernel_size=(3, 3), activation='relu', padding=\"same\"))\n",
    "mod.add(MaxPooling2D(pool_size=(2, 2)))\n",
    "mod.add(BatchNormalization())\n",
    "\n",
    "\n",
    "mod.add(Conv2D(128, kernel_size=(3, 3), activation='relu', padding=\"same\"))\n",
    "mod.add(MaxPooling2D(pool_size=(2, 2)))\n",
    "#mod.add(BatchNormalization())\n",
    "\n",
    "\n",
    "#model.add(Conv2D(256, kernel_size=(3, 3), activation='relu', padding=\"same\"))\n",
    "#model.add(MaxPooling2D(pool_size=(2, 2)))\n",
    "\n",
    "mod.add(Flatten())\n",
    "#model.add(Dense(256, activation='relu'))\n",
    "mod.add(Dense(128, activation = 'relu'))\n",
    "mod.add(Dense(1, activation='sigmoid', name='visualized_layer'))\n",
    "\n",
    "# Compile the model\n",
    "mod.compile(loss=keras.losses.binary_crossentropy,\n",
    "              optimizer=keras.optimizers.Adam(),\n",
    "              metrics=['accuracy'])\n",
    "\n",
    "checkpoint = ModelCheckpoint(\"train_val_best.hdf5\", monitor='val_acc', verbose=1,\n",
    "    save_best_only=True, mode='max')\n",
    "\n",
    "es = EarlyStopping(monitor='val_loss', mode='min', verbose=1, patience=10)\n"
   ]
  },
  {
   "cell_type": "code",
   "execution_count": 90,
   "metadata": {},
   "outputs": [
    {
     "name": "stdout",
     "output_type": "stream",
     "text": [
      "Train on 259046 samples, validate on 64762 samples\n",
      "Epoch 1/20\n",
      "259046/259046 [==============================] - 1774s 7ms/step - loss: 0.3079 - acc: 0.8667 - val_loss: 0.6216 - val_acc: 0.6384\n",
      "\n",
      "Epoch 00001: val_acc improved from -inf to 0.63838, saving model to train_val_best.hdf5\n",
      "Epoch 2/20\n",
      "259046/259046 [==============================] - 1780s 7ms/step - loss: 0.2710 - acc: 0.8841 - val_loss: 0.4266 - val_acc: 0.8478\n",
      "\n",
      "Epoch 00002: val_acc improved from 0.63838 to 0.84778, saving model to train_val_best.hdf5\n",
      "Epoch 3/20\n",
      "259046/259046 [==============================] - 1783s 7ms/step - loss: 0.2616 - acc: 0.8891 - val_loss: 0.6742 - val_acc: 0.8183\n",
      "\n",
      "Epoch 00003: val_acc did not improve from 0.84778\n",
      "Epoch 4/20\n",
      "259046/259046 [==============================] - 1783s 7ms/step - loss: 0.2482 - acc: 0.8943 - val_loss: 0.2541 - val_acc: 0.8948\n",
      "\n",
      "Epoch 00004: val_acc improved from 0.84778 to 0.89475, saving model to train_val_best.hdf5\n",
      "Epoch 5/20\n",
      "259046/259046 [==============================] - 1792s 7ms/step - loss: 0.2440 - acc: 0.8962 - val_loss: 0.3222 - val_acc: 0.8642\n",
      "\n",
      "Epoch 00005: val_acc did not improve from 0.89475\n",
      "Epoch 6/20\n",
      "259046/259046 [==============================] - 1961s 8ms/step - loss: 0.2398 - acc: 0.8980 - val_loss: 0.3039 - val_acc: 0.8789\n",
      "\n",
      "Epoch 00006: val_acc did not improve from 0.89475\n",
      "Epoch 7/20\n",
      "259046/259046 [==============================] - 1994s 8ms/step - loss: 0.2355 - acc: 0.9002 - val_loss: 0.2369 - val_acc: 0.8989\n",
      "\n",
      "Epoch 00007: val_acc improved from 0.89475 to 0.89888, saving model to train_val_best.hdf5\n",
      "Epoch 8/20\n",
      "259046/259046 [==============================] - 1932s 7ms/step - loss: 0.2316 - acc: 0.9020 - val_loss: 0.2562 - val_acc: 0.8908\n",
      "\n",
      "Epoch 00008: val_acc did not improve from 0.89888\n",
      "Epoch 9/20\n",
      "259046/259046 [==============================] - 2039s 8ms/step - loss: 0.2302 - acc: 0.9026 - val_loss: 0.2503 - val_acc: 0.8970\n",
      "\n",
      "Epoch 00009: val_acc did not improve from 0.89888\n",
      "Epoch 10/20\n",
      "259046/259046 [==============================] - 2028s 8ms/step - loss: 0.2281 - acc: 0.9042 - val_loss: 0.2381 - val_acc: 0.8992\n",
      "\n",
      "Epoch 00010: val_acc improved from 0.89888 to 0.89920, saving model to train_val_best.hdf5\n",
      "Epoch 11/20\n",
      "259046/259046 [==============================] - 1993s 8ms/step - loss: 0.2242 - acc: 0.9055 - val_loss: 0.2426 - val_acc: 0.8995\n",
      "\n",
      "Epoch 00011: val_acc improved from 0.89920 to 0.89949, saving model to train_val_best.hdf5\n",
      "Epoch 12/20\n",
      "259046/259046 [==============================] - 1929s 7ms/step - loss: 0.2228 - acc: 0.9066 - val_loss: 0.2332 - val_acc: 0.9023\n",
      "\n",
      "Epoch 00012: val_acc improved from 0.89949 to 0.90232, saving model to train_val_best.hdf5\n",
      "Epoch 13/20\n",
      "259046/259046 [==============================] - 1792s 7ms/step - loss: 0.2193 - acc: 0.9078 - val_loss: 0.2381 - val_acc: 0.8993\n",
      "\n",
      "Epoch 00013: val_acc did not improve from 0.90232\n",
      "Epoch 14/20\n",
      "259046/259046 [==============================] - 1875s 7ms/step - loss: 0.2178 - acc: 0.9086 - val_loss: 0.2516 - val_acc: 0.8978\n",
      "\n",
      "Epoch 00014: val_acc did not improve from 0.90232\n",
      "Epoch 15/20\n",
      "259046/259046 [==============================] - 2072s 8ms/step - loss: 0.2266 - acc: 0.9045 - val_loss: 0.3112 - val_acc: 0.8716\n",
      "\n",
      "Epoch 00015: val_acc did not improve from 0.90232\n",
      "Epoch 16/20\n",
      "259046/259046 [==============================] - 2458s 9ms/step - loss: 0.2148 - acc: 0.9100 - val_loss: 0.2304 - val_acc: 0.9026\n",
      "\n",
      "Epoch 00016: val_acc improved from 0.90232 to 0.90263, saving model to train_val_best.hdf5\n",
      "Epoch 17/20\n",
      "259046/259046 [==============================] - 1962s 8ms/step - loss: 0.2120 - acc: 0.9118 - val_loss: 0.3066 - val_acc: 0.8694\n",
      "\n",
      "Epoch 00017: val_acc did not improve from 0.90263\n",
      "Epoch 18/20\n",
      "259046/259046 [==============================] - 1922s 7ms/step - loss: 0.2112 - acc: 0.9119 - val_loss: 0.2767 - val_acc: 0.8909\n",
      "\n",
      "Epoch 00018: val_acc did not improve from 0.90263\n",
      "Epoch 19/20\n",
      "259046/259046 [==============================] - 1909s 7ms/step - loss: 0.2081 - acc: 0.9138 - val_loss: 0.4056 - val_acc: 0.8127\n",
      "\n",
      "Epoch 00019: val_acc did not improve from 0.90263\n",
      "Epoch 20/20\n",
      "259046/259046 [==============================] - 1914s 7ms/step - loss: 0.2068 - acc: 0.9141 - val_loss: 0.2406 - val_acc: 0.8998\n",
      "\n",
      "Epoch 00020: val_acc did not improve from 0.90263\n"
     ]
    }
   ],
   "source": [
    "M=mod.fit(X_train, y_train,validation_data=(X_val, y_val),  epochs=20,callbacks=[checkpoint,es])"
   ]
  },
  {
   "cell_type": "code",
   "execution_count": 91,
   "metadata": {},
   "outputs": [
    {
     "data": {
      "text/plain": [
       "<matplotlib.legend.Legend at 0x7f8202b98f10>"
      ]
     },
     "execution_count": 91,
     "metadata": {},
     "output_type": "execute_result"
    },
    {
     "data": {
      "image/png": "[encoded data removed]",
      "text/plain": [
       "<Figure size 864x432 with 2 Axes>"
      ]
     },
     "metadata": {
      "needs_background": "light"
     },
     "output_type": "display_data"
    }
   ],
   "source": [
    "plt.figure(figsize = (12,6))\n",
    "plt.subplot(2,1,1)\n",
    "plt.plot(M.history['acc'], label=\"train_acc\")\n",
    "plt.plot(M.history['val_acc'], label = \"Validation_acc\")\n",
    "plt.legend()\n",
    "plt.subplot(2,1,2)\n",
    "plt.plot(M.history['loss'], label = \"train_loss\")\n",
    "plt.plot(M.history['val_loss'], label = \"Validation_loss\")\n",
    "plt.legend()"
   ]
  },
  {
   "cell_type": "code",
   "execution_count": 5,
   "metadata": {},
   "outputs": [
    {
     "name": "stdout",
     "output_type": "stream",
     "text": [
      "WARNING:tensorflow:From /Users/phanisingaraju/anaconda3/lib/python3.7/site-packages/keras/backend/tensorflow_backend.py:72: The name tf.get_default_graph is deprecated. Please use tf.compat.v1.get_default_graph instead.\n",
      "\n",
      "WARNING:tensorflow:From /Users/phanisingaraju/anaconda3/lib/python3.7/site-packages/keras/backend/tensorflow_backend.py:515: The name tf.placeholder is deprecated. Please use tf.compat.v1.placeholder instead.\n",
      "\n",
      "WARNING:tensorflow:From /Users/phanisingaraju/anaconda3/lib/python3.7/site-packages/keras/backend/tensorflow_backend.py:4048: The name tf.random_uniform is deprecated. Please use tf.random.uniform instead.\n",
      "\n",
      "WARNING:tensorflow:From /Users/phanisingaraju/anaconda3/lib/python3.7/site-packages/keras/backend/tensorflow_backend.py:3878: The name tf.nn.max_pool is deprecated. Please use tf.nn.max_pool2d instead.\n",
      "\n",
      "WARNING:tensorflow:From /Users/phanisingaraju/anaconda3/lib/python3.7/site-packages/keras/backend/tensorflow_backend.py:172: The name tf.get_default_session is deprecated. Please use tf.compat.v1.get_default_session instead.\n",
      "\n",
      "WARNING:tensorflow:From /Users/phanisingaraju/anaconda3/lib/python3.7/site-packages/keras/backend/tensorflow_backend.py:179: The name tf.ConfigProto is deprecated. Please use tf.compat.v1.ConfigProto instead.\n",
      "\n",
      "WARNING:tensorflow:From /Users/phanisingaraju/anaconda3/lib/python3.7/site-packages/keras/backend/tensorflow_backend.py:1812: The name tf.nn.fused_batch_norm is deprecated. Please use tf.compat.v1.nn.fused_batch_norm instead.\n",
      "\n",
      "WARNING:tensorflow:From /Users/phanisingaraju/anaconda3/lib/python3.7/site-packages/keras/optimizers.py:782: The name tf.train.Optimizer is deprecated. Please use tf.compat.v1.train.Optimizer instead.\n",
      "\n",
      "WARNING:tensorflow:From /Users/phanisingaraju/anaconda3/lib/python3.7/site-packages/tensorflow/python/ops/nn_impl.py:180: add_dispatch_support.<locals>.wrapper (from tensorflow.python.ops.array_ops) is deprecated and will be removed in a future version.\n",
      "Instructions for updating:\n",
      "Use tf.where in 2.0, which has the same broadcast rule as np.where\n"
     ]
    }
   ],
   "source": [
    "model=keras.models.load_model(\"train_val_best.hdf5\")"
   ]
  },
  {
   "cell_type": "code",
   "execution_count": 8,
   "metadata": {},
   "outputs": [
    {
     "name": "stdout",
     "output_type": "stream",
     "text": [
      "\n",
      "Test accuracy: 0.8658559471620471\n",
      "\n",
      "Test loss: 0.3178573714220564\n"
     ]
    }
   ],
   "source": [
    "test_loss, test_acc = model.evaluate(X_test,y_test, verbose=2)\n",
    "\n",
    "print('\\nTest accuracy:', test_acc)\n",
    "print('\\nTest loss:', test_loss)\n",
    "\n"
   ]
  },
  {
   "cell_type": "code",
   "execution_count": 9,
   "metadata": {},
   "outputs": [],
   "source": [
    "Y_pred = model.predict(X_test)\n"
   ]
  },
  {
   "cell_type": "code",
   "execution_count": 18,
   "metadata": {},
   "outputs": [
    {
     "data": {
      "text/plain": [
       "array([[17796,  2988],\n",
       "       [  794,  5065]])"
      ]
     },
     "execution_count": 18,
     "metadata": {},
     "output_type": "execute_result"
    }
   ],
   "source": [
    "y_pred = (Y_pred > 0.5).astype(np.int)\n",
    "confusion_matrix(y_test, y_pred)"
   ]
  },
  {
   "cell_type": "code",
   "execution_count": 21,
   "metadata": {},
   "outputs": [
    {
     "data": {
      "text/plain": [
       "Text(0.5, 1.0, 'Cancer Prediction')"
      ]
     },
     "execution_count": 21,
     "metadata": {},
     "output_type": "execute_result"
    },
    {
     "data": {
      "image/png": "[encoded data removed]",
      "text/plain": [
       "<Figure size 432x288 with 2 Axes>"
      ]
     },
     "metadata": {
      "needs_background": "light"
     },
     "output_type": "display_data"
    }
   ],
   "source": [
    "cm=confusion_matrix(y_test, y_pred)\n",
    "sns.heatmap(cm, annot=True,\n",
    "                    cmap=plt.cm.Blues,fmt=\"d\",\n",
    "                   xticklabels=['Benign', 'Malignant'],\n",
    "                   yticklabels=['Benign', 'Malignant']).set_title('Cancer Prediction')"
   ]
  },
  {
   "cell_type": "code",
   "execution_count": 19,
   "metadata": {},
   "outputs": [
    {
     "name": "stdout",
     "output_type": "stream",
     "text": [
      "              precision    recall  f1-score   support\n",
      "\n",
      "           0       0.96      0.86      0.90     20784\n",
      "           1       0.63      0.86      0.73      5859\n",
      "\n",
      "    accuracy                           0.86     26643\n",
      "   macro avg       0.79      0.86      0.82     26643\n",
      "weighted avg       0.89      0.86      0.87     26643\n",
      "\n"
     ]
    }
   ],
   "source": [
    "print(classification_report(y_test, y_pred))"
   ]
  },
  {
   "cell_type": "code",
   "execution_count": 22,
   "metadata": {},
   "outputs": [
    {
     "data": {
      "text/plain": [
       "array([2, 1, 0])"
      ]
     },
     "execution_count": 22,
     "metadata": {},
     "output_type": "execute_result"
    }
   ],
   "source": [
    "fpr, tpr, thresholds =roc_curve(y_test, y_pred)\n",
    "roc_auc = auc(fpr, tpr)\n",
    "thresholds"
   ]
  },
  {
   "cell_type": "code",
   "execution_count": 15,
   "metadata": {},
   "outputs": [
    {
     "data": {
      "image/png": "[encoded data removed]",
      "text/plain": [
       "<Figure size 432x288 with 1 Axes>"
      ]
     },
     "metadata": {
      "needs_background": "light"
     },
     "output_type": "display_data"
    }
   ],
   "source": [
    "plt.title('Receiver Operating Characteristic')\n",
    "plt.plot(fpr, tpr, 'b', label = 'AUC = %0.2f' % roc_auc)\n",
    "plt.legend(loc = 'lower right')\n",
    "plt.plot([0, 1], [0, 1],'r--')\n",
    "plt.xlim([0, 1])\n",
    "plt.ylim([0, 1])\n",
    "plt.ylabel('True Positive Rate')\n",
    "plt.xlabel('False Positive Rate')\n",
    "plt.show()"
   ]
  },
  {
   "cell_type": "code",
   "execution_count": null,
   "metadata": {},
   "outputs": [],
   "source": []
  }
 ],
 "metadata": {
  "kernelspec": {
   "display_name": "Python 3",
   "language": "python",
   "name": "python3"
  },
  "language_info": {
   "codemirror_mode": {
    "name": "ipython",
    "version": 3
   },
   "file_extension": ".py",
   "mimetype": "text/x-python",
   "name": "python",
   "nbconvert_exporter": "python",
   "pygments_lexer": "ipython3",
   "version": "3.7.7"
  }
 },
 "nbformat": 4,
 "nbformat_minor": 4
}
