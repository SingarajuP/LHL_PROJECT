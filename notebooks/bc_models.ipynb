{
 "cells": [
  {
   "cell_type": "code",
   "execution_count": 1,
   "metadata": {},
   "outputs": [],
   "source": [
    "import numpy as np \n",
    "import pandas as pd \n",
    "import matplotlib.pyplot as plt\n",
    "%matplotlib inline\n",
    "import seaborn as sns\n",
    "from os import listdir\n",
    "from glob import glob\n",
    "from PIL import Image\n",
    "import os\n",
    "import cv2\n",
    "import scipy.ndimage as ndimage\n",
    "from skimage import io\n"
   ]
  },
  {
   "cell_type": "code",
   "execution_count": 2,
   "metadata": {},
   "outputs": [],
   "source": [
    "from sklearn.model_selection import train_test_split\n",
    "from sklearn.metrics import classification_report,confusion_matrix,precision_score,recall_score\n",
    "from sklearn.metrics import roc_curve,auc\n",
    "\n"
   ]
  },
  {
   "cell_type": "code",
   "execution_count": 3,
   "metadata": {},
   "outputs": [],
   "source": [
    "import tensorflow as tf\n",
    "from tensorflow import keras\n",
    "from keras.utils import load_img, img_to_array\n",
    "from keras.losses import binary_crossentropy\n",
    "from keras.models import Sequential,load_model\n",
    "from keras.layers import Conv2D,MaxPooling2D,Flatten,Dense,Dropout,BatchNormalization \n",
    "from keras.callbacks import EarlyStopping,ModelCheckpoint\n",
    "from keras import backend as K\n",
    "from keras import activations\n",
    "from keras.preprocessing.image import ImageDataGenerator\n",
    "from numpy import expand_dims\n",
    "\n",
    "\n"
   ]
  },
  {
   "cell_type": "code",
   "execution_count": 4,
   "metadata": {},
   "outputs": [
    {
     "data": {
      "text/plain": [
       "277524"
      ]
     },
     "execution_count": 4,
     "metadata": {},
     "output_type": "execute_result"
    }
   ],
   "source": [
    "imagepatches = glob('../data/raw/**/*.png', recursive=True)\n",
    "len(imagepatches) # number of images"
   ]
  },
  {
   "cell_type": "code",
   "execution_count": 5,
   "metadata": {
    "scrolled": false
   },
   "outputs": [
    {
     "data": {
      "text/html": [
       "<div>\n",
       "<style scoped>\n",
       "    .dataframe tbody tr th:only-of-type {\n",
       "        vertical-align: middle;\n",
       "    }\n",
       "\n",
       "    .dataframe tbody tr th {\n",
       "        vertical-align: top;\n",
       "    }\n",
       "\n",
       "    .dataframe thead th {\n",
       "        text-align: right;\n",
       "    }\n",
       "</style>\n",
       "<table border=\"1\" class=\"dataframe\">\n",
       "  <thead>\n",
       "    <tr style=\"text-align: right;\">\n",
       "      <th></th>\n",
       "      <th>path</th>\n",
       "    </tr>\n",
       "  </thead>\n",
       "  <tbody>\n",
       "    <tr>\n",
       "      <th>0</th>\n",
       "      <td>../data/raw/9036/0/9036_idx5_x1051_y2401_class...</td>\n",
       "    </tr>\n",
       "    <tr>\n",
       "      <th>1</th>\n",
       "      <td>../data/raw/9036/0/9036_idx5_x2951_y951_class0...</td>\n",
       "    </tr>\n",
       "    <tr>\n",
       "      <th>2</th>\n",
       "      <td>../data/raw/9036/0/9036_idx5_x3001_y1451_class...</td>\n",
       "    </tr>\n",
       "    <tr>\n",
       "      <th>3</th>\n",
       "      <td>../data/raw/9036/0/9036_idx5_x3051_y801_class0...</td>\n",
       "    </tr>\n",
       "    <tr>\n",
       "      <th>4</th>\n",
       "      <td>../data/raw/9036/0/9036_idx5_x951_y1901_class0...</td>\n",
       "    </tr>\n",
       "  </tbody>\n",
       "</table>\n",
       "</div>"
      ],
      "text/plain": [
       "                                                path\n",
       "0  ../data/raw/9036/0/9036_idx5_x1051_y2401_class...\n",
       "1  ../data/raw/9036/0/9036_idx5_x2951_y951_class0...\n",
       "2  ../data/raw/9036/0/9036_idx5_x3001_y1451_class...\n",
       "3  ../data/raw/9036/0/9036_idx5_x3051_y801_class0...\n",
       "4  ../data/raw/9036/0/9036_idx5_x951_y1901_class0..."
      ]
     },
     "execution_count": 5,
     "metadata": {},
     "output_type": "execute_result"
    }
   ],
   "source": [
    "imagepath=pd.DataFrame(imagepatches,columns=['path']) # taking path of the images in the dataframe\n",
    "imagepath.head()"
   ]
  },
  {
   "cell_type": "code",
   "execution_count": 6,
   "metadata": {},
   "outputs": [],
   "source": [
    "file_split = imagepath['path'].str.split('_')\n"
   ]
  },
  {
   "cell_type": "code",
   "execution_count": 7,
   "metadata": {},
   "outputs": [
    {
     "data": {
      "text/plain": [
       "0         [../data/raw/9036/0/9036, idx5, x1051, y2401, ...\n",
       "1         [../data/raw/9036/0/9036, idx5, x2951, y951, c...\n",
       "2         [../data/raw/9036/0/9036, idx5, x3001, y1451, ...\n",
       "3         [../data/raw/9036/0/9036, idx5, x3051, y801, c...\n",
       "4         [../data/raw/9036/0/9036, idx5, x951, y1901, c...\n",
       "                                ...                        \n",
       "277519    [../data/raw/8957/1/8957, idx5, x1951, y701, c...\n",
       "277520    [../data/raw/8957/1/8957, idx5, x2051, y551, c...\n",
       "277521    [../data/raw/8957/1/8957, idx5, x1951, y651, c...\n",
       "277522    [../data/raw/8957/1/8957, idx5, x1451, y551, c...\n",
       "277523    [../data/raw/8957/1/8957, idx5, x1601, y501, c...\n",
       "Name: path, Length: 277524, dtype: object"
      ]
     },
     "execution_count": 7,
     "metadata": {},
     "output_type": "execute_result"
    }
   ],
   "source": [
    "file_split"
   ]
  },
  {
   "cell_type": "code",
   "execution_count": 8,
   "metadata": {},
   "outputs": [],
   "source": [
    "#Getting patient id, class, x and  y coordinates in a dataframe\n",
    "imagepath['patientid'] = [x[0] for x in file_split]\n",
    "imagepath['x'] = [x[2] for x in file_split]\n",
    "imagepath['y'] = [x[-2] for x in file_split]\n",
    "imagepath['Class_png']=[x[-1] for x in file_split]"
   ]
  },
  {
   "cell_type": "code",
   "execution_count": 9,
   "metadata": {},
   "outputs": [],
   "source": [
    "fs = imagepath['patientid'].str.split('/')\n",
    "imagepath['P_id']=[x[-1] for x in fs]"
   ]
  },
  {
   "cell_type": "code",
   "execution_count": 10,
   "metadata": {},
   "outputs": [],
   "source": [
    "imagepath['X'] = imagepath['x'].str.extract('(\\d+)', expand=False)\n",
    "imagepath['Y'] = imagepath['y'].str.extract('(\\d+)', expand=False)\n",
    "imagepath['Class'] = imagepath['Class_png'].str.extract('(\\d+)', expand=False)\n",
    "imagepath=imagepath.drop(['Class_png'],axis=1)\n",
    "imagepath=imagepath.drop(['x'],axis=1)\n",
    "imagepath=imagepath.drop(['y'],axis=1)\n",
    "imagepath=imagepath.drop(['patientid'],axis=1)"
   ]
  },
  {
   "cell_type": "code",
   "execution_count": 11,
   "metadata": {},
   "outputs": [
    {
     "data": {
      "text/plain": [
       "(277524, 5)"
      ]
     },
     "execution_count": 11,
     "metadata": {},
     "output_type": "execute_result"
    }
   ],
   "source": [
    "imagepath.shape"
   ]
  },
  {
   "cell_type": "code",
   "execution_count": 12,
   "metadata": {},
   "outputs": [
    {
     "data": {
      "text/html": [
       "<div>\n",
       "<style scoped>\n",
       "    .dataframe tbody tr th:only-of-type {\n",
       "        vertical-align: middle;\n",
       "    }\n",
       "\n",
       "    .dataframe tbody tr th {\n",
       "        vertical-align: top;\n",
       "    }\n",
       "\n",
       "    .dataframe thead th {\n",
       "        text-align: right;\n",
       "    }\n",
       "</style>\n",
       "<table border=\"1\" class=\"dataframe\">\n",
       "  <thead>\n",
       "    <tr style=\"text-align: right;\">\n",
       "      <th></th>\n",
       "      <th>path</th>\n",
       "      <th>P_id</th>\n",
       "      <th>X</th>\n",
       "      <th>Y</th>\n",
       "      <th>Class</th>\n",
       "    </tr>\n",
       "  </thead>\n",
       "  <tbody>\n",
       "    <tr>\n",
       "      <th>0</th>\n",
       "      <td>../data/raw/9036/0/9036_idx5_x1051_y2401_class...</td>\n",
       "      <td>9036</td>\n",
       "      <td>1051</td>\n",
       "      <td>2401</td>\n",
       "      <td>0</td>\n",
       "    </tr>\n",
       "    <tr>\n",
       "      <th>1</th>\n",
       "      <td>../data/raw/9036/0/9036_idx5_x2951_y951_class0...</td>\n",
       "      <td>9036</td>\n",
       "      <td>2951</td>\n",
       "      <td>951</td>\n",
       "      <td>0</td>\n",
       "    </tr>\n",
       "    <tr>\n",
       "      <th>2</th>\n",
       "      <td>../data/raw/9036/0/9036_idx5_x3001_y1451_class...</td>\n",
       "      <td>9036</td>\n",
       "      <td>3001</td>\n",
       "      <td>1451</td>\n",
       "      <td>0</td>\n",
       "    </tr>\n",
       "    <tr>\n",
       "      <th>3</th>\n",
       "      <td>../data/raw/9036/0/9036_idx5_x3051_y801_class0...</td>\n",
       "      <td>9036</td>\n",
       "      <td>3051</td>\n",
       "      <td>801</td>\n",
       "      <td>0</td>\n",
       "    </tr>\n",
       "    <tr>\n",
       "      <th>4</th>\n",
       "      <td>../data/raw/9036/0/9036_idx5_x951_y1901_class0...</td>\n",
       "      <td>9036</td>\n",
       "      <td>951</td>\n",
       "      <td>1901</td>\n",
       "      <td>0</td>\n",
       "    </tr>\n",
       "  </tbody>\n",
       "</table>\n",
       "</div>"
      ],
      "text/plain": [
       "                                                path  P_id     X     Y Class\n",
       "0  ../data/raw/9036/0/9036_idx5_x1051_y2401_class...  9036  1051  2401     0\n",
       "1  ../data/raw/9036/0/9036_idx5_x2951_y951_class0...  9036  2951   951     0\n",
       "2  ../data/raw/9036/0/9036_idx5_x3001_y1451_class...  9036  3001  1451     0\n",
       "3  ../data/raw/9036/0/9036_idx5_x3051_y801_class0...  9036  3051   801     0\n",
       "4  ../data/raw/9036/0/9036_idx5_x951_y1901_class0...  9036   951  1901     0"
      ]
     },
     "execution_count": 12,
     "metadata": {},
     "output_type": "execute_result"
    }
   ],
   "source": [
    "\n",
    "imagepath.head()"
   ]
  },
  {
   "cell_type": "code",
   "execution_count": 13,
   "metadata": {},
   "outputs": [
    {
     "data": {
      "text/plain": [
       "0    198738\n",
       "1     78786\n",
       "Name: Class, dtype: int64"
      ]
     },
     "execution_count": 13,
     "metadata": {},
     "output_type": "execute_result"
    }
   ],
   "source": [
    "imagepath.Class.value_counts()"
   ]
  },
  {
   "cell_type": "code",
   "execution_count": 14,
   "metadata": {},
   "outputs": [],
   "source": [
    "imagepath['Class']=imagepath.Class.astype(np.int64)\n",
    "imagepath['X']=imagepath.X.astype(np.int64)\n",
    "imagepath['Y']=imagepath.Y.astype(np.int64)\n",
    "imagepath['P_id']=imagepath.P_id.astype(np.int64)"
   ]
  },
  {
   "cell_type": "code",
   "execution_count": 15,
   "metadata": {},
   "outputs": [
    {
     "data": {
      "text/plain": [
       "path     object\n",
       "P_id      int64\n",
       "X         int64\n",
       "Y         int64\n",
       "Class     int64\n",
       "dtype: object"
      ]
     },
     "execution_count": 15,
     "metadata": {},
     "output_type": "execute_result"
    }
   ],
   "source": [
    "imagepath.dtypes"
   ]
  },
  {
   "cell_type": "code",
   "execution_count": 16,
   "metadata": {},
   "outputs": [],
   "source": [
    "def load_data(files):\n",
    "    X = []\n",
    "    y = []\n",
    "    for file in files:\n",
    "        img = load_img(file, target_size = (50,50))\n",
    "        pix = img_to_array(img)\n",
    "        pix /= 255\n",
    "        X.append(pix)\n",
    "        if(file[-5] == '1'):\n",
    "             y.append(1)\n",
    "        elif(file[-5] == '0'):\n",
    "            y.append(0)\n",
    "    return np.stack(X), y"
   ]
  },
  {
   "cell_type": "code",
   "execution_count": 17,
   "metadata": {},
   "outputs": [
    {
     "data": {
      "text/plain": [
       "((277524, 50, 50, 3), (277524, 1))"
      ]
     },
     "execution_count": 17,
     "metadata": {},
     "output_type": "execute_result"
    }
   ],
   "source": [
    "X,y=load_data(imagepath.path) #Loading training images into numpy arrays\n",
    "y=np.vstack(y)\n",
    "X.shape,y.shape"
   ]
  },
  {
   "cell_type": "code",
   "execution_count": 18,
   "metadata": {},
   "outputs": [
    {
     "data": {
      "text/plain": [
       "((194266, 50, 50, 3),\n",
       " (194266, 1),\n",
       " (41629, 50, 50, 3),\n",
       " (41629, 1),\n",
       " (41629, 50, 50, 3),\n",
       " (41629, 1))"
      ]
     },
     "execution_count": 18,
     "metadata": {},
     "output_type": "execute_result"
    }
   ],
   "source": [
    "X_train, X_vt, y_train, y_vt = train_test_split(X, y, test_size=0.3, random_state=15)\n",
    "X_val, X_test, y_val, y_test = train_test_split(X_vt, y_vt, test_size=0.5, random_state=20)\n",
    "X_train.shape,y_train.shape,X_val.shape,y_val.shape,X_test.shape,y_test.shape"
   ]
  },
  {
   "cell_type": "markdown",
   "metadata": {},
   "source": [
    "## Training the model with imbalance data"
   ]
  },
  {
   "cell_type": "code",
   "execution_count": 20,
   "metadata": {},
   "outputs": [],
   "source": [
    "model = Sequential()\n",
    "model.add(Conv2D(32, kernel_size=(3, 3), activation='relu', padding=\"same\", input_shape=(50, 50, 3)))\n",
    "model.add(MaxPooling2D(pool_size=(2, 2)))\n",
    "model.add(BatchNormalization())\n",
    "\n",
    "model.add(Conv2D(64, kernel_size=(3, 3), activation='relu', padding=\"same\"))\n",
    "model.add(MaxPooling2D(pool_size=(2, 2)))\n",
    "model.add(BatchNormalization())\n",
    "\n",
    "\n",
    "model.add(Conv2D(128, kernel_size=(3, 3), activation='relu', padding=\"same\"))\n",
    "model.add(MaxPooling2D(pool_size=(2, 2)))\n",
    "model.add(BatchNormalization())\n",
    "\n",
    "\n",
    "model.add(Conv2D(128, kernel_size=(3, 3), activation='relu', padding=\"same\"))\n",
    "model.add(MaxPooling2D(pool_size=(2, 2)))\n",
    "\n",
    "model.add(Flatten())\n",
    "#model.add(Dense(256, activation='relu'))\n",
    "model.add(Dense(128, activation = 'relu'))\n",
    "model.add(Dropout(0.3))\n",
    "model.add(Dense(1, activation='sigmoid'))\n",
    "\n",
    "model.compile(loss=keras.losses.binary_crossentropy,\n",
    "              optimizer='adam',\n",
    "              metrics=['accuracy'])\n",
    "\n"
   ]
  },
  {
   "cell_type": "code",
   "execution_count": 25,
   "metadata": {},
   "outputs": [],
   "source": [
    "checkpoint = ModelCheckpoint(\"../models/allimages_imbalance_adam.hdf5\", monitor='val_accuracy', verbose=1,\n",
    "    save_best_only=True, mode='max')"
   ]
  },
  {
   "cell_type": "code",
   "execution_count": 26,
   "metadata": {},
   "outputs": [],
   "source": [
    "es = EarlyStopping(monitor='val_loss', mode='min', verbose=1, patience=10)"
   ]
  },
  {
   "cell_type": "code",
   "execution_count": 27,
   "metadata": {},
   "outputs": [
    {
     "name": "stdout",
     "output_type": "stream",
     "text": [
      "Epoch 1/100\n",
      "759/759 [==============================] - ETA: 0s - loss: 0.5983 - accuracy: 0.7157\n",
      "Epoch 1: val_accuracy improved from -inf to 0.71616, saving model to ../models/allimages_imbalance_adam.hdf5\n",
      "759/759 [==============================] - 51s 66ms/step - loss: 0.5983 - accuracy: 0.7157 - val_loss: 611.8283 - val_accuracy: 0.7162\n",
      "Epoch 2/100\n",
      "759/759 [==============================] - ETA: 0s - loss: 0.5970 - accuracy: 0.7157\n",
      "Epoch 2: val_accuracy did not improve from 0.71616\n",
      "759/759 [==============================] - 51s 67ms/step - loss: 0.5970 - accuracy: 0.7157 - val_loss: 611.8528 - val_accuracy: 0.7162\n",
      "Epoch 3/100\n",
      "759/759 [==============================] - ETA: 0s - loss: 0.5970 - accuracy: 0.7157\n",
      "Epoch 3: val_accuracy did not improve from 0.71616\n",
      "759/759 [==============================] - 51s 67ms/step - loss: 0.5970 - accuracy: 0.7157 - val_loss: 611.8511 - val_accuracy: 0.7162\n",
      "Epoch 4/100\n",
      "759/759 [==============================] - ETA: 0s - loss: 0.5970 - accuracy: 0.7157\n",
      "Epoch 4: val_accuracy did not improve from 0.71616\n",
      "759/759 [==============================] - 51s 67ms/step - loss: 0.5970 - accuracy: 0.7157 - val_loss: 611.8502 - val_accuracy: 0.7162\n",
      "Epoch 5/100\n",
      "759/759 [==============================] - ETA: 0s - loss: 0.5970 - accuracy: 0.7157\n",
      "Epoch 5: val_accuracy did not improve from 0.71616\n",
      "759/759 [==============================] - 51s 67ms/step - loss: 0.5970 - accuracy: 0.7157 - val_loss: 611.8495 - val_accuracy: 0.7162\n",
      "Epoch 6/100\n",
      "759/759 [==============================] - ETA: 0s - loss: 0.5970 - accuracy: 0.7157\n",
      "Epoch 6: val_accuracy did not improve from 0.71616\n",
      "759/759 [==============================] - 51s 67ms/step - loss: 0.5970 - accuracy: 0.7157 - val_loss: 611.8525 - val_accuracy: 0.7162\n",
      "Epoch 7/100\n",
      "759/759 [==============================] - ETA: 0s - loss: 0.5970 - accuracy: 0.7157\n",
      "Epoch 7: val_accuracy did not improve from 0.71616\n",
      "759/759 [==============================] - 51s 67ms/step - loss: 0.5970 - accuracy: 0.7157 - val_loss: 611.8536 - val_accuracy: 0.7162\n",
      "Epoch 8/100\n",
      "759/759 [==============================] - ETA: 0s - loss: 0.5970 - accuracy: 0.7157\n",
      "Epoch 8: val_accuracy did not improve from 0.71616\n",
      "759/759 [==============================] - 51s 67ms/step - loss: 0.5970 - accuracy: 0.7157 - val_loss: 611.8499 - val_accuracy: 0.7162\n",
      "Epoch 9/100\n",
      "759/759 [==============================] - ETA: 0s - loss: 0.5970 - accuracy: 0.7157\n",
      "Epoch 9: val_accuracy did not improve from 0.71616\n",
      "759/759 [==============================] - 51s 67ms/step - loss: 0.5970 - accuracy: 0.7157 - val_loss: 611.8526 - val_accuracy: 0.7162\n",
      "Epoch 10/100\n",
      "759/759 [==============================] - ETA: 0s - loss: 0.5970 - accuracy: 0.7157\n",
      "Epoch 10: val_accuracy did not improve from 0.71616\n",
      "759/759 [==============================] - 51s 67ms/step - loss: 0.5970 - accuracy: 0.7157 - val_loss: 611.8521 - val_accuracy: 0.7162\n",
      "Epoch 11/100\n",
      "759/759 [==============================] - ETA: 0s - loss: 0.5970 - accuracy: 0.7157\n",
      "Epoch 11: val_accuracy did not improve from 0.71616\n",
      "759/759 [==============================] - 51s 67ms/step - loss: 0.5970 - accuracy: 0.7157 - val_loss: 611.8516 - val_accuracy: 0.7162\n",
      "Epoch 11: early stopping\n"
     ]
    }
   ],
   "source": [
    "M=model.fit(X_train, y_train,validation_data=(X_val, y_val),  epochs=100,batch_size=256,callbacks=[checkpoint,es])"
   ]
  },
  {
   "cell_type": "code",
   "execution_count": 29,
   "metadata": {},
   "outputs": [
    {
     "data": {
      "text/plain": [
       "<matplotlib.legend.Legend at 0x12412cca0>"
      ]
     },
     "execution_count": 29,
     "metadata": {},
     "output_type": "execute_result"
    },
    {
     "data": {
      "image/png": "[encoded data removed]",
      "text/plain": [
       "<Figure size 1200x600 with 2 Axes>"
      ]
     },
     "metadata": {},
     "output_type": "display_data"
    }
   ],
   "source": [
    "plt.figure(figsize = (12,6))\n",
    "plt.subplot(2,1,1)\n",
    "plt.plot(M.history['accuracy'], label=\"train_acc\")\n",
    "plt.plot(M.history['val_accuracy'], label = \"Validation_acc\")\n",
    "plt.legend()\n",
    "plt.subplot(2,1,2)\n",
    "plt.plot(M.history['loss'], label = \"train_loss\")\n",
    "plt.plot(M.history['val_loss'], label = \"Validation_loss\")\n",
    "plt.legend()"
   ]
  },
  {
   "cell_type": "code",
   "execution_count": 19,
   "metadata": {},
   "outputs": [],
   "source": [
    "from keras import optimizers"
   ]
  },
  {
   "cell_type": "code",
   "execution_count": 20,
   "metadata": {},
   "outputs": [],
   "source": [
    "opt=optimizers.SGD(learning_rate=1e-3, momentum=0.9)"
   ]
  },
  {
   "cell_type": "code",
   "execution_count": 21,
   "metadata": {},
   "outputs": [],
   "source": [
    "model = Sequential()\n",
    "model.add(Conv2D(32, kernel_size=(3, 3), activation='relu', padding=\"same\", input_shape=(50, 50, 3)))\n",
    "model.add(MaxPooling2D(pool_size=(2, 2)))\n",
    "model.add(BatchNormalization())\n",
    "\n",
    "model.add(Conv2D(64, kernel_size=(3, 3), activation='relu', padding=\"same\"))\n",
    "model.add(MaxPooling2D(pool_size=(2, 2)))\n",
    "model.add(BatchNormalization())\n",
    "\n",
    "\n",
    "model.add(Conv2D(128, kernel_size=(3, 3), activation='relu', padding=\"same\"))\n",
    "model.add(MaxPooling2D(pool_size=(2, 2)))\n",
    "model.add(BatchNormalization())\n",
    "\n",
    "\n",
    "model.add(Conv2D(128, kernel_size=(3, 3), activation='relu', padding=\"same\"))\n",
    "model.add(MaxPooling2D(pool_size=(2, 2)))\n",
    "\n",
    "model.add(Flatten())\n",
    "#model.add(Dense(256, activation='relu'))\n",
    "model.add(Dense(128, activation = 'relu'))\n",
    "model.add(Dropout(0.3))\n",
    "model.add(Dense(1, activation='sigmoid'))\n",
    "\n",
    "model.compile(loss=keras.losses.binary_crossentropy,\n",
    "              optimizer=opt,\n",
    "              metrics=['acc'])\n",
    "\n",
    "checkpoint = ModelCheckpoint(\"../models/allimages_imbalance_sgd.hdf5\", monitor='val_acc', verbose=1,\n",
    "    save_best_only=True, mode='max')\n",
    "es = EarlyStopping(monitor='val_loss', mode='min', verbose=1, patience=10)\n",
    "\n"
   ]
  },
  {
   "cell_type": "code",
   "execution_count": 22,
   "metadata": {
    "scrolled": false
   },
   "outputs": [
    {
     "name": "stdout",
     "output_type": "stream",
     "text": [
      "Epoch 1/100\n",
      "759/759 [==============================] - ETA: 0s - loss: 0.6238 - acc: 0.7157\n",
      "Epoch 1: val_acc improved from -inf to 0.56891, saving model to ../models/allimages_imbalance_sgd.hdf5\n",
      "759/759 [==============================] - 60s 78ms/step - loss: 0.6238 - acc: 0.7157 - val_loss: 60.4470 - val_acc: 0.5689\n",
      "Epoch 2/100\n",
      "759/759 [==============================] - ETA: 0s - loss: 0.5979 - acc: 0.7157\n",
      "Epoch 2: val_acc did not improve from 0.56891\n",
      "759/759 [==============================] - 58s 76ms/step - loss: 0.5979 - acc: 0.7157 - val_loss: 109.4889 - val_acc: 0.5685\n",
      "Epoch 3/100\n",
      "759/759 [==============================] - ETA: 0s - loss: 0.5970 - acc: 0.7157\n",
      "Epoch 3: val_acc did not improve from 0.56891\n",
      "759/759 [==============================] - 59s 77ms/step - loss: 0.5970 - acc: 0.7157 - val_loss: 109.5289 - val_acc: 0.5686\n",
      "Epoch 4/100\n",
      "759/759 [==============================] - ETA: 0s - loss: 0.5970 - acc: 0.7157\n",
      "Epoch 4: val_acc did not improve from 0.56891\n",
      "759/759 [==============================] - 59s 77ms/step - loss: 0.5970 - acc: 0.7157 - val_loss: 109.5292 - val_acc: 0.5686\n",
      "Epoch 5/100\n",
      "759/759 [==============================] - ETA: 0s - loss: 0.5970 - acc: 0.7157\n",
      "Epoch 5: val_acc did not improve from 0.56891\n",
      "759/759 [==============================] - 59s 77ms/step - loss: 0.5970 - acc: 0.7157 - val_loss: 109.5294 - val_acc: 0.5686\n",
      "Epoch 6/100\n",
      "759/759 [==============================] - ETA: 0s - loss: 0.5970 - acc: 0.7157\n",
      "Epoch 6: val_acc did not improve from 0.56891\n",
      "759/759 [==============================] - 59s 77ms/step - loss: 0.5970 - acc: 0.7157 - val_loss: 109.5293 - val_acc: 0.5686\n",
      "Epoch 7/100\n",
      "759/759 [==============================] - ETA: 0s - loss: 0.5970 - acc: 0.7157\n",
      "Epoch 7: val_acc did not improve from 0.56891\n",
      "759/759 [==============================] - 59s 77ms/step - loss: 0.5970 - acc: 0.7157 - val_loss: 109.5292 - val_acc: 0.5686\n",
      "Epoch 8/100\n",
      "759/759 [==============================] - ETA: 0s - loss: 0.5970 - acc: 0.7157\n",
      "Epoch 8: val_acc did not improve from 0.56891\n",
      "759/759 [==============================] - 60s 79ms/step - loss: 0.5970 - acc: 0.7157 - val_loss: 109.5293 - val_acc: 0.5686\n",
      "Epoch 9/100\n",
      "759/759 [==============================] - ETA: 0s - loss: 0.5970 - acc: 0.7157\n",
      "Epoch 9: val_acc did not improve from 0.56891\n",
      "759/759 [==============================] - 58s 77ms/step - loss: 0.5970 - acc: 0.7157 - val_loss: 109.5293 - val_acc: 0.5686\n",
      "Epoch 10/100\n",
      "759/759 [==============================] - ETA: 0s - loss: 0.5970 - acc: 0.7157\n",
      "Epoch 10: val_acc did not improve from 0.56891\n",
      "759/759 [==============================] - 59s 77ms/step - loss: 0.5970 - acc: 0.7157 - val_loss: 109.5293 - val_acc: 0.5686\n",
      "Epoch 11/100\n",
      "759/759 [==============================] - ETA: 0s - loss: 0.5970 - acc: 0.7157\n",
      "Epoch 11: val_acc did not improve from 0.56891\n",
      "759/759 [==============================] - 59s 78ms/step - loss: 0.5970 - acc: 0.7157 - val_loss: 109.5294 - val_acc: 0.5686\n",
      "Epoch 11: early stopping\n"
     ]
    }
   ],
   "source": [
    "M=model.fit(X_train, y_train,validation_data=(X_val, y_val),  epochs=100,batch_size=256, callbacks=[checkpoint,es])"
   ]
  },
  {
   "cell_type": "code",
   "execution_count": 152,
   "metadata": {},
   "outputs": [
    {
     "data": {
      "text/plain": [
       "<matplotlib.legend.Legend at 0x7fbf46685c10>"
      ]
     },
     "execution_count": 152,
     "metadata": {},
     "output_type": "execute_result"
    },
    {
     "data": {
      "image/png": "[encoded data removed]",
      "text/plain": [
       "<Figure size 864x432 with 2 Axes>"
      ]
     },
     "metadata": {
      "needs_background": "light"
     },
     "output_type": "display_data"
    }
   ],
   "source": [
    "plt.figure(figsize = (12,6))\n",
    "plt.subplot(2,1,1)\n",
    "plt.plot(M.history['acc'], label=\"train_acc\")\n",
    "plt.plot(M.history['val_acc'], label = \"Validation_acc\")\n",
    "plt.legend()\n",
    "plt.subplot(2,1,2)\n",
    "plt.plot(M.history['loss'], label = \"train_loss\")\n",
    "plt.plot(M.history['val_loss'], label = \"Validation_loss\")\n",
    "plt.legend()"
   ]
  },
  {
   "cell_type": "code",
   "execution_count": null,
   "metadata": {},
   "outputs": [],
   "source": [
    "model = Sequential()\n",
    "model.add(Conv2D(32, (3, 3), activation='relu',  padding='same', input_shape=(50, 50, 3)))\n",
    "model.add(BatchNormalization())\n",
    "model.add(Conv2D(32, (3, 3), activation='relu',  padding='same'))\n",
    "model.add(MaxPooling2D((2, 2)))\n",
    "model.add(BatchNormalization())\n",
    "model.add(Dropout(0.3))\n",
    "model.add(Conv2D(64, (3, 3), activation='relu', padding='same'))\n",
    "model.add(BatchNormalization())\n",
    "model.add(Conv2D(64, (3, 3), activation='relu',  padding='same'))\n",
    "model.add(BatchNormalization())\n",
    "model.add(MaxPooling2D((2, 2)))\n",
    "model.add(Dropout(0.3))\n",
    "model.add(Conv2D(128, (3, 3), activation='relu',  padding='same'))\n",
    "model.add(Flatten())\n",
    "model.add(Dense(128, activation='relu'))\n",
    "model.add(BatchNormalization())\n",
    "model.add(Dense(64, activation='relu'))\n",
    "model.add(BatchNormalization())\n",
    "model.add(Dense(64, activation='relu'))\n",
    "model.add(Dropout(0.3))\n",
    "model.add(Dense(24, activation='relu'))\n",
    "model.add(Dense(1, activation='sigmoid'))\n",
    "\n"
   ]
  },
  {
   "cell_type": "code",
   "execution_count": 153,
   "metadata": {},
   "outputs": [
    {
     "data": {
      "text/plain": [
       "((42678, 50, 50, 3), (42678, 1))"
      ]
     },
     "execution_count": 153,
     "metadata": {},
     "output_type": "execute_result"
    }
   ],
   "source": [
    "X_test,y_test=load_data(test_df.path)\n",
    "y_test=np.vstack(y_test)\n",
    "X_test.shape,y_test.shape"
   ]
  },
  {
   "cell_type": "code",
   "execution_count": 216,
   "metadata": {},
   "outputs": [],
   "source": [
    "model=load_model(\"final_imbalance_best1.hdf5\")"
   ]
  },
  {
   "cell_type": "code",
   "execution_count": 217,
   "metadata": {},
   "outputs": [
    {
     "name": "stdout",
     "output_type": "stream",
     "text": [
      "\n",
      "Test accuracy: 0.8390739959698205\n",
      "\n",
      "Test Loss: 0.4034269063003046\n"
     ]
    }
   ],
   "source": [
    "test_loss, test_acc = model.evaluate(X_test,y_test, verbose=2)\n",
    "\n",
    "print('\\nTest accuracy:', test_acc)\n",
    "print('\\nTest Loss:', test_loss)"
   ]
  },
  {
   "cell_type": "code",
   "execution_count": 218,
   "metadata": {},
   "outputs": [],
   "source": [
    "Y_pred = model.predict(X_test)\n"
   ]
  },
  {
   "cell_type": "code",
   "execution_count": 219,
   "metadata": {},
   "outputs": [
    {
     "data": {
      "text/plain": [
       "array([[25109,  3322],\n",
       "       [ 3546, 10701]])"
      ]
     },
     "execution_count": 219,
     "metadata": {},
     "output_type": "execute_result"
    }
   ],
   "source": [
    "y_pred = (Y_pred > 0.5).astype(np.int)\n",
    "confusion_matrix(y_test, y_pred)"
   ]
  },
  {
   "cell_type": "code",
   "execution_count": 220,
   "metadata": {},
   "outputs": [
    {
     "data": {
      "text/plain": [
       "Text(0.5, 1.0, 'Cancer Prediction')"
      ]
     },
     "execution_count": 220,
     "metadata": {},
     "output_type": "execute_result"
    },
    {
     "data": {
      "image/png": "[encoded data removed]",
      "text/plain": [
       "<Figure size 432x288 with 2 Axes>"
      ]
     },
     "metadata": {
      "needs_background": "light"
     },
     "output_type": "display_data"
    }
   ],
   "source": [
    "cm=confusion_matrix(y_test, y_pred)\n",
    "sns.heatmap(cm, annot=True,\n",
    "                    cmap=plt.cm.Blues,fmt=\"d\",\n",
    "                   xticklabels=['No tumor', 'tumor'],\n",
    "                   yticklabels=['No tumor', 'tumor']).set_title('Cancer Prediction')"
   ]
  },
  {
   "cell_type": "code",
   "execution_count": 221,
   "metadata": {},
   "outputs": [
    {
     "name": "stdout",
     "output_type": "stream",
     "text": [
      "Precision: 0.8196777179371034\n",
      "Recall: 0.8171306031050383\n"
     ]
    }
   ],
   "source": [
    "recall = recall_score(y_test, y_pred, average='macro')\n",
    "precision = precision_score(y_test, y_pred, average='macro')\n",
    "print(\"Precision:\" ,precision)\n",
    "print(\"Recall:\", recall)\n",
    "\n"
   ]
  },
  {
   "cell_type": "markdown",
   "metadata": {},
   "source": [
    "## Data Augmentation"
   ]
  },
  {
   "cell_type": "code",
   "execution_count": 159,
   "metadata": {},
   "outputs": [],
   "source": [
    "\n",
    "def load_aug_data(files):\n",
    "    X = []\n",
    "    y = []\n",
    "    datagen = ImageDataGenerator(horizontal_flip=True)\n",
    "\n",
    "    for file in files:\n",
    "        if(file[-5] == '1'):\n",
    "            img = load_img(file, target_size = (50,50))\n",
    "            data = img_to_array(img)\n",
    "            pix =data/ 255\n",
    "            X.append(pix)\n",
    "            y.append(1)\n",
    "            samples=expand_dims(data,0)\n",
    "            it = datagen.flow(samples, batch_size=1) \n",
    "            batch=it.next()\n",
    "            X.append(np.squeeze(batch, axis=0))\n",
    "            y.append(1)\n",
    "\n",
    "        elif(file[-5] == '0'):\n",
    "            img = load_img(file, target_size = (50,50))\n",
    "            pix = img_to_array(img)\n",
    "            pix /= 255\n",
    "            X.append(pix)\n",
    "            y.append(0)\n",
    "    return np.stack(X), y"
   ]
  },
  {
   "cell_type": "code",
   "execution_count": 162,
   "metadata": {},
   "outputs": [
    {
     "data": {
      "text/plain": [
       "((238548, 50, 50, 3), (238548, 1))"
      ]
     },
     "execution_count": 162,
     "metadata": {},
     "output_type": "execute_result"
    }
   ],
   "source": [
    "X_aug,y_aug=load_aug_data(train_df.path)\n",
    "y_aug=np.vstack(y_aug)\n",
    "X_aug.shape,y_aug.shape"
   ]
  },
  {
   "cell_type": "code",
   "execution_count": 163,
   "metadata": {},
   "outputs": [
    {
     "data": {
      "text/plain": [
       "(101998, 136550)"
      ]
     },
     "execution_count": 163,
     "metadata": {},
     "output_type": "execute_result"
    }
   ],
   "source": [
    "np.count_nonzero(y_aug == 1),np.count_nonzero(y_aug == 0)"
   ]
  },
  {
   "cell_type": "code",
   "execution_count": 164,
   "metadata": {},
   "outputs": [],
   "source": [
    "model_aug = Sequential()\n",
    "model_aug.add(Conv2D(32, kernel_size=(3, 3), activation='relu', padding=\"same\", input_shape=(50, 50, 3)))\n",
    "model_aug.add(MaxPooling2D(pool_size=(2, 2)))\n",
    "model.add(BatchNormalization())\n",
    "\n",
    "model_aug.add(Conv2D(64, kernel_size=(3, 3), activation='relu', padding=\"same\"))\n",
    "model_aug.add(MaxPooling2D(pool_size=(2, 2)))\n",
    "model_aug.add(BatchNormalization())\n",
    "\n",
    "\n",
    "model_aug.add(Conv2D(128, kernel_size=(3, 3), activation='relu', padding=\"same\"))\n",
    "model_aug.add(MaxPooling2D(pool_size=(2, 2)))\n",
    "model_aug.add(BatchNormalization())\n",
    "\n",
    "\n",
    "model_aug.add(Conv2D(128, kernel_size=(3, 3), activation='relu', padding=\"same\"))\n",
    "model_aug.add(MaxPooling2D(pool_size=(2, 2)))\n",
    "\n",
    "model_aug.add(Flatten())\n",
    "#model_aug.add(Dense(256, activation='relu'))\n",
    "model_aug.add(Dense(128, activation = 'relu'))\n",
    "model_aug.add(Dropout(0.4))\n",
    "model_aug.add(Dense(1, activation='sigmoid'))\n",
    "\n",
    "model_aug.compile(loss=keras.losses.binary_crossentropy,\n",
    "              optimizer='adam',\n",
    "              metrics=['accuracy'])"
   ]
  },
  {
   "cell_type": "code",
   "execution_count": 165,
   "metadata": {},
   "outputs": [],
   "source": [
    "checkpoint_aug = ModelCheckpoint(\"final_aug_best.hdf5\", monitor='val_acc', verbose=1,\n",
    "    save_best_only=True, mode='max')"
   ]
  },
  {
   "cell_type": "code",
   "execution_count": 166,
   "metadata": {},
   "outputs": [],
   "source": [
    "es_aug = EarlyStopping(monitor='val_loss', mode='min', verbose=1, patience=20)"
   ]
  },
  {
   "cell_type": "code",
   "execution_count": 167,
   "metadata": {},
   "outputs": [
    {
     "name": "stdout",
     "output_type": "stream",
     "text": [
      "Train on 238548 samples, validate on 47297 samples\n",
      "Epoch 1/100\n",
      "238548/238548 [==============================] - 1265s 5ms/step - loss: 0.3478 - acc: 0.8457 - val_loss: 0.7413 - val_acc: 0.4030\n",
      "\n",
      "Epoch 00001: val_acc improved from -inf to 0.40305, saving model to final_aug_best.hdf5\n",
      "Epoch 2/100\n",
      "238548/238548 [==============================] - 1221s 5ms/step - loss: 0.2882 - acc: 0.8772 - val_loss: 0.4568 - val_acc: 0.8155\n",
      "\n",
      "Epoch 00002: val_acc improved from 0.40305 to 0.81551, saving model to final_aug_best.hdf5\n",
      "Epoch 3/100\n",
      "238548/238548 [==============================] - 1201s 5ms/step - loss: 0.2711 - acc: 0.8850 - val_loss: 1.5512 - val_acc: 0.7103\n",
      "\n",
      "Epoch 00003: val_acc did not improve from 0.81551\n",
      "Epoch 4/100\n",
      "238548/238548 [==============================] - 1193s 5ms/step - loss: 0.2716 - acc: 0.8851 - val_loss: 0.4267 - val_acc: 0.8314\n",
      "\n",
      "Epoch 00004: val_acc improved from 0.81551 to 0.83141, saving model to final_aug_best.hdf5\n",
      "Epoch 5/100\n",
      "238548/238548 [==============================] - 1209s 5ms/step - loss: 0.2618 - acc: 0.8885 - val_loss: 0.4329 - val_acc: 0.8363\n",
      "\n",
      "Epoch 00005: val_acc improved from 0.83141 to 0.83633, saving model to final_aug_best.hdf5\n",
      "Epoch 6/100\n",
      "238548/238548 [==============================] - 1194s 5ms/step - loss: 0.2585 - acc: 0.8899 - val_loss: 0.4557 - val_acc: 0.7700\n",
      "\n",
      "Epoch 00006: val_acc did not improve from 0.83633\n",
      "Epoch 7/100\n",
      "238548/238548 [==============================] - 1194s 5ms/step - loss: 0.2545 - acc: 0.8918 - val_loss: 0.4487 - val_acc: 0.8312\n",
      "\n",
      "Epoch 00007: val_acc did not improve from 0.83633\n",
      "Epoch 8/100\n",
      "238548/238548 [==============================] - 1204s 5ms/step - loss: 0.2530 - acc: 0.8926 - val_loss: 0.3070 - val_acc: 0.8746\n",
      "\n",
      "Epoch 00008: val_acc improved from 0.83633 to 0.87464, saving model to final_aug_best.hdf5\n",
      "Epoch 9/100\n",
      "238548/238548 [==============================] - 1234s 5ms/step - loss: 0.2496 - acc: 0.8934 - val_loss: 0.3330 - val_acc: 0.8587\n",
      "\n",
      "Epoch 00009: val_acc did not improve from 0.87464\n",
      "Epoch 10/100\n",
      "238548/238548 [==============================] - 1210s 5ms/step - loss: 0.2478 - acc: 0.8942 - val_loss: 0.5237 - val_acc: 0.7122\n",
      "\n",
      "Epoch 00010: val_acc did not improve from 0.87464\n",
      "Epoch 11/100\n",
      "238548/238548 [==============================] - 1214s 5ms/step - loss: 0.2444 - acc: 0.8961 - val_loss: 0.3178 - val_acc: 0.8694\n",
      "\n",
      "Epoch 00011: val_acc did not improve from 0.87464\n",
      "Epoch 12/100\n",
      "238548/238548 [==============================] - 1203s 5ms/step - loss: 0.2427 - acc: 0.8970 - val_loss: 0.3068 - val_acc: 0.8772\n",
      "\n",
      "Epoch 00012: val_acc improved from 0.87464 to 0.87718, saving model to final_aug_best.hdf5\n",
      "Epoch 13/100\n",
      "238548/238548 [==============================] - 1202s 5ms/step - loss: 0.2417 - acc: 0.8974 - val_loss: 0.3428 - val_acc: 0.8584\n",
      "\n",
      "Epoch 00013: val_acc did not improve from 0.87718\n",
      "Epoch 14/100\n",
      "238548/238548 [==============================] - 1211s 5ms/step - loss: 0.2389 - acc: 0.8986 - val_loss: 0.7712 - val_acc: 0.7302\n",
      "\n",
      "Epoch 00014: val_acc did not improve from 0.87718\n",
      "Epoch 15/100\n",
      "238548/238548 [==============================] - 1201s 5ms/step - loss: 0.2362 - acc: 0.8994 - val_loss: 0.6623 - val_acc: 0.8010\n",
      "\n",
      "Epoch 00015: val_acc did not improve from 0.87718\n",
      "Epoch 16/100\n",
      "238548/238548 [==============================] - 1224s 5ms/step - loss: 0.2343 - acc: 0.9003 - val_loss: 0.3108 - val_acc: 0.8672\n",
      "\n",
      "Epoch 00016: val_acc did not improve from 0.87718\n",
      "Epoch 17/100\n",
      "238548/238548 [==============================] - 1212s 5ms/step - loss: 0.2324 - acc: 0.9019 - val_loss: 0.3578 - val_acc: 0.8476\n",
      "\n",
      "Epoch 00017: val_acc did not improve from 0.87718\n",
      "Epoch 18/100\n",
      "238548/238548 [==============================] - 1203s 5ms/step - loss: 0.2291 - acc: 0.9025 - val_loss: 0.3108 - val_acc: 0.8739\n",
      "\n",
      "Epoch 00018: val_acc did not improve from 0.87718\n",
      "Epoch 19/100\n",
      "238548/238548 [==============================] - 1206s 5ms/step - loss: 0.2277 - acc: 0.9033 - val_loss: 0.7332 - val_acc: 0.8041\n",
      "\n",
      "Epoch 00019: val_acc did not improve from 0.87718\n",
      "Epoch 20/100\n",
      "238548/238548 [==============================] - 1196s 5ms/step - loss: 0.2263 - acc: 0.9040 - val_loss: 0.3177 - val_acc: 0.8633\n",
      "\n",
      "Epoch 00020: val_acc did not improve from 0.87718\n",
      "Epoch 21/100\n",
      "238548/238548 [==============================] - 1205s 5ms/step - loss: 0.2236 - acc: 0.9045 - val_loss: 0.3752 - val_acc: 0.8509\n",
      "\n",
      "Epoch 00021: val_acc did not improve from 0.87718\n",
      "Epoch 22/100\n",
      "238548/238548 [==============================] - 1197s 5ms/step - loss: 0.2209 - acc: 0.9058 - val_loss: 0.3197 - val_acc: 0.8713\n",
      "\n",
      "Epoch 00022: val_acc did not improve from 0.87718\n",
      "Epoch 23/100\n",
      "238548/238548 [==============================] - 1218s 5ms/step - loss: 0.2192 - acc: 0.9065 - val_loss: 0.3134 - val_acc: 0.8713\n",
      "\n",
      "Epoch 00023: val_acc did not improve from 0.87718\n",
      "Epoch 24/100\n",
      "238548/238548 [==============================] - 1201s 5ms/step - loss: 0.2177 - acc: 0.9072 - val_loss: 0.3486 - val_acc: 0.8595\n",
      "\n",
      "Epoch 00024: val_acc did not improve from 0.87718\n",
      "Epoch 25/100\n",
      "238548/238548 [==============================] - 1201s 5ms/step - loss: 0.2157 - acc: 0.9076 - val_loss: 0.3259 - val_acc: 0.8687\n",
      "\n",
      "Epoch 00025: val_acc did not improve from 0.87718\n",
      "Epoch 26/100\n",
      "238548/238548 [==============================] - 1202s 5ms/step - loss: 0.2135 - acc: 0.9089 - val_loss: 0.5870 - val_acc: 0.8367\n",
      "\n",
      "Epoch 00026: val_acc did not improve from 0.87718\n",
      "Epoch 27/100\n",
      "238548/238548 [==============================] - 1206s 5ms/step - loss: 0.2111 - acc: 0.9098 - val_loss: 0.3079 - val_acc: 0.8716\n",
      "\n",
      "Epoch 00027: val_acc did not improve from 0.87718\n",
      "Epoch 28/100\n",
      "238548/238548 [==============================] - 1217s 5ms/step - loss: 0.2085 - acc: 0.9110 - val_loss: 0.4268 - val_acc: 0.8516\n",
      "\n",
      "Epoch 00028: val_acc did not improve from 0.87718\n",
      "Epoch 29/100\n",
      "238548/238548 [==============================] - 1216s 5ms/step - loss: 0.2067 - acc: 0.9118 - val_loss: 0.5131 - val_acc: 0.8462\n",
      "\n",
      "Epoch 00029: val_acc did not improve from 0.87718\n",
      "Epoch 30/100\n",
      "238548/238548 [==============================] - 1192s 5ms/step - loss: 0.2051 - acc: 0.9124 - val_loss: 0.3247 - val_acc: 0.8668\n",
      "\n",
      "Epoch 00030: val_acc did not improve from 0.87718\n",
      "Epoch 31/100\n",
      "238548/238548 [==============================] - 1186s 5ms/step - loss: 0.2017 - acc: 0.9139 - val_loss: 0.3438 - val_acc: 0.8653\n",
      "\n",
      "Epoch 00031: val_acc did not improve from 0.87718\n",
      "Epoch 32/100\n",
      "238548/238548 [==============================] - 1194s 5ms/step - loss: 0.2002 - acc: 0.9142 - val_loss: 1.7156 - val_acc: 0.7547\n",
      "\n",
      "Epoch 00032: val_acc did not improve from 0.87718\n",
      "Epoch 00032: early stopping\n"
     ]
    }
   ],
   "source": [
    "M_aug=model_aug.fit(X_aug, y_aug,validation_data=(X_val, y_val),batch_size=256,  epochs=100,callbacks=[checkpoint_aug,es_aug])\n"
   ]
  },
  {
   "cell_type": "code",
   "execution_count": 168,
   "metadata": {},
   "outputs": [
    {
     "data": {
      "text/plain": [
       "<matplotlib.legend.Legend at 0x7fbd25465710>"
      ]
     },
     "execution_count": 168,
     "metadata": {},
     "output_type": "execute_result"
    },
    {
     "data": {
      "image/png": "[encoded data removed]",
      "text/plain": [
       "<Figure size 864x432 with 2 Axes>"
      ]
     },
     "metadata": {
      "needs_background": "light"
     },
     "output_type": "display_data"
    }
   ],
   "source": [
    "plt.figure(figsize = (12,6))\n",
    "plt.subplot(2,1,1)\n",
    "plt.plot(M_aug.history['acc'], label=\"train_acc\")\n",
    "plt.plot(M_aug.history['val_acc'], label = \"Validation_acc\")\n",
    "plt.legend()\n",
    "plt.subplot(2,1,2)\n",
    "plt.plot(M_aug.history['loss'], label = \"train_loss\")\n",
    "plt.plot(M_aug.history['val_loss'], label = \"Validation_loss\")\n",
    "plt.legend()"
   ]
  },
  {
   "cell_type": "code",
   "execution_count": 172,
   "metadata": {},
   "outputs": [],
   "source": [
    "model=load_model(\"final_aug_best.hdf5\")"
   ]
  },
  {
   "cell_type": "code",
   "execution_count": 173,
   "metadata": {},
   "outputs": [
    {
     "name": "stdout",
     "output_type": "stream",
     "text": [
      "\n",
      "Test accuracy: 0.8487276817095459\n",
      "\n",
      "Test Loss: 0.34988978740778093\n"
     ]
    }
   ],
   "source": [
    "test_loss, test_acc = model.evaluate(X_test,y_test, verbose=2)\n",
    "\n",
    "print('\\nTest accuracy:', test_acc)\n",
    "print('\\nTest Loss:', test_loss)"
   ]
  },
  {
   "cell_type": "code",
   "execution_count": 174,
   "metadata": {},
   "outputs": [],
   "source": [
    "Y_pred = model.predict(X_test)"
   ]
  },
  {
   "cell_type": "code",
   "execution_count": 175,
   "metadata": {},
   "outputs": [
    {
     "data": {
      "text/plain": [
       "array([[24690,  3741],\n",
       "       [ 2715, 11532]])"
      ]
     },
     "execution_count": 175,
     "metadata": {},
     "output_type": "execute_result"
    }
   ],
   "source": [
    "y_pred = (Y_pred > 0.5).astype(np.int)\n",
    "confusion_matrix(y_test, y_pred)"
   ]
  },
  {
   "cell_type": "code",
   "execution_count": 176,
   "metadata": {},
   "outputs": [
    {
     "data": {
      "text/plain": [
       "Text(0.5, 1.0, 'Cancer Prediction')"
      ]
     },
     "execution_count": 176,
     "metadata": {},
     "output_type": "execute_result"
    },
    {
     "data": {
      "image/png": "[encoded data removed]",
      "text/plain": [
       "<Figure size 432x288 with 2 Axes>"
      ]
     },
     "metadata": {
      "needs_background": "light"
     },
     "output_type": "display_data"
    }
   ],
   "source": [
    "cm=confusion_matrix(y_test, y_pred)\n",
    "sns.heatmap(cm, annot=True,\n",
    "                    cmap=plt.cm.Blues,fmt=\"d\",\n",
    "                   xticklabels=['No tumor', 'tumor'],\n",
    "                   yticklabels=['No tumor', 'tumor']).set_title('Cancer Prediction')"
   ]
  },
  {
   "cell_type": "code",
   "execution_count": 178,
   "metadata": {},
   "outputs": [
    {
     "name": "stdout",
     "output_type": "stream",
     "text": [
      "Precision: 0.827994216265608\n",
      "Recall: 0.8389259203933639\n"
     ]
    }
   ],
   "source": [
    "recall = recall_score(y_test, y_pred, average='macro')\n",
    "precision = precision_score(y_test, y_pred, average='macro')\n",
    "print(\"Precision:\" ,precision)\n",
    "print(\"Recall:\", recall)"
   ]
  },
  {
   "cell_type": "code",
   "execution_count": 180,
   "metadata": {},
   "outputs": [],
   "source": [
    "model_aug = Sequential()\n",
    "model_aug.add(Conv2D(32, kernel_size=(3, 3), activation='relu', padding=\"same\", input_shape=(50, 50, 3)))\n",
    "model_aug.add(MaxPooling2D(pool_size=(2, 2)))\n",
    "model_aug.add(BatchNormalization())\n",
    "\n",
    "model_aug.add(Conv2D(64, kernel_size=(3, 3), activation='relu', padding=\"same\"))\n",
    "model_aug.add(MaxPooling2D(pool_size=(2, 2)))\n",
    "model_aug.add(BatchNormalization())\n",
    "\n",
    "\n",
    "model_aug.add(Conv2D(128, kernel_size=(3, 3), activation='relu', padding=\"same\"))\n",
    "model_aug.add(MaxPooling2D(pool_size=(2, 2)))\n",
    "model_aug.add(BatchNormalization())\n",
    "\n",
    "\n",
    "model_aug.add(Conv2D(128, kernel_size=(3, 3), activation='relu', padding=\"same\"))\n",
    "model_aug.add(MaxPooling2D(pool_size=(2, 2)))\n",
    "\n",
    "model_aug.add(Flatten())\n",
    "\n",
    "model_aug.add(Dense(128, activation = 'relu'))\n",
    "model_aug.add(Dropout(0.3))\n",
    "model_aug.add(Dense(1, activation='sigmoid'))\n",
    "\n",
    "model_aug.compile(loss=keras.losses.binary_crossentropy,\n",
    "              optimizer=opt,\n",
    "              metrics=['acc'])\n",
    "\n",
    "checkpoint_aug = ModelCheckpoint(\"final_aug_best5.hdf5\", monitor='val_acc', verbose=1,\n",
    "    save_best_only=True, mode='max')\n",
    "es_aug = EarlyStopping(monitor='val_loss', mode='min', verbose=1, patience=10)\n",
    "\n"
   ]
  },
  {
   "cell_type": "code",
   "execution_count": 181,
   "metadata": {},
   "outputs": [
    {
     "name": "stdout",
     "output_type": "stream",
     "text": [
      "Train on 238548 samples, validate on 47297 samples\n",
      "Epoch 1/100\n",
      "238548/238548 [==============================] - 1462s 6ms/step - loss: 0.3618 - acc: 0.8373 - val_loss: 0.4538 - val_acc: 0.7766\n",
      "\n",
      "Epoch 00001: val_acc improved from -inf to 0.77658, saving model to final_aug_best5.hdf5\n",
      "Epoch 2/100\n",
      "238548/238548 [==============================] - 1495s 6ms/step - loss: 0.2907 - acc: 0.8766 - val_loss: 0.3607 - val_acc: 0.8433\n",
      "\n",
      "Epoch 00002: val_acc improved from 0.77658 to 0.84329, saving model to final_aug_best5.hdf5\n",
      "Epoch 3/100\n",
      "238548/238548 [==============================] - 1563s 7ms/step - loss: 0.2767 - acc: 0.8831 - val_loss: 0.4192 - val_acc: 0.8299\n",
      "\n",
      "Epoch 00003: val_acc did not improve from 0.84329\n",
      "Epoch 4/100\n",
      "238548/238548 [==============================] - 1616s 7ms/step - loss: 0.2699 - acc: 0.8847 - val_loss: 0.3493 - val_acc: 0.8528\n",
      "\n",
      "Epoch 00004: val_acc improved from 0.84329 to 0.85276, saving model to final_aug_best5.hdf5\n",
      "Epoch 5/100\n",
      "238548/238548 [==============================] - 1576s 7ms/step - loss: 0.2641 - acc: 0.8872 - val_loss: 0.3317 - val_acc: 0.8635\n",
      "\n",
      "Epoch 00005: val_acc improved from 0.85276 to 0.86352, saving model to final_aug_best5.hdf5\n",
      "Epoch 6/100\n",
      "238548/238548 [==============================] - 1678s 7ms/step - loss: 0.2605 - acc: 0.8882 - val_loss: 0.3566 - val_acc: 0.8432\n",
      "\n",
      "Epoch 00006: val_acc did not improve from 0.86352\n",
      "Epoch 7/100\n",
      "238548/238548 [==============================] - 1606s 7ms/step - loss: 0.2569 - acc: 0.8899 - val_loss: 0.3780 - val_acc: 0.8339\n",
      "\n",
      "Epoch 00007: val_acc did not improve from 0.86352\n",
      "Epoch 8/100\n",
      "238548/238548 [==============================] - 1710s 7ms/step - loss: 0.2549 - acc: 0.8911 - val_loss: 0.5878 - val_acc: 0.6702\n",
      "\n",
      "Epoch 00008: val_acc did not improve from 0.86352\n",
      "Epoch 9/100\n",
      "238548/238548 [==============================] - 1736s 7ms/step - loss: 0.2526 - acc: 0.8913 - val_loss: 0.3946 - val_acc: 0.8308\n",
      "\n",
      "Epoch 00009: val_acc did not improve from 0.86352\n",
      "Epoch 10/100\n",
      "238548/238548 [==============================] - 1612s 7ms/step - loss: 0.2503 - acc: 0.8920 - val_loss: 0.5190 - val_acc: 0.8042\n",
      "\n",
      "Epoch 00010: val_acc did not improve from 0.86352\n",
      "Epoch 11/100\n",
      "238548/238548 [==============================] - 1694s 7ms/step - loss: 0.2498 - acc: 0.8925 - val_loss: 0.3246 - val_acc: 0.8596\n",
      "\n",
      "Epoch 00011: val_acc did not improve from 0.86352\n",
      "Epoch 12/100\n",
      "238548/238548 [==============================] - 1792s 8ms/step - loss: 0.2468 - acc: 0.8942 - val_loss: 0.4996 - val_acc: 0.8122\n",
      "\n",
      "Epoch 00012: val_acc did not improve from 0.86352\n",
      "Epoch 13/100\n",
      "238548/238548 [==============================] - 1738s 7ms/step - loss: 0.2451 - acc: 0.8946 - val_loss: 0.3906 - val_acc: 0.8347\n",
      "\n",
      "Epoch 00013: val_acc did not improve from 0.86352\n",
      "Epoch 14/100\n",
      "238548/238548 [==============================] - 1723s 7ms/step - loss: 0.2439 - acc: 0.8954 - val_loss: 0.3116 - val_acc: 0.8686\n",
      "\n",
      "Epoch 00014: val_acc improved from 0.86352 to 0.86855, saving model to final_aug_best5.hdf5\n",
      "Epoch 15/100\n",
      "238548/238548 [==============================] - 1703s 7ms/step - loss: 0.2432 - acc: 0.8954 - val_loss: 0.3164 - val_acc: 0.8654\n",
      "\n",
      "Epoch 00015: val_acc did not improve from 0.86855\n",
      "Epoch 16/100\n",
      "238548/238548 [==============================] - 1627s 7ms/step - loss: 0.2416 - acc: 0.8966 - val_loss: 0.3903 - val_acc: 0.8413\n",
      "\n",
      "Epoch 00016: val_acc did not improve from 0.86855\n",
      "Epoch 17/100\n",
      "238548/238548 [==============================] - 1591s 7ms/step - loss: 0.2407 - acc: 0.8965 - val_loss: 0.6481 - val_acc: 0.6452\n",
      "\n",
      "Epoch 00017: val_acc did not improve from 0.86855\n",
      "Epoch 18/100\n",
      "238548/238548 [==============================] - 1593s 7ms/step - loss: 0.2387 - acc: 0.8975 - val_loss: 0.3361 - val_acc: 0.8586\n",
      "\n",
      "Epoch 00018: val_acc did not improve from 0.86855\n",
      "Epoch 19/100\n",
      "238548/238548 [==============================] - 1622s 7ms/step - loss: 0.2380 - acc: 0.8982 - val_loss: 0.3055 - val_acc: 0.8705\n",
      "\n",
      "Epoch 00019: val_acc improved from 0.86855 to 0.87050, saving model to final_aug_best5.hdf5\n",
      "Epoch 20/100\n",
      "238548/238548 [==============================] - 1615s 7ms/step - loss: 0.2368 - acc: 0.8989 - val_loss: 0.3593 - val_acc: 0.8513\n",
      "\n",
      "Epoch 00020: val_acc did not improve from 0.87050\n",
      "Epoch 21/100\n",
      "238548/238548 [==============================] - 1583s 7ms/step - loss: 0.2356 - acc: 0.8989 - val_loss: 0.8119 - val_acc: 0.7689\n",
      "\n",
      "Epoch 00021: val_acc did not improve from 0.87050\n",
      "Epoch 22/100\n",
      "238548/238548 [==============================] - 1582s 7ms/step - loss: 0.2351 - acc: 0.8991 - val_loss: 0.3112 - val_acc: 0.8694\n",
      "\n",
      "Epoch 00022: val_acc did not improve from 0.87050\n",
      "Epoch 23/100\n",
      "238548/238548 [==============================] - 1584s 7ms/step - loss: 0.2336 - acc: 0.8998 - val_loss: 0.7307 - val_acc: 0.7879\n",
      "\n",
      "Epoch 00023: val_acc did not improve from 0.87050\n",
      "Epoch 24/100\n",
      "238548/238548 [==============================] - 1629s 7ms/step - loss: 0.2328 - acc: 0.9007 - val_loss: 0.4471 - val_acc: 0.8347\n",
      "\n",
      "Epoch 00024: val_acc did not improve from 0.87050\n",
      "Epoch 25/100\n",
      "238548/238548 [==============================] - 1782s 7ms/step - loss: 0.2314 - acc: 0.9009 - val_loss: 0.3101 - val_acc: 0.8683\n",
      "\n",
      "Epoch 00025: val_acc did not improve from 0.87050\n",
      "Epoch 26/100\n",
      "238548/238548 [==============================] - 1794s 8ms/step - loss: 0.2304 - acc: 0.9014 - val_loss: 0.3527 - val_acc: 0.8595\n",
      "\n",
      "Epoch 00026: val_acc did not improve from 0.87050\n",
      "Epoch 27/100\n",
      "238548/238548 [==============================] - 1624s 7ms/step - loss: 0.2295 - acc: 0.9024 - val_loss: 0.5053 - val_acc: 0.8161\n",
      "\n",
      "Epoch 00027: val_acc did not improve from 0.87050\n",
      "Epoch 28/100\n",
      "238548/238548 [==============================] - 1587s 7ms/step - loss: 0.2291 - acc: 0.9024 - val_loss: 0.7009 - val_acc: 0.6047\n",
      "\n",
      "Epoch 00028: val_acc did not improve from 0.87050\n",
      "Epoch 29/100\n",
      "238548/238548 [==============================] - 1588s 7ms/step - loss: 0.2276 - acc: 0.9027 - val_loss: 0.6249 - val_acc: 0.6668\n",
      "\n",
      "Epoch 00029: val_acc did not improve from 0.87050\n",
      "Epoch 00029: early stopping\n"
     ]
    }
   ],
   "source": [
    "M_aug=model_aug.fit(X_aug, y_aug,validation_data=(X_val, y_val),batch_size=256,  epochs=100,callbacks=[checkpoint_aug,es_aug])"
   ]
  },
  {
   "cell_type": "code",
   "execution_count": 182,
   "metadata": {},
   "outputs": [
    {
     "data": {
      "text/plain": [
       "<matplotlib.legend.Legend at 0x7fbcc5238bd0>"
      ]
     },
     "execution_count": 182,
     "metadata": {},
     "output_type": "execute_result"
    },
    {
     "data": {
      "image/png": "[encoded data removed]",
      "text/plain": [
       "<Figure size 864x432 with 2 Axes>"
      ]
     },
     "metadata": {
      "needs_background": "light"
     },
     "output_type": "display_data"
    }
   ],
   "source": [
    "plt.figure(figsize = (12,6))\n",
    "plt.subplot(2,1,1)\n",
    "plt.plot(M_aug.history['acc'], label=\"train_acc\")\n",
    "plt.plot(M_aug.history['val_acc'], label = \"Validation_acc\")\n",
    "plt.legend()\n",
    "plt.subplot(2,1,2)\n",
    "plt.plot(M_aug.history['loss'], label = \"train_loss\")\n",
    "plt.plot(M_aug.history['val_loss'], label = \"Validation_loss\")\n",
    "plt.legend()"
   ]
  },
  {
   "cell_type": "code",
   "execution_count": 198,
   "metadata": {},
   "outputs": [],
   "source": [
    "def original_breast_tissue(patient_id):\n",
    "    patient_df = test_df.loc[test_df['P_id']== patient_id,:]\n",
    "    \n",
    "    max_coord = np.max((*patient_df.X,*patient_df.Y))\n",
    "    base = 255*np.ones(shape = (max_coord + 50, max_coord + 50, 3)).astype(np.uint8)\n",
    "    mask = 255*np.ones(shape = (max_coord + 50, max_coord + 50, 3)).astype(np.uint8)\n",
    "    \n",
    "    for X,Y,Class,path in zip(patient_df['X'],patient_df['Y'],patient_df['Class'],patient_df['path']):\n",
    "        try:\n",
    "            img = io.imread(path)\n",
    "            base[Y:Y+50,X:X+50] = img\n",
    "            \n",
    "            if Class == 1:\n",
    "                mask[Y:Y+50,X:X+50] = [0,0,255]\n",
    "        except: pass\n",
    "    alpha = 0.6\n",
    "    img = (mask * (1.0 - alpha) + base * alpha).astype('uint8')\n",
    "    io.imshow(img)\n",
    "    return img"
   ]
  },
  {
   "cell_type": "code",
   "execution_count": 213,
   "metadata": {},
   "outputs": [],
   "source": [
    "def predicted_breast_tissue(patient_id):\n",
    "    patient_df = prediction_df.loc[test_df['P_id']== patient_id,:]\n",
    "    \n",
    "    max_coord = np.max((*patient_df.X,*patient_df.Y))\n",
    "    base = 255*np.ones(shape = (max_coord + 50, max_coord + 50, 3)).astype(np.uint8)\n",
    "    mask = 255*np.ones(shape = (max_coord + 50, max_coord + 50, 3)).astype(np.uint8)\n",
    "    \n",
    "    for X,Y,Class,path in zip(patient_df['X'],patient_df['Y'],patient_df['Class'],patient_df['path']):\n",
    "        try:\n",
    "            img = io.imread(path)\n",
    "            base[Y:Y+50,X:X+50] = img\n",
    "            \n",
    "            if Class == 1:\n",
    "                mask[Y:Y+50,X:X+50] = [0,0,255]\n",
    "        except: pass\n",
    "    alpha = 0.6\n",
    "    img = (mask * (1.0 - alpha) + base * alpha).astype('uint8')\n",
    "    io.imshow(img)\n",
    "    return img"
   ]
  },
  {
   "cell_type": "code",
   "execution_count": 189,
   "metadata": {},
   "outputs": [
    {
     "name": "stdout",
     "output_type": "stream",
     "text": [
      "Predicted data: 0    27405\n",
      "1    15273\n",
      "Name: Class, dtype: int64\n"
     ]
    }
   ],
   "source": [
    "prediction_df=test_df.filter(['P_id','X','Y','path'],axis=1)\n",
    "prediction_df['Class']=y_pred\n",
    "#print(\"Original data:\",data.target.value_counts())\n",
    "print(\"Predicted data:\",prediction_df.Class.value_counts())"
   ]
  },
  {
   "cell_type": "code",
   "execution_count": 190,
   "metadata": {},
   "outputs": [
    {
     "data": {
      "text/plain": [
       "10290    2031\n",
       "12880    1935\n",
       "10302    1907\n",
       "14155    1877\n",
       "13462    1754\n",
       "12906    1703\n",
       "9265     1677\n",
       "12818    1611\n",
       "9290     1542\n",
       "8918     1541\n",
       "13613    1457\n",
       "9178     1443\n",
       "12821    1385\n",
       "9036     1306\n",
       "9345     1185\n",
       "9266     1171\n",
       "15902    1167\n",
       "9325     1128\n",
       "16896    1127\n",
       "12820    1122\n",
       "12955    1062\n",
       "15510    1061\n",
       "9176     1045\n",
       "15903    1039\n",
       "10276     939\n",
       "16570     917\n",
       "10274     878\n",
       "15513     869\n",
       "12901     808\n",
       "12822     761\n",
       "15514     638\n",
       "14306     431\n",
       "16533     367\n",
       "10255     272\n",
       "12811     251\n",
       "16531     249\n",
       "9035      236\n",
       "14078     221\n",
       "12871     182\n",
       "8916      171\n",
       "9175      118\n",
       "9262       94\n",
       "Name: P_id, dtype: int64"
      ]
     },
     "execution_count": 190,
     "metadata": {},
     "output_type": "execute_result"
    }
   ],
   "source": [
    "prediction_df.P_id.value_counts()"
   ]
  },
  {
   "cell_type": "code",
   "execution_count": 214,
   "metadata": {},
   "outputs": [
    {
     "data": {
      "image/png": "[encoded data removed]",
      "text/plain": [
       "<Figure size 432x288 with 2 Axes>"
      ]
     },
     "metadata": {
      "needs_background": "light"
     },
     "output_type": "display_data"
    }
   ],
   "source": [
    "fig, axes = plt.subplots(1, 2)\n",
    "img1 = original_breast_tissue(12818)\n",
    "img2 = predicted_breast_tissue(12818)\n",
    "axes[0].imshow(img1)\n",
    "axes[1].imshow(img2) \n",
    "axes[0].title.set_text('Original tissue')\n",
    "axes[1].title.set_text('predicted tissue')\n",
    "#This has more false negatives"
   ]
  },
  {
   "cell_type": "code",
   "execution_count": 215,
   "metadata": {},
   "outputs": [
    {
     "data": {
      "image/png": "[encoded data removed]",
      "text/plain": [
       "<Figure size 432x288 with 2 Axes>"
      ]
     },
     "metadata": {
      "needs_background": "light"
     },
     "output_type": "display_data"
    }
   ],
   "source": [
    "fig, axes = plt.subplots(1, 2)\n",
    "img1 = original_breast_tissue(13613)\n",
    "img2 = predicted_breast_tissue(13613)\n",
    "axes[0].imshow(img1)\n",
    "axes[1].imshow(img2) \n",
    "axes[0].title.set_text('Original tissue')\n",
    "axes[1].title.set_text('predicted tissue')\n",
    "\n",
    "#With false negatives and false positives"
   ]
  },
  {
   "cell_type": "code",
   "execution_count": null,
   "metadata": {},
   "outputs": [],
   "source": []
  }
 ],
 "metadata": {
  "kernelspec": {
   "display_name": "Python [conda env:breastcancer_env]",
   "language": "python",
   "name": "conda-env-breastcancer_env-py"
  },
  "language_info": {
   "codemirror_mode": {
    "name": "ipython",
    "version": 3
   },
   "file_extension": ".py",
   "mimetype": "text/x-python",
   "name": "python",
   "nbconvert_exporter": "python",
   "pygments_lexer": "ipython3",
   "version": "3.8.16"
  }
 },
 "nbformat": 4,
 "nbformat_minor": 4
}
