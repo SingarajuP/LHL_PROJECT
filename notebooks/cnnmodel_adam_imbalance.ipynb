{
 "cells": [
  {
   "cell_type": "code",
   "execution_count": 1,
   "id": "9afe4d2f",
   "metadata": {},
   "outputs": [],
   "source": [
    "import numpy as np \n",
    "import pandas as pd \n",
    "import matplotlib.pyplot as plt\n",
    "%matplotlib inline\n",
    "import seaborn as sns\n",
    "from os import listdir\n",
    "from glob import glob\n",
    "from PIL import Image\n",
    "import os\n",
    "import cv2\n",
    "import scipy.ndimage as ndimage\n",
    "from skimage import io"
   ]
  },
  {
   "cell_type": "code",
   "execution_count": 2,
   "id": "3dc510e0",
   "metadata": {},
   "outputs": [],
   "source": [
    "from sklearn.model_selection import train_test_split\n",
    "from sklearn.metrics import classification_report,confusion_matrix,precision_score,recall_score\n",
    "from sklearn.metrics import roc_curve,auc"
   ]
  },
  {
   "cell_type": "code",
   "execution_count": 3,
   "id": "3acbddb4",
   "metadata": {},
   "outputs": [],
   "source": [
    "import tensorflow as tf\n",
    "from tensorflow import keras\n",
    "from keras.utils import load_img, img_to_array\n",
    "from keras.losses import binary_crossentropy\n",
    "from keras.models import Sequential,load_model\n",
    "from keras.layers import Conv2D,MaxPooling2D,Flatten,Dense,Dropout,BatchNormalization \n",
    "from keras.callbacks import EarlyStopping,ModelCheckpoint\n",
    "from keras import backend as K\n",
    "from keras import activations\n",
    "from keras.preprocessing.image import ImageDataGenerator\n",
    "from keras import optimizers\n",
    "\n",
    "\n",
    "from numpy import expand_dims\n"
   ]
  },
  {
   "cell_type": "code",
   "execution_count": 4,
   "id": "473acc1d",
   "metadata": {},
   "outputs": [],
   "source": [
    "train_df=pd.read_csv(\"../data/processed/trainpath_df1.csv\")\n",
    "val_df=pd.read_csv(\"../data/processed/valpath_df1.csv\")\n",
    "test_df=pd.read_csv(\"../data/processed/testpath_df1.csv\")"
   ]
  },
  {
   "cell_type": "code",
   "execution_count": 5,
   "id": "b0b6609a",
   "metadata": {},
   "outputs": [],
   "source": [
    "def load_data(files):\n",
    "    X = []\n",
    "    y = []\n",
    "    for file in files:\n",
    "        img = load_img(file, target_size = (50,50))\n",
    "        pix = img_to_array(img)\n",
    "        pix /= 255\n",
    "        X.append(pix)\n",
    "        if(file[-5] == '1'):\n",
    "             y.append(1)\n",
    "        elif(file[-5] == '0'):\n",
    "            y.append(0)\n",
    "    return np.stack(X), y"
   ]
  },
  {
   "cell_type": "code",
   "execution_count": 6,
   "id": "46bda525",
   "metadata": {},
   "outputs": [
    {
     "data": {
      "text/plain": [
       "((188300, 50, 50, 3), (188300, 1))"
      ]
     },
     "execution_count": 6,
     "metadata": {},
     "output_type": "execute_result"
    }
   ],
   "source": [
    "X,y=load_data(train_df.path) #Loading training images into numpy arrays\n",
    "y=np.vstack(y)\n",
    "X.shape,y.shape"
   ]
  },
  {
   "cell_type": "code",
   "execution_count": 7,
   "id": "c7ca395c",
   "metadata": {},
   "outputs": [
    {
     "data": {
      "text/plain": [
       "((41625, 50, 50, 3), (41625, 1))"
      ]
     },
     "execution_count": 7,
     "metadata": {},
     "output_type": "execute_result"
    }
   ],
   "source": [
    "X_val,y_val=load_data(val_df.path) #Loading validation images into numpy arrays\n",
    "y_val=np.vstack(y_val)\n",
    "X_val.shape,y_val.shape"
   ]
  },
  {
   "cell_type": "markdown",
   "id": "737b681d",
   "metadata": {},
   "source": [
    "### Training the model with imbalance data"
   ]
  },
  {
   "cell_type": "code",
   "execution_count": 8,
   "id": "ce998a61",
   "metadata": {},
   "outputs": [],
   "source": [
    "opt=optimizers.Adam(learning_rate=0.01)"
   ]
  },
  {
   "cell_type": "code",
   "execution_count": 9,
   "id": "cbbf3e6b",
   "metadata": {},
   "outputs": [],
   "source": [
    "model = Sequential()\n",
    "model.add(Conv2D(32, kernel_size=(3, 3), activation='relu', padding=\"same\", input_shape=(50, 50, 3)))\n",
    "model.add(MaxPooling2D(pool_size=(2, 2)))\n",
    "model.add(BatchNormalization())\n",
    "\n",
    "model.add(Conv2D(64, kernel_size=(3, 3), activation='relu', padding=\"same\"))\n",
    "model.add(MaxPooling2D(pool_size=(2, 2)))\n",
    "model.add(BatchNormalization())\n",
    "\n",
    "\n",
    "model.add(Conv2D(128, kernel_size=(3, 3), activation='relu', padding=\"same\"))\n",
    "model.add(MaxPooling2D(pool_size=(2, 2)))\n",
    "model.add(BatchNormalization())\n",
    "\n",
    "\n",
    "model.add(Conv2D(128, kernel_size=(3, 3), activation='relu', padding=\"same\"))\n",
    "model.add(MaxPooling2D(pool_size=(2, 2)))\n",
    "\n",
    "model.add(Flatten())\n",
    "#model.add(Dense(256, activation='relu'))\n",
    "model.add(Dense(128, activation = 'relu'))\n",
    "model.add(Dropout(0.3))\n",
    "model.add(Dense(1, activation='sigmoid'))\n",
    "\n",
    "model.compile(loss=keras.losses.binary_crossentropy,\n",
    "              optimizer=opt,\n",
    "              metrics=['acc'])\n",
    "\n",
    "checkpoint = ModelCheckpoint(\"../models/final_imbalance_best_adam1.hdf5\", monitor='val_acc', verbose=1,\n",
    "    save_best_only=True, mode='max')\n",
    "\n",
    "\n",
    "es = EarlyStopping(monitor='val_loss', mode='min', verbose=1, patience=10)"
   ]
  },
  {
   "cell_type": "code",
   "execution_count": 10,
   "id": "c0aeeab6",
   "metadata": {
    "scrolled": true
   },
   "outputs": [
    {
     "name": "stdout",
     "output_type": "stream",
     "text": [
      "Epoch 1/100\n",
      "736/736 [==============================] - ETA: 0s - loss: 0.5952 - acc: 0.7227\n",
      "Epoch 1: val_acc improved from -inf to 0.68983, saving model to ../models/final_imbalance_best_adam1.hdf5\n",
      "736/736 [==============================] - 84s 112ms/step - loss: 0.5952 - acc: 0.7227 - val_loss: 221.0553 - val_acc: 0.6898\n",
      "Epoch 2/100\n",
      "736/736 [==============================] - ETA: 0s - loss: 0.5904 - acc: 0.7227\n",
      "Epoch 2: val_acc did not improve from 0.68983\n",
      "736/736 [==============================] - 82s 111ms/step - loss: 0.5904 - acc: 0.7227 - val_loss: 452.3026 - val_acc: 0.6898\n",
      "Epoch 3/100\n",
      "736/736 [==============================] - ETA: 0s - loss: 0.5904 - acc: 0.7227\n",
      "Epoch 3: val_acc did not improve from 0.68983\n",
      "736/736 [==============================] - 84s 114ms/step - loss: 0.5904 - acc: 0.7227 - val_loss: 452.5581 - val_acc: 0.6898\n",
      "Epoch 4/100\n",
      "736/736 [==============================] - ETA: 0s - loss: 0.5904 - acc: 0.7227\n",
      "Epoch 4: val_acc did not improve from 0.68983\n",
      "736/736 [==============================] - 84s 114ms/step - loss: 0.5904 - acc: 0.7227 - val_loss: 452.5685 - val_acc: 0.6898\n",
      "Epoch 5/100\n",
      "736/736 [==============================] - ETA: 0s - loss: 0.5904 - acc: 0.7227\n",
      "Epoch 5: val_acc did not improve from 0.68983\n",
      "736/736 [==============================] - 83s 113ms/step - loss: 0.5904 - acc: 0.7227 - val_loss: 452.5668 - val_acc: 0.6898\n",
      "Epoch 6/100\n",
      "736/736 [==============================] - ETA: 0s - loss: 0.5904 - acc: 0.7227\n",
      "Epoch 6: val_acc did not improve from 0.68983\n",
      "736/736 [==============================] - 83s 112ms/step - loss: 0.5904 - acc: 0.7227 - val_loss: 452.5557 - val_acc: 0.6898\n",
      "Epoch 7/100\n",
      "736/736 [==============================] - ETA: 0s - loss: 0.5904 - acc: 0.7227\n",
      "Epoch 7: val_acc did not improve from 0.68983\n",
      "736/736 [==============================] - 84s 114ms/step - loss: 0.5904 - acc: 0.7227 - val_loss: 452.5581 - val_acc: 0.6898\n",
      "Epoch 8/100\n",
      "736/736 [==============================] - ETA: 0s - loss: 0.5904 - acc: 0.7227\n",
      "Epoch 8: val_acc did not improve from 0.68983\n",
      "736/736 [==============================] - 82s 111ms/step - loss: 0.5904 - acc: 0.7227 - val_loss: 452.5547 - val_acc: 0.6898\n",
      "Epoch 9/100\n",
      "736/736 [==============================] - ETA: 0s - loss: 0.5904 - acc: 0.7227\n",
      "Epoch 9: val_acc did not improve from 0.68983\n",
      "736/736 [==============================] - 84s 114ms/step - loss: 0.5904 - acc: 0.7227 - val_loss: 452.5495 - val_acc: 0.6898\n",
      "Epoch 10/100\n",
      "736/736 [==============================] - ETA: 0s - loss: 0.5904 - acc: 0.7227\n",
      "Epoch 10: val_acc did not improve from 0.68983\n",
      "736/736 [==============================] - 83s 113ms/step - loss: 0.5904 - acc: 0.7227 - val_loss: 452.5627 - val_acc: 0.6898\n",
      "Epoch 11/100\n",
      "736/736 [==============================] - ETA: 0s - loss: 0.5905 - acc: 0.7227\n",
      "Epoch 11: val_acc did not improve from 0.68983\n",
      "736/736 [==============================] - 83s 112ms/step - loss: 0.5905 - acc: 0.7227 - val_loss: 452.5478 - val_acc: 0.6898\n",
      "Epoch 11: early stopping\n"
     ]
    }
   ],
   "source": [
    "M=model.fit(X, y,validation_data=(X_val, y_val),  epochs=100,batch_size=256,callbacks=[checkpoint,es])"
   ]
  },
  {
   "cell_type": "code",
   "execution_count": null,
   "id": "89726640",
   "metadata": {},
   "outputs": [],
   "source": []
  }
 ],
 "metadata": {
  "kernelspec": {
   "display_name": "Python [conda env:breastcancer_env]",
   "language": "python",
   "name": "conda-env-breastcancer_env-py"
  },
  "language_info": {
   "codemirror_mode": {
    "name": "ipython",
    "version": 3
   },
   "file_extension": ".py",
   "mimetype": "text/x-python",
   "name": "python",
   "nbconvert_exporter": "python",
   "pygments_lexer": "ipython3",
   "version": "3.8.16"
  }
 },
 "nbformat": 4,
 "nbformat_minor": 5
}
