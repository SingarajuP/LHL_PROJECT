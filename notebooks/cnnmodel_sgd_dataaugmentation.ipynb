{
 "cells": [
  {
   "cell_type": "code",
   "execution_count": 1,
   "id": "9afe4d2f",
   "metadata": {},
   "outputs": [],
   "source": [
    "import numpy as np \n",
    "import pandas as pd \n",
    "import matplotlib.pyplot as plt\n",
    "%matplotlib inline\n",
    "import seaborn as sns\n",
    "from os import listdir\n",
    "from glob import glob\n",
    "from PIL import Image\n",
    "import os\n",
    "import cv2\n",
    "import scipy.ndimage as ndimage\n",
    "from skimage import io"
   ]
  },
  {
   "cell_type": "code",
   "execution_count": 2,
   "id": "3dc510e0",
   "metadata": {},
   "outputs": [],
   "source": [
    "from sklearn.model_selection import train_test_split\n",
    "from sklearn.metrics import classification_report,confusion_matrix,precision_score,recall_score\n",
    "from sklearn.metrics import roc_curve,auc"
   ]
  },
  {
   "cell_type": "code",
   "execution_count": 3,
   "id": "3acbddb4",
   "metadata": {},
   "outputs": [],
   "source": [
    "import tensorflow as tf\n",
    "from tensorflow import keras\n",
    "from keras.utils import load_img, img_to_array\n",
    "from keras.losses import binary_crossentropy\n",
    "from keras.models import Sequential,load_model\n",
    "from keras.layers import Conv2D,MaxPooling2D,Flatten,Dense,Dropout,BatchNormalization \n",
    "from keras.callbacks import EarlyStopping,ModelCheckpoint\n",
    "from keras import backend as K\n",
    "from keras import activations\n",
    "from keras.preprocessing.image import ImageDataGenerator\n",
    "from keras import optimizers\n",
    "\n",
    "\n",
    "from numpy import expand_dims\n"
   ]
  },
  {
   "cell_type": "code",
   "execution_count": 45,
   "id": "473acc1d",
   "metadata": {},
   "outputs": [],
   "source": [
    "train_df=pd.read_csv(\"../data/processed/trainpath_df3.csv\")\n",
    "val_df=pd.read_csv(\"../data/processed/valpath_df3.csv\")\n",
    "test_df=pd.read_csv(\"../data/processed/testpath_df3.csv\")"
   ]
  },
  {
   "cell_type": "code",
   "execution_count": 33,
   "id": "2512fe6f",
   "metadata": {},
   "outputs": [],
   "source": [
    "def load_data(files):\n",
    "    X = []\n",
    "    y = []\n",
    "    for file in files:\n",
    "        img = load_img(file, target_size = (50,50))\n",
    "        pix = img_to_array(img)\n",
    "        pix /= 255\n",
    "        X.append(pix)\n",
    "        if(file[-5] == '1'):\n",
    "             y.append(1)\n",
    "        elif(file[-5] == '0'):\n",
    "            y.append(0)\n",
    "    return np.stack(X), y"
   ]
  },
  {
   "cell_type": "markdown",
   "id": "c8d5660f",
   "metadata": {},
   "source": [
    "### Data Augmentation"
   ]
  },
  {
   "cell_type": "code",
   "execution_count": 34,
   "id": "b0b6609a",
   "metadata": {},
   "outputs": [],
   "source": [
    "def load_aug_data(files):\n",
    "    X = []\n",
    "    y = []\n",
    "    datagen = ImageDataGenerator(horizontal_flip=True)\n",
    "\n",
    "    for file in files:\n",
    "        if(file[-5] == '1'):\n",
    "            img = load_img(file, target_size = (50,50))\n",
    "            data = img_to_array(img)\n",
    "            pix =data/ 255\n",
    "            X.append(pix)\n",
    "            y.append(1)\n",
    "            samples=expand_dims(data,0)\n",
    "            it = datagen.flow(samples, batch_size=1) \n",
    "            batch=it.next()\n",
    "            X.append(np.squeeze(batch, axis=0))\n",
    "            y.append(1)\n",
    "\n",
    "        elif(file[-5] == '0'):\n",
    "            img = load_img(file, target_size = (50,50))\n",
    "            pix = img_to_array(img)\n",
    "            pix /= 255\n",
    "            X.append(pix)\n",
    "            y.append(0)\n",
    "    return np.stack(X), y"
   ]
  },
  {
   "cell_type": "code",
   "execution_count": 46,
   "id": "46bda525",
   "metadata": {},
   "outputs": [
    {
     "data": {
      "text/plain": [
       "((242462, 50, 50, 3), (242462, 1))"
      ]
     },
     "execution_count": 46,
     "metadata": {},
     "output_type": "execute_result"
    }
   ],
   "source": [
    "X_aug,y_aug=load_aug_data(train_df.path)\n",
    "y_aug=np.vstack(y_aug)\n",
    "X_aug.shape,y_aug.shape"
   ]
  },
  {
   "cell_type": "code",
   "execution_count": 47,
   "id": "9cefb82a",
   "metadata": {},
   "outputs": [
    {
     "data": {
      "text/plain": [
       "(105912, 136550)"
      ]
     },
     "execution_count": 47,
     "metadata": {},
     "output_type": "execute_result"
    }
   ],
   "source": [
    "np.count_nonzero(y_aug == 1),np.count_nonzero(y_aug == 0)"
   ]
  },
  {
   "cell_type": "code",
   "execution_count": 48,
   "id": "c7ca395c",
   "metadata": {},
   "outputs": [
    {
     "data": {
      "text/plain": [
       "((47262, 50, 50, 3), (47262, 1))"
      ]
     },
     "execution_count": 48,
     "metadata": {},
     "output_type": "execute_result"
    }
   ],
   "source": [
    "X_val,y_val=load_data(val_df.path) \n",
    "y_val=np.vstack(y_val)\n",
    "X_val.shape,y_val.shape"
   ]
  },
  {
   "cell_type": "markdown",
   "id": "737b681d",
   "metadata": {},
   "source": [
    "### Training the model with data augmentation"
   ]
  },
  {
   "cell_type": "code",
   "execution_count": 38,
   "id": "47843765",
   "metadata": {},
   "outputs": [],
   "source": [
    "opt=optimizers.SGD(learning_rate=1e-3, momentum=0.9)"
   ]
  },
  {
   "cell_type": "code",
   "execution_count": 49,
   "id": "3e42e70d",
   "metadata": {},
   "outputs": [],
   "source": [
    "model = Sequential()\n",
    "model.add(Conv2D(32, kernel_size=(3, 3), activation='relu', padding=\"same\", input_shape=(50, 50, 3)))\n",
    "model.add(MaxPooling2D(pool_size=(2, 2)))\n",
    "model.add(BatchNormalization())\n",
    "\n",
    "model.add(Conv2D(64, kernel_size=(3, 3), activation='relu', padding=\"same\"))\n",
    "model.add(MaxPooling2D(pool_size=(2, 2)))\n",
    "model.add(BatchNormalization())\n",
    "\n",
    "\n",
    "model.add(Conv2D(128, kernel_size=(3, 3), activation='relu', padding=\"same\"))\n",
    "model.add(MaxPooling2D(pool_size=(2, 2)))\n",
    "model.add(BatchNormalization())\n",
    "\n",
    "\n",
    "model.add(Conv2D(128, kernel_size=(3, 3), activation='relu', padding=\"same\"))\n",
    "model.add(MaxPooling2D(pool_size=(2, 2)))\n",
    "\n",
    "model.add(Flatten())\n",
    "#model.add(Dense(256, activation='relu'))\n",
    "model.add(Dense(128, activation = 'relu'))\n",
    "model.add(Dropout(0.3))\n",
    "model.add(Dense(1, activation='sigmoid'))\n",
    "\n",
    "model.compile(loss=keras.losses.binary_crossentropy,\n",
    "              optimizer=opt,\n",
    "              metrics=['acc'])\n",
    "\n",
    "checkpoint = ModelCheckpoint(\"../models/final_aug_best_sgd3.hdf5\", monitor='val_acc', verbose=1,\n",
    "    save_best_only=True, mode='max')\n",
    "es = EarlyStopping(monitor='val_loss', mode='min', verbose=1, patience=10)\n",
    "\n"
   ]
  },
  {
   "cell_type": "code",
   "execution_count": 50,
   "id": "c319da7c",
   "metadata": {},
   "outputs": [
    {
     "name": "stdout",
     "output_type": "stream",
     "text": [
      "Epoch 1/100\n",
      "948/948 [==============================] - ETA: 0s - loss: 0.6869 - acc: 0.5632\n",
      "Epoch 1: val_acc improved from -inf to 0.70797, saving model to ../models/final_aug_best_sgd3.hdf5\n",
      "948/948 [==============================] - 95s 99ms/step - loss: 0.6869 - acc: 0.5632 - val_loss: 123.4825 - val_acc: 0.7080\n",
      "Epoch 2/100\n",
      "947/948 [============================>.] - ETA: 0s - loss: 0.6852 - acc: 0.5632\n",
      "Epoch 2: val_acc did not improve from 0.70797\n",
      "948/948 [==============================] - 96s 102ms/step - loss: 0.6852 - acc: 0.5632 - val_loss: 137.2075 - val_acc: 0.7080\n",
      "Epoch 3/100\n",
      "948/948 [==============================] - ETA: 0s - loss: 0.6851 - acc: 0.5632\n",
      "Epoch 3: val_acc did not improve from 0.70797\n",
      "948/948 [==============================] - 127s 134ms/step - loss: 0.6851 - acc: 0.5632 - val_loss: 137.2086 - val_acc: 0.7080\n",
      "Epoch 4/100\n",
      "948/948 [==============================] - ETA: 0s - loss: 0.6851 - acc: 0.5632\n",
      "Epoch 4: val_acc did not improve from 0.70797\n",
      "948/948 [==============================] - 161s 170ms/step - loss: 0.6851 - acc: 0.5632 - val_loss: 137.2092 - val_acc: 0.7080\n",
      "Epoch 5/100\n",
      "947/948 [============================>.] - ETA: 0s - loss: 0.6851 - acc: 0.5632\n",
      "Epoch 5: val_acc did not improve from 0.70797\n",
      "948/948 [==============================] - 156s 165ms/step - loss: 0.6851 - acc: 0.5632 - val_loss: 137.2098 - val_acc: 0.7080\n",
      "Epoch 6/100\n",
      "948/948 [==============================] - ETA: 0s - loss: 0.6851 - acc: 0.5632\n",
      "Epoch 6: val_acc did not improve from 0.70797\n",
      "948/948 [==============================] - 158s 166ms/step - loss: 0.6851 - acc: 0.5632 - val_loss: 137.2099 - val_acc: 0.7080\n",
      "Epoch 7/100\n",
      "947/948 [============================>.] - ETA: 0s - loss: 0.6851 - acc: 0.5632\n",
      "Epoch 7: val_acc did not improve from 0.70797\n",
      "948/948 [==============================] - 167s 176ms/step - loss: 0.6851 - acc: 0.5632 - val_loss: 137.2101 - val_acc: 0.7080\n",
      "Epoch 8/100\n",
      "947/948 [============================>.] - ETA: 0s - loss: 0.6851 - acc: 0.5632\n",
      "Epoch 8: val_acc did not improve from 0.70797\n",
      "948/948 [==============================] - 166s 175ms/step - loss: 0.6851 - acc: 0.5632 - val_loss: 137.2088 - val_acc: 0.7080\n",
      "Epoch 9/100\n",
      "947/948 [============================>.] - ETA: 0s - loss: 0.6851 - acc: 0.5632\n",
      "Epoch 9: val_acc did not improve from 0.70797\n",
      "948/948 [==============================] - 160s 169ms/step - loss: 0.6851 - acc: 0.5632 - val_loss: 137.2097 - val_acc: 0.7080\n",
      "Epoch 10/100\n",
      "947/948 [============================>.] - ETA: 0s - loss: 0.6851 - acc: 0.5632\n",
      "Epoch 10: val_acc did not improve from 0.70797\n",
      "948/948 [==============================] - 162s 171ms/step - loss: 0.6851 - acc: 0.5632 - val_loss: 137.2091 - val_acc: 0.7080\n",
      "Epoch 11/100\n",
      "947/948 [============================>.] - ETA: 0s - loss: 0.6851 - acc: 0.5632\n",
      "Epoch 11: val_acc did not improve from 0.70797\n",
      "948/948 [==============================] - 161s 170ms/step - loss: 0.6851 - acc: 0.5632 - val_loss: 137.2088 - val_acc: 0.7080\n",
      "Epoch 11: early stopping\n"
     ]
    }
   ],
   "source": [
    "M=model.fit(X_aug, y_aug,validation_data=(X_val, y_val),  epochs=100,batch_size=256, callbacks=[checkpoint,es])"
   ]
  },
  {
   "cell_type": "markdown",
   "id": "aaf73437",
   "metadata": {},
   "source": [
    "final_imbalance_best_sgd.hdf5 : 0.8124\n",
    "final_aug_best_sgd1.hdf5 : 0.\n",
    "final_aug_best_sgd2.hdf5 : 0.7835"
   ]
  },
  {
   "cell_type": "markdown",
   "id": "9cf73f80",
   "metadata": {},
   "source": [
    "For model final_aug_best_sgd1.hdf5"
   ]
  },
  {
   "cell_type": "code",
   "execution_count": 14,
   "id": "cc167155",
   "metadata": {},
   "outputs": [
    {
     "data": {
      "text/plain": [
       "((47599, 50, 50, 3), (47599, 1))"
      ]
     },
     "execution_count": 14,
     "metadata": {},
     "output_type": "execute_result"
    }
   ],
   "source": [
    "X_test,y_test=load_data(test_df.path)\n",
    "y_test=np.vstack(y_test)\n",
    "X_test.shape,y_test.shape"
   ]
  },
  {
   "cell_type": "code",
   "execution_count": 15,
   "id": "2c172bc5",
   "metadata": {},
   "outputs": [
    {
     "name": "stdout",
     "output_type": "stream",
     "text": [
      "1488/1488 - 13s - loss: 343.2090 - acc: 0.7127 - 13s/epoch - 9ms/step\n",
      "\n",
      "Test accuracy: 0.7127460837364197\n",
      "\n",
      "Test Loss: 343.208984375\n"
     ]
    }
   ],
   "source": [
    "test_loss, test_acc = model.evaluate(X_test,y_test, verbose=2)\n",
    "\n",
    "print('\\nTest accuracy:', test_acc)\n",
    "print('\\nTest Loss:', test_loss)"
   ]
  },
  {
   "cell_type": "code",
   "execution_count": 16,
   "id": "bf177187",
   "metadata": {},
   "outputs": [
    {
     "name": "stdout",
     "output_type": "stream",
     "text": [
      "1488/1488 [==============================] - 9s 5ms/step\n"
     ]
    }
   ],
   "source": [
    "Y_pred = model.predict(X_test)\n"
   ]
  },
  {
   "cell_type": "code",
   "execution_count": 17,
   "id": "bf97e8e2",
   "metadata": {},
   "outputs": [
    {
     "data": {
      "text/plain": [
       "array([[33925,     2],\n",
       "       [13671,     1]])"
      ]
     },
     "execution_count": 17,
     "metadata": {},
     "output_type": "execute_result"
    }
   ],
   "source": [
    "y_pred = (Y_pred > 0.5).astype(np.int64)\n",
    "\n",
    "confusion_matrix(y_test, y_pred)"
   ]
  },
  {
   "cell_type": "code",
   "execution_count": 18,
   "id": "66b3c7d9",
   "metadata": {},
   "outputs": [
    {
     "name": "stdout",
     "output_type": "stream",
     "text": [
      "Precision: 0.523051657001989\n",
      "Recall: 0.5000070960448364\n"
     ]
    }
   ],
   "source": [
    "recall = recall_score(y_test, y_pred, average='macro')\n",
    "precision = precision_score(y_test, y_pred, average='macro')\n",
    "print(\"Precision:\" ,precision)\n",
    "print(\"Recall:\", recall)"
   ]
  },
  {
   "cell_type": "markdown",
   "id": "d103f320",
   "metadata": {},
   "source": [
    "For model final_aug_best_sgd2.hdf5"
   ]
  },
  {
   "cell_type": "code",
   "execution_count": 28,
   "id": "b77b10cc",
   "metadata": {},
   "outputs": [
    {
     "data": {
      "text/plain": [
       "((44418, 50, 50, 3), (44418, 1))"
      ]
     },
     "execution_count": 28,
     "metadata": {},
     "output_type": "execute_result"
    }
   ],
   "source": [
    "X_test,y_test=load_data(test_df.path)\n",
    "y_test=np.vstack(y_test)\n",
    "X_test.shape,y_test.shape"
   ]
  },
  {
   "cell_type": "code",
   "execution_count": 29,
   "id": "fc4ce833",
   "metadata": {},
   "outputs": [
    {
     "name": "stdout",
     "output_type": "stream",
     "text": [
      "1389/1389 - 12s - loss: 133.2797 - acc: 0.7071 - 12s/epoch - 9ms/step\n",
      "\n",
      "Test accuracy: 0.707078218460083\n",
      "\n",
      "Test Loss: 133.27969360351562\n",
      "1389/1389 [==============================] - 8s 6ms/step\n"
     ]
    },
    {
     "data": {
      "text/plain": [
       "array([[31234,   628],\n",
       "       [12383,   173]])"
      ]
     },
     "execution_count": 29,
     "metadata": {},
     "output_type": "execute_result"
    }
   ],
   "source": [
    "test_loss, test_acc = model.evaluate(X_test,y_test, verbose=2)\n",
    "\n",
    "print('\\nTest accuracy:', test_acc)\n",
    "print('\\nTest Loss:', test_loss)\n",
    "Y_pred = model.predict(X_test)\n",
    "y_pred = (Y_pred > 0.5).astype(np.int64)\n",
    "\n",
    "confusion_matrix(y_test, y_pred)"
   ]
  },
  {
   "cell_type": "code",
   "execution_count": 30,
   "id": "bb52b1df",
   "metadata": {},
   "outputs": [
    {
     "name": "stdout",
     "output_type": "stream",
     "text": [
      "Precision: 0.46603847982511026\n",
      "Recall: 0.49703413698158205\n"
     ]
    }
   ],
   "source": [
    "recall = recall_score(y_test, y_pred, average='macro')\n",
    "precision = precision_score(y_test, y_pred, average='macro')\n",
    "print(\"Precision:\" ,precision)\n",
    "print(\"Recall:\", recall)"
   ]
  },
  {
   "cell_type": "markdown",
   "id": "bf64ccb2",
   "metadata": {},
   "source": [
    "For model final_aug_best_sgd.hdf5"
   ]
  },
  {
   "cell_type": "code",
   "execution_count": 42,
   "id": "5ce0cc25",
   "metadata": {},
   "outputs": [
    {
     "data": {
      "text/plain": [
       "((40573, 50, 50, 3), (40573, 1))"
      ]
     },
     "execution_count": 42,
     "metadata": {},
     "output_type": "execute_result"
    }
   ],
   "source": [
    "test_df=pd.read_csv(\"../data/processed/testpath_df.csv\")\n",
    "X_test,y_test=load_data(test_df.path)\n",
    "y_test=np.vstack(y_test)\n",
    "X_test.shape,y_test.shape"
   ]
  },
  {
   "cell_type": "code",
   "execution_count": 43,
   "id": "09f6d2a1",
   "metadata": {},
   "outputs": [
    {
     "name": "stdout",
     "output_type": "stream",
     "text": [
      "1268/1268 - 11s - loss: 119.7890 - acc: 0.7418 - 11s/epoch - 9ms/step\n",
      "\n",
      "Test accuracy: 0.7418480515480042\n",
      "\n",
      "Test Loss: 119.78897857666016\n",
      "1268/1268 [==============================] - 7s 5ms/step\n"
     ]
    },
    {
     "data": {
      "text/plain": [
       "array([[29996,   468],\n",
       "       [10006,   103]])"
      ]
     },
     "execution_count": 43,
     "metadata": {},
     "output_type": "execute_result"
    }
   ],
   "source": [
    "test_loss, test_acc = model.evaluate(X_test,y_test, verbose=2)\n",
    "\n",
    "print('\\nTest accuracy:', test_acc)\n",
    "print('\\nTest Loss:', test_loss)\n",
    "Y_pred = model.predict(X_test)\n",
    "y_pred = (Y_pred > 0.5).astype(np.int64)\n",
    "\n",
    "confusion_matrix(y_test, y_pred)"
   ]
  },
  {
   "cell_type": "code",
   "execution_count": 44,
   "id": "76d6bccc",
   "metadata": {},
   "outputs": [
    {
     "name": "stdout",
     "output_type": "stream",
     "text": [
      "Precision: 0.46512389792069064\n",
      "Recall: 0.4974132727950217\n"
     ]
    }
   ],
   "source": [
    "recall = recall_score(y_test, y_pred, average='macro')\n",
    "precision = precision_score(y_test, y_pred, average='macro')\n",
    "print(\"Precision:\" ,precision)\n",
    "print(\"Recall:\", recall)"
   ]
  },
  {
   "cell_type": "markdown",
   "id": "2e8b2e6d",
   "metadata": {},
   "source": [
    "For model final_aug_best_sgd3.hdf5"
   ]
  },
  {
   "cell_type": "code",
   "execution_count": 51,
   "id": "793cced2",
   "metadata": {},
   "outputs": [
    {
     "data": {
      "text/plain": [
       "((40756, 50, 50, 3), (40756, 1))"
      ]
     },
     "execution_count": 51,
     "metadata": {},
     "output_type": "execute_result"
    }
   ],
   "source": [
    "X_test,y_test=load_data(test_df.path)\n",
    "y_test=np.vstack(y_test)\n",
    "X_test.shape,y_test.shape"
   ]
  },
  {
   "cell_type": "code",
   "execution_count": 52,
   "id": "763abcd0",
   "metadata": {},
   "outputs": [
    {
     "name": "stdout",
     "output_type": "stream",
     "text": [
      "1274/1274 - 11s - loss: 148.2442 - acc: 0.6918 - 11s/epoch - 9ms/step\n",
      "\n",
      "Test accuracy: 0.6917508840560913\n",
      "\n",
      "Test Loss: 148.24417114257812\n",
      "1274/1274 [==============================] - 8s 6ms/step\n"
     ]
    },
    {
     "data": {
      "text/plain": [
       "array([[27982,   386],\n",
       "       [12177,   211]])"
      ]
     },
     "execution_count": 52,
     "metadata": {},
     "output_type": "execute_result"
    }
   ],
   "source": [
    "test_loss, test_acc = model.evaluate(X_test,y_test, verbose=2)\n",
    "\n",
    "print('\\nTest accuracy:', test_acc)\n",
    "print('\\nTest Loss:', test_loss)\n",
    "Y_pred = model.predict(X_test)\n",
    "y_pred = (Y_pred > 0.5).astype(np.int64)\n",
    "\n",
    "confusion_matrix(y_test, y_pred)"
   ]
  },
  {
   "cell_type": "code",
   "execution_count": 53,
   "id": "6e47c3cd",
   "metadata": {},
   "outputs": [
    {
     "name": "stdout",
     "output_type": "stream",
     "text": [
      "Precision: 0.5251070670800486\n",
      "Recall: 0.5017128656063461\n"
     ]
    }
   ],
   "source": [
    "recall = recall_score(y_test, y_pred, average='macro')\n",
    "precision = precision_score(y_test, y_pred, average='macro')\n",
    "print(\"Precision:\" ,precision)\n",
    "print(\"Recall:\", recall)"
   ]
  },
  {
   "cell_type": "code",
   "execution_count": null,
   "id": "e7ab9af1",
   "metadata": {},
   "outputs": [],
   "source": []
  }
 ],
 "metadata": {
  "kernelspec": {
   "display_name": "Python [conda env:breastcancer_env]",
   "language": "python",
   "name": "conda-env-breastcancer_env-py"
  },
  "language_info": {
   "codemirror_mode": {
    "name": "ipython",
    "version": 3
   },
   "file_extension": ".py",
   "mimetype": "text/x-python",
   "name": "python",
   "nbconvert_exporter": "python",
   "pygments_lexer": "ipython3",
   "version": "3.8.16"
  }
 },
 "nbformat": 4,
 "nbformat_minor": 5
}
