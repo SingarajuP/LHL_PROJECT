{
 "cells": [
  {
   "cell_type": "markdown",
   "id": "aaf73437",
   "metadata": {},
   "source": [
    "\n",
    "final_imbalance_best_sgd2.hdf5 giving best performance"
   ]
  },
  {
   "cell_type": "code",
   "execution_count": 1,
   "id": "9afe4d2f",
   "metadata": {},
   "outputs": [],
   "source": [
    "import numpy as np \n",
    "import pandas as pd \n",
    "import matplotlib.pyplot as plt\n",
    "%matplotlib inline\n",
    "import seaborn as sns\n",
    "from os import listdir\n",
    "from glob import glob\n",
    "from PIL import Image\n",
    "import os\n",
    "import cv2\n",
    "import scipy.ndimage as ndimage\n",
    "from skimage import io"
   ]
  },
  {
   "cell_type": "code",
   "execution_count": 2,
   "id": "3dc510e0",
   "metadata": {},
   "outputs": [],
   "source": [
    "from sklearn.model_selection import train_test_split\n",
    "from sklearn.metrics import classification_report,confusion_matrix,precision_score,recall_score\n",
    "from sklearn.metrics import roc_curve,auc"
   ]
  },
  {
   "cell_type": "code",
   "execution_count": 3,
   "id": "3acbddb4",
   "metadata": {},
   "outputs": [],
   "source": [
    "import tensorflow as tf\n",
    "from tensorflow import keras\n",
    "from keras.utils import load_img, img_to_array\n",
    "from keras.losses import binary_crossentropy\n",
    "from keras.models import Sequential,load_model\n",
    "from keras.layers import Conv2D,MaxPooling2D,Flatten,Dense,Dropout,BatchNormalization \n",
    "from keras.callbacks import EarlyStopping,ModelCheckpoint\n",
    "from keras import backend as K\n",
    "from keras import activations\n",
    "from keras.preprocessing.image import ImageDataGenerator\n",
    "from keras import optimizers\n",
    "\n",
    "\n",
    "from numpy import expand_dims\n"
   ]
  },
  {
   "cell_type": "code",
   "execution_count": 4,
   "id": "473acc1d",
   "metadata": {},
   "outputs": [],
   "source": [
    "train_df=pd.read_csv(\"../data/processed/trainpath_df2.csv\")\n",
    "val_df=pd.read_csv(\"../data/processed/valpath_df2.csv\")\n",
    "test_df=pd.read_csv(\"../data/processed/testpath_df2.csv\")"
   ]
  },
  {
   "cell_type": "code",
   "execution_count": 5,
   "id": "3db73427",
   "metadata": {},
   "outputs": [
    {
     "data": {
      "text/html": [
       "<div>\n",
       "<style scoped>\n",
       "    .dataframe tbody tr th:only-of-type {\n",
       "        vertical-align: middle;\n",
       "    }\n",
       "\n",
       "    .dataframe tbody tr th {\n",
       "        vertical-align: top;\n",
       "    }\n",
       "\n",
       "    .dataframe thead th {\n",
       "        text-align: right;\n",
       "    }\n",
       "</style>\n",
       "<table border=\"1\" class=\"dataframe\">\n",
       "  <thead>\n",
       "    <tr style=\"text-align: right;\">\n",
       "      <th></th>\n",
       "      <th>path</th>\n",
       "      <th>P_id</th>\n",
       "      <th>X</th>\n",
       "      <th>Y</th>\n",
       "      <th>Class</th>\n",
       "    </tr>\n",
       "  </thead>\n",
       "  <tbody>\n",
       "    <tr>\n",
       "      <th>0</th>\n",
       "      <td>../data/raw/9036/0/9036_idx5_x1051_y2401_class...</td>\n",
       "      <td>9036</td>\n",
       "      <td>1051</td>\n",
       "      <td>2401</td>\n",
       "      <td>0</td>\n",
       "    </tr>\n",
       "    <tr>\n",
       "      <th>1</th>\n",
       "      <td>../data/raw/9036/0/9036_idx5_x2951_y951_class0...</td>\n",
       "      <td>9036</td>\n",
       "      <td>2951</td>\n",
       "      <td>951</td>\n",
       "      <td>0</td>\n",
       "    </tr>\n",
       "    <tr>\n",
       "      <th>2</th>\n",
       "      <td>../data/raw/9036/0/9036_idx5_x3001_y1451_class...</td>\n",
       "      <td>9036</td>\n",
       "      <td>3001</td>\n",
       "      <td>1451</td>\n",
       "      <td>0</td>\n",
       "    </tr>\n",
       "    <tr>\n",
       "      <th>3</th>\n",
       "      <td>../data/raw/9036/0/9036_idx5_x3051_y801_class0...</td>\n",
       "      <td>9036</td>\n",
       "      <td>3051</td>\n",
       "      <td>801</td>\n",
       "      <td>0</td>\n",
       "    </tr>\n",
       "    <tr>\n",
       "      <th>4</th>\n",
       "      <td>../data/raw/9036/0/9036_idx5_x951_y1901_class0...</td>\n",
       "      <td>9036</td>\n",
       "      <td>951</td>\n",
       "      <td>1901</td>\n",
       "      <td>0</td>\n",
       "    </tr>\n",
       "    <tr>\n",
       "      <th>...</th>\n",
       "      <td>...</td>\n",
       "      <td>...</td>\n",
       "      <td>...</td>\n",
       "      <td>...</td>\n",
       "      <td>...</td>\n",
       "    </tr>\n",
       "    <tr>\n",
       "      <th>187017</th>\n",
       "      <td>../data/raw/8957/1/8957_idx5_x1951_y701_class1...</td>\n",
       "      <td>8957</td>\n",
       "      <td>1951</td>\n",
       "      <td>701</td>\n",
       "      <td>1</td>\n",
       "    </tr>\n",
       "    <tr>\n",
       "      <th>187018</th>\n",
       "      <td>../data/raw/8957/1/8957_idx5_x2051_y551_class1...</td>\n",
       "      <td>8957</td>\n",
       "      <td>2051</td>\n",
       "      <td>551</td>\n",
       "      <td>1</td>\n",
       "    </tr>\n",
       "    <tr>\n",
       "      <th>187019</th>\n",
       "      <td>../data/raw/8957/1/8957_idx5_x1951_y651_class1...</td>\n",
       "      <td>8957</td>\n",
       "      <td>1951</td>\n",
       "      <td>651</td>\n",
       "      <td>1</td>\n",
       "    </tr>\n",
       "    <tr>\n",
       "      <th>187020</th>\n",
       "      <td>../data/raw/8957/1/8957_idx5_x1451_y551_class1...</td>\n",
       "      <td>8957</td>\n",
       "      <td>1451</td>\n",
       "      <td>551</td>\n",
       "      <td>1</td>\n",
       "    </tr>\n",
       "    <tr>\n",
       "      <th>187021</th>\n",
       "      <td>../data/raw/8957/1/8957_idx5_x1601_y501_class1...</td>\n",
       "      <td>8957</td>\n",
       "      <td>1601</td>\n",
       "      <td>501</td>\n",
       "      <td>1</td>\n",
       "    </tr>\n",
       "  </tbody>\n",
       "</table>\n",
       "<p>187022 rows × 5 columns</p>\n",
       "</div>"
      ],
      "text/plain": [
       "                                                     path  P_id     X     Y  \\\n",
       "0       ../data/raw/9036/0/9036_idx5_x1051_y2401_class...  9036  1051  2401   \n",
       "1       ../data/raw/9036/0/9036_idx5_x2951_y951_class0...  9036  2951   951   \n",
       "2       ../data/raw/9036/0/9036_idx5_x3001_y1451_class...  9036  3001  1451   \n",
       "3       ../data/raw/9036/0/9036_idx5_x3051_y801_class0...  9036  3051   801   \n",
       "4       ../data/raw/9036/0/9036_idx5_x951_y1901_class0...  9036   951  1901   \n",
       "...                                                   ...   ...   ...   ...   \n",
       "187017  ../data/raw/8957/1/8957_idx5_x1951_y701_class1...  8957  1951   701   \n",
       "187018  ../data/raw/8957/1/8957_idx5_x2051_y551_class1...  8957  2051   551   \n",
       "187019  ../data/raw/8957/1/8957_idx5_x1951_y651_class1...  8957  1951   651   \n",
       "187020  ../data/raw/8957/1/8957_idx5_x1451_y551_class1...  8957  1451   551   \n",
       "187021  ../data/raw/8957/1/8957_idx5_x1601_y501_class1...  8957  1601   501   \n",
       "\n",
       "        Class  \n",
       "0           0  \n",
       "1           0  \n",
       "2           0  \n",
       "3           0  \n",
       "4           0  \n",
       "...       ...  \n",
       "187017      1  \n",
       "187018      1  \n",
       "187019      1  \n",
       "187020      1  \n",
       "187021      1  \n",
       "\n",
       "[187022 rows x 5 columns]"
      ]
     },
     "execution_count": 5,
     "metadata": {},
     "output_type": "execute_result"
    }
   ],
   "source": [
    "train_df"
   ]
  },
  {
   "cell_type": "code",
   "execution_count": 6,
   "id": "b0b6609a",
   "metadata": {},
   "outputs": [],
   "source": [
    "def load_data(files):\n",
    "    X = []\n",
    "    y = []\n",
    "    for file in files:\n",
    "        img = load_img(file, target_size = (50,50))\n",
    "        pix = img_to_array(img)\n",
    "        pix /= 255\n",
    "        X.append(pix)\n",
    "        if(file[-5] == '1'):\n",
    "             y.append(1)\n",
    "        elif(file[-5] == '0'):\n",
    "            y.append(0)\n",
    "    return np.stack(X), y"
   ]
  },
  {
   "cell_type": "code",
   "execution_count": 7,
   "id": "46bda525",
   "metadata": {},
   "outputs": [
    {
     "data": {
      "text/plain": [
       "((187022, 50, 50, 3), (187022, 1))"
      ]
     },
     "execution_count": 7,
     "metadata": {},
     "output_type": "execute_result"
    }
   ],
   "source": [
    "X,y=load_data(train_df.path) #Loading training images into numpy arrays\n",
    "y=np.vstack(y)\n",
    "X.shape,y.shape"
   ]
  },
  {
   "cell_type": "code",
   "execution_count": 8,
   "id": "c7ca395c",
   "metadata": {},
   "outputs": [
    {
     "data": {
      "text/plain": [
       "((46084, 50, 50, 3), (46084, 1))"
      ]
     },
     "execution_count": 8,
     "metadata": {},
     "output_type": "execute_result"
    }
   ],
   "source": [
    "X_val,y_val=load_data(val_df.path) #Loading validation images into numpy arrays\n",
    "y_val=np.vstack(y_val)\n",
    "X_val.shape,y_val.shape"
   ]
  },
  {
   "cell_type": "markdown",
   "id": "737b681d",
   "metadata": {},
   "source": [
    "### Training the model with imbalance data"
   ]
  },
  {
   "cell_type": "code",
   "execution_count": 9,
   "id": "47843765",
   "metadata": {},
   "outputs": [],
   "source": [
    "opt=optimizers.SGD(learning_rate=1e-3, momentum=0.9)"
   ]
  },
  {
   "cell_type": "code",
   "execution_count": 10,
   "id": "3e42e70d",
   "metadata": {},
   "outputs": [],
   "source": [
    "model = Sequential()\n",
    "model.add(Conv2D(32, kernel_size=(3, 3), activation='relu', padding=\"same\", input_shape=(50, 50, 3)))\n",
    "model.add(MaxPooling2D(pool_size=(2, 2)))\n",
    "model.add(BatchNormalization())\n",
    "\n",
    "model.add(Conv2D(64, kernel_size=(3, 3), activation='relu', padding=\"same\"))\n",
    "model.add(MaxPooling2D(pool_size=(2, 2)))\n",
    "model.add(BatchNormalization())\n",
    "\n",
    "\n",
    "model.add(Conv2D(128, kernel_size=(3, 3), activation='relu', padding=\"same\"))\n",
    "model.add(MaxPooling2D(pool_size=(2, 2)))\n",
    "model.add(BatchNormalization())\n",
    "\n",
    "\n",
    "model.add(Conv2D(128, kernel_size=(3, 3), activation='relu', padding=\"same\"))\n",
    "model.add(MaxPooling2D(pool_size=(2, 2)))\n",
    "\n",
    "model.add(Flatten())\n",
    "#model.add(Dense(256, activation='relu'))\n",
    "model.add(Dense(128, activation = 'relu'))\n",
    "model.add(Dropout(0.3))\n",
    "model.add(Dense(1, activation='sigmoid'))\n",
    "\n",
    "model.compile(loss=keras.losses.binary_crossentropy,\n",
    "              optimizer=opt,\n",
    "              metrics=['acc'])\n",
    "\n",
    "checkpoint = ModelCheckpoint(\"../models/imbalance_best.hdf5\", monitor='val_acc', verbose=1,\n",
    "    save_best_only=True, mode='max')\n",
    "es = EarlyStopping(monitor='val_loss', mode='min', verbose=1, patience=10)\n",
    "\n"
   ]
  },
  {
   "cell_type": "code",
   "execution_count": 11,
   "id": "c319da7c",
   "metadata": {},
   "outputs": [
    {
     "name": "stdout",
     "output_type": "stream",
     "text": [
      "Epoch 1/100\n",
      "731/731 [==============================] - ETA: 0s - loss: 0.5474 - acc: 0.7499\n",
      "Epoch 1: val_acc improved from -inf to 0.82200, saving model to ../models/imbalance_best.hdf5\n",
      "731/731 [==============================] - 50s 67ms/step - loss: 0.5474 - acc: 0.7499 - val_loss: 0.4099 - val_acc: 0.8220\n",
      "Epoch 2/100\n",
      "731/731 [==============================] - ETA: 0s - loss: 0.5353 - acc: 0.7565\n",
      "Epoch 2: val_acc did not improve from 0.82200\n",
      "731/731 [==============================] - 55s 76ms/step - loss: 0.5353 - acc: 0.7565 - val_loss: 0.4414 - val_acc: 0.8055\n",
      "Epoch 3/100\n",
      "730/731 [============================>.] - ETA: 0s - loss: 0.5308 - acc: 0.7582\n",
      "Epoch 3: val_acc did not improve from 0.82200\n",
      "731/731 [==============================] - 56s 77ms/step - loss: 0.5308 - acc: 0.7582 - val_loss: 0.7775 - val_acc: 0.6990\n",
      "Epoch 4/100\n",
      "730/731 [============================>.] - ETA: 0s - loss: 0.5278 - acc: 0.7598\n",
      "Epoch 4: val_acc improved from 0.82200 to 0.83417, saving model to ../models/imbalance_best.hdf5\n",
      "731/731 [==============================] - 56s 77ms/step - loss: 0.5278 - acc: 0.7597 - val_loss: 0.3874 - val_acc: 0.8342\n",
      "Epoch 5/100\n",
      "730/731 [============================>.] - ETA: 0s - loss: 0.5251 - acc: 0.7611\n",
      "Epoch 5: val_acc did not improve from 0.83417\n",
      "731/731 [==============================] - 56s 77ms/step - loss: 0.5252 - acc: 0.7610 - val_loss: 0.4807 - val_acc: 0.7855\n",
      "Epoch 6/100\n",
      "730/731 [============================>.] - ETA: 0s - loss: 0.5229 - acc: 0.7626\n",
      "Epoch 6: val_acc did not improve from 0.83417\n",
      "731/731 [==============================] - 55s 75ms/step - loss: 0.5229 - acc: 0.7626 - val_loss: 0.4544 - val_acc: 0.8020\n",
      "Epoch 7/100\n",
      "730/731 [============================>.] - ETA: 0s - loss: 0.5210 - acc: 0.7633\n",
      "Epoch 7: val_acc improved from 0.83417 to 0.84214, saving model to ../models/imbalance_best.hdf5\n",
      "731/731 [==============================] - 55s 75ms/step - loss: 0.5210 - acc: 0.7633 - val_loss: 0.3775 - val_acc: 0.8421\n",
      "Epoch 8/100\n",
      "730/731 [============================>.] - ETA: 0s - loss: 0.5193 - acc: 0.7639\n",
      "Epoch 8: val_acc did not improve from 0.84214\n",
      "731/731 [==============================] - 55s 75ms/step - loss: 0.5194 - acc: 0.7639 - val_loss: 0.3715 - val_acc: 0.8392\n",
      "Epoch 9/100\n",
      "730/731 [============================>.] - ETA: 0s - loss: 0.5181 - acc: 0.7646\n",
      "Epoch 9: val_acc did not improve from 0.84214\n",
      "731/731 [==============================] - 55s 75ms/step - loss: 0.5181 - acc: 0.7646 - val_loss: 0.4099 - val_acc: 0.8244\n",
      "Epoch 10/100\n",
      "730/731 [============================>.] - ETA: 0s - loss: 0.5171 - acc: 0.7651\n",
      "Epoch 10: val_acc did not improve from 0.84214\n",
      "731/731 [==============================] - 55s 75ms/step - loss: 0.5170 - acc: 0.7652 - val_loss: 0.6163 - val_acc: 0.7548\n",
      "Epoch 11/100\n",
      "730/731 [============================>.] - ETA: 0s - loss: 0.5154 - acc: 0.7659\n",
      "Epoch 11: val_acc did not improve from 0.84214\n",
      "731/731 [==============================] - 55s 76ms/step - loss: 0.5154 - acc: 0.7659 - val_loss: 0.5819 - val_acc: 0.7866\n",
      "Epoch 12/100\n",
      "730/731 [============================>.] - ETA: 0s - loss: 0.5146 - acc: 0.7662\n",
      "Epoch 12: val_acc did not improve from 0.84214\n",
      "731/731 [==============================] - 55s 75ms/step - loss: 0.5147 - acc: 0.7662 - val_loss: 0.4335 - val_acc: 0.8087\n",
      "Epoch 13/100\n",
      "730/731 [============================>.] - ETA: 0s - loss: 0.5134 - acc: 0.7667\n",
      "Epoch 13: val_acc did not improve from 0.84214\n",
      "731/731 [==============================] - 55s 75ms/step - loss: 0.5134 - acc: 0.7667 - val_loss: 0.4661 - val_acc: 0.8161\n",
      "Epoch 14/100\n",
      "730/731 [============================>.] - ETA: 0s - loss: 0.5129 - acc: 0.7669\n",
      "Epoch 14: val_acc did not improve from 0.84214\n",
      "731/731 [==============================] - 55s 75ms/step - loss: 0.5129 - acc: 0.7669 - val_loss: 0.3862 - val_acc: 0.8341\n",
      "Epoch 15/100\n",
      "730/731 [============================>.] - ETA: 0s - loss: 0.5120 - acc: 0.7673\n",
      "Epoch 15: val_acc did not improve from 0.84214\n",
      "731/731 [==============================] - 55s 76ms/step - loss: 0.5120 - acc: 0.7673 - val_loss: 0.3881 - val_acc: 0.8274\n",
      "Epoch 16/100\n",
      "730/731 [============================>.] - ETA: 0s - loss: 0.5116 - acc: 0.7675\n",
      "Epoch 16: val_acc did not improve from 0.84214\n",
      "731/731 [==============================] - 55s 76ms/step - loss: 0.5116 - acc: 0.7675 - val_loss: 0.4059 - val_acc: 0.8211\n",
      "Epoch 17/100\n",
      "730/731 [============================>.] - ETA: 0s - loss: 0.5110 - acc: 0.7681\n",
      "Epoch 17: val_acc did not improve from 0.84214\n",
      "731/731 [==============================] - 56s 76ms/step - loss: 0.5110 - acc: 0.7681 - val_loss: 0.5034 - val_acc: 0.8027\n",
      "Epoch 18/100\n",
      "730/731 [============================>.] - ETA: 0s - loss: 0.5099 - acc: 0.7681\n",
      "Epoch 18: val_acc improved from 0.84214 to 0.84567, saving model to ../models/imbalance_best.hdf5\n",
      "731/731 [==============================] - 56s 76ms/step - loss: 0.5099 - acc: 0.7681 - val_loss: 0.3626 - val_acc: 0.8457\n",
      "Epoch 19/100\n",
      "730/731 [============================>.] - ETA: 0s - loss: 0.5088 - acc: 0.7684\n",
      "Epoch 19: val_acc did not improve from 0.84567\n",
      "731/731 [==============================] - 55s 76ms/step - loss: 0.5087 - acc: 0.7684 - val_loss: 0.6929 - val_acc: 0.7596\n",
      "Epoch 20/100\n",
      "730/731 [============================>.] - ETA: 0s - loss: 0.5079 - acc: 0.7691\n",
      "Epoch 20: val_acc did not improve from 0.84567\n",
      "731/731 [==============================] - 56s 76ms/step - loss: 0.5079 - acc: 0.7691 - val_loss: 0.5819 - val_acc: 0.8054\n",
      "Epoch 21/100\n",
      "730/731 [============================>.] - ETA: 0s - loss: 0.5077 - acc: 0.7693\n",
      "Epoch 21: val_acc did not improve from 0.84567\n",
      "731/731 [==============================] - 55s 75ms/step - loss: 0.5077 - acc: 0.7693 - val_loss: 0.5110 - val_acc: 0.7682\n",
      "Epoch 22/100\n",
      "730/731 [============================>.] - ETA: 0s - loss: 0.5065 - acc: 0.7696\n",
      "Epoch 22: val_acc did not improve from 0.84567\n",
      "731/731 [==============================] - 55s 75ms/step - loss: 0.5065 - acc: 0.7696 - val_loss: 0.7352 - val_acc: 0.7539\n",
      "Epoch 23/100\n",
      "730/731 [============================>.] - ETA: 0s - loss: 0.5064 - acc: 0.7697\n",
      "Epoch 23: val_acc did not improve from 0.84567\n",
      "731/731 [==============================] - 55s 76ms/step - loss: 0.5063 - acc: 0.7697 - val_loss: 0.5506 - val_acc: 0.7508\n",
      "Epoch 24/100\n",
      "730/731 [============================>.] - ETA: 0s - loss: 0.5054 - acc: 0.7701\n",
      "Epoch 24: val_acc did not improve from 0.84567\n",
      "731/731 [==============================] - 56s 76ms/step - loss: 0.5055 - acc: 0.7700 - val_loss: 0.4191 - val_acc: 0.8342\n",
      "Epoch 25/100\n",
      "730/731 [============================>.] - ETA: 0s - loss: 0.5049 - acc: 0.7705\n",
      "Epoch 25: val_acc did not improve from 0.84567\n",
      "731/731 [==============================] - 56s 76ms/step - loss: 0.5048 - acc: 0.7705 - val_loss: 0.4045 - val_acc: 0.8282\n",
      "Epoch 26/100\n",
      "730/731 [============================>.] - ETA: 0s - loss: 0.5038 - acc: 0.7710\n",
      "Epoch 26: val_acc did not improve from 0.84567\n",
      "731/731 [==============================] - 56s 76ms/step - loss: 0.5038 - acc: 0.7710 - val_loss: 0.4515 - val_acc: 0.8000\n",
      "Epoch 27/100\n",
      "730/731 [============================>.] - ETA: 0s - loss: 0.5029 - acc: 0.7711\n",
      "Epoch 27: val_acc did not improve from 0.84567\n",
      "731/731 [==============================] - 56s 76ms/step - loss: 0.5029 - acc: 0.7711 - val_loss: 0.6487 - val_acc: 0.6976\n",
      "Epoch 28/100\n",
      "730/731 [============================>.] - ETA: 0s - loss: 0.5028 - acc: 0.7715\n",
      "Epoch 28: val_acc did not improve from 0.84567\n",
      "731/731 [==============================] - 56s 76ms/step - loss: 0.5028 - acc: 0.7714 - val_loss: 0.4514 - val_acc: 0.7952\n",
      "Epoch 28: early stopping\n"
     ]
    }
   ],
   "source": [
    "M=model.fit(X, y,validation_data=(X_val, y_val),  epochs=100,batch_size=256, callbacks=[checkpoint,es])"
   ]
  },
  {
   "cell_type": "code",
   "execution_count": 12,
   "id": "23b13215",
   "metadata": {},
   "outputs": [
    {
     "data": {
      "text/plain": [
       "((44418, 50, 50, 3), (44418, 1))"
      ]
     },
     "execution_count": 12,
     "metadata": {},
     "output_type": "execute_result"
    }
   ],
   "source": [
    "X_test,y_test=load_data(test_df.path)\n",
    "y_test=np.vstack(y_test)\n",
    "X_test.shape,y_test.shape"
   ]
  },
  {
   "cell_type": "code",
   "execution_count": 13,
   "id": "740ca3cf",
   "metadata": {},
   "outputs": [
    {
     "name": "stdout",
     "output_type": "stream",
     "text": [
      "1389/1389 - 12s - loss: 0.4723 - acc: 0.7893 - 12s/epoch - 8ms/step\n",
      "\n",
      "Test accuracy: 0.789319634437561\n",
      "\n",
      "Test Loss: 0.4723239243030548\n"
     ]
    }
   ],
   "source": [
    "test_loss, test_acc = model.evaluate(X_test,y_test, verbose=2)\n",
    "\n",
    "print('\\nTest accuracy:', test_acc)\n",
    "print('\\nTest Loss:', test_loss)"
   ]
  },
  {
   "cell_type": "code",
   "execution_count": 14,
   "id": "5f436015",
   "metadata": {},
   "outputs": [
    {
     "name": "stdout",
     "output_type": "stream",
     "text": [
      "1389/1389 [==============================] - 9s 5ms/step\n"
     ]
    },
    {
     "data": {
      "text/plain": [
       "array([[25166,  6696],\n",
       "       [ 2662,  9894]])"
      ]
     },
     "execution_count": 14,
     "metadata": {},
     "output_type": "execute_result"
    }
   ],
   "source": [
    "Y_pred = model.predict(X_test)\n",
    "y_pred = (Y_pred > 0.5).astype(np.int64)\n",
    "\n",
    "confusion_matrix(y_test, y_pred)"
   ]
  },
  {
   "cell_type": "code",
   "execution_count": 15,
   "id": "e84792ca",
   "metadata": {},
   "outputs": [
    {
     "name": "stdout",
     "output_type": "stream",
     "text": [
      "Precision: 0.7503621575157757\n",
      "Recall: 0.7889167533154937\n"
     ]
    }
   ],
   "source": [
    "recall = recall_score(y_test, y_pred, average='macro')\n",
    "precision = precision_score(y_test, y_pred, average='macro')\n",
    "print(\"Precision:\" ,precision)\n",
    "print(\"Recall:\", recall)"
   ]
  },
  {
   "cell_type": "code",
   "execution_count": 16,
   "id": "09c9bd9e",
   "metadata": {},
   "outputs": [
    {
     "name": "stdout",
     "output_type": "stream",
     "text": [
      "Classification Report:               precision    recall  f1-score   support\n",
      "\n",
      "           0       0.90      0.79      0.84     31862\n",
      "           1       0.60      0.79      0.68     12556\n",
      "\n",
      "    accuracy                           0.79     44418\n",
      "   macro avg       0.75      0.79      0.76     44418\n",
      "weighted avg       0.82      0.79      0.80     44418\n",
      "\n"
     ]
    }
   ],
   "source": [
    "print(\"Classification Report:\",classification_report(y_test,y_pred))"
   ]
  },
  {
   "cell_type": "code",
   "execution_count": 34,
   "id": "56e1cac2",
   "metadata": {},
   "outputs": [],
   "source": [
    "test_df=pd.read_csv(\"../data/processed/testpath_df.csv\")"
   ]
  },
  {
   "cell_type": "code",
   "execution_count": 35,
   "id": "cc167155",
   "metadata": {},
   "outputs": [
    {
     "data": {
      "text/plain": [
       "((40573, 50, 50, 3), (40573, 1))"
      ]
     },
     "execution_count": 35,
     "metadata": {},
     "output_type": "execute_result"
    }
   ],
   "source": [
    "X_test,y_test=load_data(test_df.path)\n",
    "y_test=np.vstack(y_test)\n",
    "X_test.shape,y_test.shape"
   ]
  },
  {
   "cell_type": "code",
   "execution_count": 33,
   "id": "394023ea",
   "metadata": {},
   "outputs": [],
   "source": [
    "model=load_model(\"../models/final_imbalance_best_sgd.hdf5\")"
   ]
  },
  {
   "cell_type": "code",
   "execution_count": 36,
   "id": "2c172bc5",
   "metadata": {},
   "outputs": [
    {
     "name": "stdout",
     "output_type": "stream",
     "text": [
      "1268/1268 - 10s - loss: 0.3662 - acc: 0.8475 - 10s/epoch - 8ms/step\n",
      "\n",
      "Test accuracy: 0.847484827041626\n",
      "\n",
      "Test Loss: 0.36615151166915894\n"
     ]
    }
   ],
   "source": [
    "test_loss, test_acc = model.evaluate(X_test,y_test, verbose=2)\n",
    "\n",
    "print('\\nTest accuracy:', test_acc)\n",
    "print('\\nTest Loss:', test_loss)"
   ]
  },
  {
   "cell_type": "code",
   "execution_count": 37,
   "id": "bf177187",
   "metadata": {},
   "outputs": [
    {
     "name": "stdout",
     "output_type": "stream",
     "text": [
      "1268/1268 [==============================] - 10s 8ms/step\n"
     ]
    }
   ],
   "source": [
    "Y_pred = model.predict(X_test)\n"
   ]
  },
  {
   "cell_type": "code",
   "execution_count": 40,
   "id": "bf97e8e2",
   "metadata": {},
   "outputs": [
    {
     "data": {
      "text/plain": [
       "array([[28039,  2425],\n",
       "       [ 3763,  6346]])"
      ]
     },
     "execution_count": 40,
     "metadata": {},
     "output_type": "execute_result"
    }
   ],
   "source": [
    "y_pred = (Y_pred > 0.5).astype(np.int64)\n",
    "\n",
    "confusion_matrix(y_test, y_pred)"
   ]
  },
  {
   "cell_type": "code",
   "execution_count": 41,
   "id": "66b3c7d9",
   "metadata": {},
   "outputs": [
    {
     "name": "stdout",
     "output_type": "stream",
     "text": [
      "Precision: 0.8025974008700554\n",
      "Recall: 0.7740776452502803\n"
     ]
    }
   ],
   "source": [
    "recall = recall_score(y_test, y_pred, average='macro')\n",
    "precision = precision_score(y_test, y_pred, average='macro')\n",
    "print(\"Precision:\" ,precision)\n",
    "print(\"Recall:\", recall)"
   ]
  },
  {
   "cell_type": "code",
   "execution_count": 42,
   "id": "02f9d53b",
   "metadata": {},
   "outputs": [],
   "source": [
    "model=load_model(\"../models/final_imbalance_best_sgd1.hdf5\")"
   ]
  },
  {
   "cell_type": "code",
   "execution_count": 43,
   "id": "b77b10cc",
   "metadata": {},
   "outputs": [
    {
     "data": {
      "text/plain": [
       "((47599, 50, 50, 3), (47599, 1))"
      ]
     },
     "execution_count": 43,
     "metadata": {},
     "output_type": "execute_result"
    }
   ],
   "source": [
    "test_df=pd.read_csv(\"../data/processed/testpath_df1.csv\")\n",
    "X_test,y_test=load_data(test_df.path)\n",
    "y_test=np.vstack(y_test)\n",
    "X_test.shape,y_test.shape"
   ]
  },
  {
   "cell_type": "code",
   "execution_count": 30,
   "id": "5f36cc93",
   "metadata": {},
   "outputs": [
    {
     "data": {
      "text/plain": [
       "(50, 50, 3)"
      ]
     },
     "execution_count": 30,
     "metadata": {},
     "output_type": "execute_result"
    }
   ],
   "source": [
    "X_test[0].shape"
   ]
  },
  {
   "cell_type": "code",
   "execution_count": 44,
   "id": "fc4ce833",
   "metadata": {},
   "outputs": [
    {
     "name": "stdout",
     "output_type": "stream",
     "text": [
      "1488/1488 - 11s - loss: 0.3947 - acc: 0.8274 - 11s/epoch - 8ms/step\n",
      "\n",
      "Test accuracy: 0.8274123668670654\n",
      "\n",
      "Test Loss: 0.39469772577285767\n",
      "1488/1488 [==============================] - 12s 8ms/step\n"
     ]
    },
    {
     "data": {
      "text/plain": [
       "array([[29450,  4477],\n",
       "       [ 3738,  9934]])"
      ]
     },
     "execution_count": 44,
     "metadata": {},
     "output_type": "execute_result"
    }
   ],
   "source": [
    "test_loss, test_acc = model.evaluate(X_test,y_test, verbose=2)\n",
    "\n",
    "print('\\nTest accuracy:', test_acc)\n",
    "print('\\nTest Loss:', test_loss)\n",
    "Y_pred = model.predict(X_test)\n",
    "y_pred = (Y_pred > 0.5).astype(np.int64)\n",
    "\n",
    "confusion_matrix(y_test, y_pred)"
   ]
  },
  {
   "cell_type": "code",
   "execution_count": 45,
   "id": "bb52b1df",
   "metadata": {},
   "outputs": [
    {
     "name": "stdout",
     "output_type": "stream",
     "text": [
      "Precision: 0.7883517323233133\n",
      "Recall: 0.7973173518373864\n"
     ]
    }
   ],
   "source": [
    "recall = recall_score(y_test, y_pred, average='macro')\n",
    "precision = precision_score(y_test, y_pred, average='macro')\n",
    "print(\"Precision:\" ,precision)\n",
    "print(\"Recall:\", recall)"
   ]
  },
  {
   "cell_type": "code",
   "execution_count": 4,
   "id": "63c39191",
   "metadata": {},
   "outputs": [],
   "source": [
    "model=load_model(\"../models/final_imbalance_best_sgd2.hdf5\")"
   ]
  },
  {
   "cell_type": "code",
   "execution_count": 47,
   "id": "5ce0cc25",
   "metadata": {},
   "outputs": [
    {
     "data": {
      "text/plain": [
       "((44418, 50, 50, 3), (44418, 1))"
      ]
     },
     "execution_count": 47,
     "metadata": {},
     "output_type": "execute_result"
    }
   ],
   "source": [
    "test_df=pd.read_csv(\"../data/processed/testpath_df2.csv\")\n",
    "X_test,y_test=load_data(test_df.path)\n",
    "y_test=np.vstack(y_test)\n",
    "X_test.shape,y_test.shape"
   ]
  },
  {
   "cell_type": "code",
   "execution_count": 48,
   "id": "ed655b40",
   "metadata": {},
   "outputs": [
    {
     "data": {
      "text/html": [
       "<div>\n",
       "<style scoped>\n",
       "    .dataframe tbody tr th:only-of-type {\n",
       "        vertical-align: middle;\n",
       "    }\n",
       "\n",
       "    .dataframe tbody tr th {\n",
       "        vertical-align: top;\n",
       "    }\n",
       "\n",
       "    .dataframe thead th {\n",
       "        text-align: right;\n",
       "    }\n",
       "</style>\n",
       "<table border=\"1\" class=\"dataframe\">\n",
       "  <thead>\n",
       "    <tr style=\"text-align: right;\">\n",
       "      <th></th>\n",
       "      <th>path</th>\n",
       "      <th>P_id</th>\n",
       "      <th>X</th>\n",
       "      <th>Y</th>\n",
       "      <th>Class</th>\n",
       "    </tr>\n",
       "  </thead>\n",
       "  <tbody>\n",
       "    <tr>\n",
       "      <th>0</th>\n",
       "      <td>../data/raw/10268/0/10268_idx5_x2451_y2101_cla...</td>\n",
       "      <td>10268</td>\n",
       "      <td>2451</td>\n",
       "      <td>2101</td>\n",
       "      <td>0</td>\n",
       "    </tr>\n",
       "    <tr>\n",
       "      <th>1</th>\n",
       "      <td>../data/raw/10268/0/10268_idx5_x2501_y2251_cla...</td>\n",
       "      <td>10268</td>\n",
       "      <td>2501</td>\n",
       "      <td>2251</td>\n",
       "      <td>0</td>\n",
       "    </tr>\n",
       "    <tr>\n",
       "      <th>2</th>\n",
       "      <td>../data/raw/10268/0/10268_idx5_x751_y851_class...</td>\n",
       "      <td>10268</td>\n",
       "      <td>751</td>\n",
       "      <td>851</td>\n",
       "      <td>0</td>\n",
       "    </tr>\n",
       "    <tr>\n",
       "      <th>3</th>\n",
       "      <td>../data/raw/10268/0/10268_idx5_x3401_y951_clas...</td>\n",
       "      <td>10268</td>\n",
       "      <td>3401</td>\n",
       "      <td>951</td>\n",
       "      <td>0</td>\n",
       "    </tr>\n",
       "    <tr>\n",
       "      <th>4</th>\n",
       "      <td>../data/raw/10268/0/10268_idx5_x1151_y751_clas...</td>\n",
       "      <td>10268</td>\n",
       "      <td>1151</td>\n",
       "      <td>751</td>\n",
       "      <td>0</td>\n",
       "    </tr>\n",
       "    <tr>\n",
       "      <th>...</th>\n",
       "      <td>...</td>\n",
       "      <td>...</td>\n",
       "      <td>...</td>\n",
       "      <td>...</td>\n",
       "      <td>...</td>\n",
       "    </tr>\n",
       "    <tr>\n",
       "      <th>44413</th>\n",
       "      <td>../data/raw/8959/1/8959_idx5_x1501_y1101_class...</td>\n",
       "      <td>8959</td>\n",
       "      <td>1501</td>\n",
       "      <td>1101</td>\n",
       "      <td>1</td>\n",
       "    </tr>\n",
       "    <tr>\n",
       "      <th>44414</th>\n",
       "      <td>../data/raw/8959/1/8959_idx5_x801_y301_class1.png</td>\n",
       "      <td>8959</td>\n",
       "      <td>801</td>\n",
       "      <td>301</td>\n",
       "      <td>1</td>\n",
       "    </tr>\n",
       "    <tr>\n",
       "      <th>44415</th>\n",
       "      <td>../data/raw/8959/1/8959_idx5_x1601_y1151_class...</td>\n",
       "      <td>8959</td>\n",
       "      <td>1601</td>\n",
       "      <td>1151</td>\n",
       "      <td>1</td>\n",
       "    </tr>\n",
       "    <tr>\n",
       "      <th>44416</th>\n",
       "      <td>../data/raw/8959/1/8959_idx5_x1751_y1201_class...</td>\n",
       "      <td>8959</td>\n",
       "      <td>1751</td>\n",
       "      <td>1201</td>\n",
       "      <td>1</td>\n",
       "    </tr>\n",
       "    <tr>\n",
       "      <th>44417</th>\n",
       "      <td>../data/raw/8959/1/8959_idx5_x1551_y1051_class...</td>\n",
       "      <td>8959</td>\n",
       "      <td>1551</td>\n",
       "      <td>1051</td>\n",
       "      <td>1</td>\n",
       "    </tr>\n",
       "  </tbody>\n",
       "</table>\n",
       "<p>44418 rows × 5 columns</p>\n",
       "</div>"
      ],
      "text/plain": [
       "                                                    path   P_id     X     Y  \\\n",
       "0      ../data/raw/10268/0/10268_idx5_x2451_y2101_cla...  10268  2451  2101   \n",
       "1      ../data/raw/10268/0/10268_idx5_x2501_y2251_cla...  10268  2501  2251   \n",
       "2      ../data/raw/10268/0/10268_idx5_x751_y851_class...  10268   751   851   \n",
       "3      ../data/raw/10268/0/10268_idx5_x3401_y951_clas...  10268  3401   951   \n",
       "4      ../data/raw/10268/0/10268_idx5_x1151_y751_clas...  10268  1151   751   \n",
       "...                                                  ...    ...   ...   ...   \n",
       "44413  ../data/raw/8959/1/8959_idx5_x1501_y1101_class...   8959  1501  1101   \n",
       "44414  ../data/raw/8959/1/8959_idx5_x801_y301_class1.png   8959   801   301   \n",
       "44415  ../data/raw/8959/1/8959_idx5_x1601_y1151_class...   8959  1601  1151   \n",
       "44416  ../data/raw/8959/1/8959_idx5_x1751_y1201_class...   8959  1751  1201   \n",
       "44417  ../data/raw/8959/1/8959_idx5_x1551_y1051_class...   8959  1551  1051   \n",
       "\n",
       "       Class  \n",
       "0          0  \n",
       "1          0  \n",
       "2          0  \n",
       "3          0  \n",
       "4          0  \n",
       "...      ...  \n",
       "44413      1  \n",
       "44414      1  \n",
       "44415      1  \n",
       "44416      1  \n",
       "44417      1  \n",
       "\n",
       "[44418 rows x 5 columns]"
      ]
     },
     "execution_count": 48,
     "metadata": {},
     "output_type": "execute_result"
    }
   ],
   "source": [
    "test_df"
   ]
  },
  {
   "cell_type": "code",
   "execution_count": 39,
   "id": "09f6d2a1",
   "metadata": {},
   "outputs": [
    {
     "name": "stdout",
     "output_type": "stream",
     "text": [
      "1389/1389 - 13s - loss: 0.3728 - acc: 0.8364 - 13s/epoch - 10ms/step\n",
      "\n",
      "Test accuracy: 0.83635014295578\n",
      "\n",
      "Test Loss: 0.3727531135082245\n",
      "1389/1389 [==============================] - 10s 7ms/step\n"
     ]
    },
    {
     "data": {
      "text/plain": [
       "array([[27988,  3874],\n",
       "       [ 3395,  9161]])"
      ]
     },
     "execution_count": 39,
     "metadata": {},
     "output_type": "execute_result"
    }
   ],
   "source": [
    "test_loss, test_acc = model.evaluate(X_test,y_test, verbose=2)\n",
    "\n",
    "print('\\nTest accuracy:', test_acc)\n",
    "print('\\nTest Loss:', test_loss)\n",
    "Y_pred = model.predict(X_test)\n",
    "y_pred = (Y_pred > 0.5).astype(np.int64)\n",
    "\n",
    "confusion_matrix(y_test, y_pred)"
   ]
  },
  {
   "cell_type": "code",
   "execution_count": 49,
   "id": "51bba8fd",
   "metadata": {},
   "outputs": [
    {
     "data": {
      "text/html": [
       "<div>\n",
       "<style scoped>\n",
       "    .dataframe tbody tr th:only-of-type {\n",
       "        vertical-align: middle;\n",
       "    }\n",
       "\n",
       "    .dataframe tbody tr th {\n",
       "        vertical-align: top;\n",
       "    }\n",
       "\n",
       "    .dataframe thead th {\n",
       "        text-align: right;\n",
       "    }\n",
       "</style>\n",
       "<table border=\"1\" class=\"dataframe\">\n",
       "  <thead>\n",
       "    <tr style=\"text-align: right;\">\n",
       "      <th></th>\n",
       "      <th>path</th>\n",
       "      <th>P_id</th>\n",
       "      <th>X</th>\n",
       "      <th>Y</th>\n",
       "      <th>Class</th>\n",
       "      <th>Pred_Class</th>\n",
       "    </tr>\n",
       "  </thead>\n",
       "  <tbody>\n",
       "    <tr>\n",
       "      <th>0</th>\n",
       "      <td>../data/raw/10268/0/10268_idx5_x2451_y2101_cla...</td>\n",
       "      <td>10268</td>\n",
       "      <td>2451</td>\n",
       "      <td>2101</td>\n",
       "      <td>0</td>\n",
       "      <td>1</td>\n",
       "    </tr>\n",
       "    <tr>\n",
       "      <th>1</th>\n",
       "      <td>../data/raw/10268/0/10268_idx5_x2501_y2251_cla...</td>\n",
       "      <td>10268</td>\n",
       "      <td>2501</td>\n",
       "      <td>2251</td>\n",
       "      <td>0</td>\n",
       "      <td>0</td>\n",
       "    </tr>\n",
       "    <tr>\n",
       "      <th>2</th>\n",
       "      <td>../data/raw/10268/0/10268_idx5_x751_y851_class...</td>\n",
       "      <td>10268</td>\n",
       "      <td>751</td>\n",
       "      <td>851</td>\n",
       "      <td>0</td>\n",
       "      <td>0</td>\n",
       "    </tr>\n",
       "    <tr>\n",
       "      <th>3</th>\n",
       "      <td>../data/raw/10268/0/10268_idx5_x3401_y951_clas...</td>\n",
       "      <td>10268</td>\n",
       "      <td>3401</td>\n",
       "      <td>951</td>\n",
       "      <td>0</td>\n",
       "      <td>0</td>\n",
       "    </tr>\n",
       "    <tr>\n",
       "      <th>4</th>\n",
       "      <td>../data/raw/10268/0/10268_idx5_x1151_y751_clas...</td>\n",
       "      <td>10268</td>\n",
       "      <td>1151</td>\n",
       "      <td>751</td>\n",
       "      <td>0</td>\n",
       "      <td>0</td>\n",
       "    </tr>\n",
       "    <tr>\n",
       "      <th>...</th>\n",
       "      <td>...</td>\n",
       "      <td>...</td>\n",
       "      <td>...</td>\n",
       "      <td>...</td>\n",
       "      <td>...</td>\n",
       "      <td>...</td>\n",
       "    </tr>\n",
       "    <tr>\n",
       "      <th>44413</th>\n",
       "      <td>../data/raw/8959/1/8959_idx5_x1501_y1101_class...</td>\n",
       "      <td>8959</td>\n",
       "      <td>1501</td>\n",
       "      <td>1101</td>\n",
       "      <td>1</td>\n",
       "      <td>1</td>\n",
       "    </tr>\n",
       "    <tr>\n",
       "      <th>44414</th>\n",
       "      <td>../data/raw/8959/1/8959_idx5_x801_y301_class1.png</td>\n",
       "      <td>8959</td>\n",
       "      <td>801</td>\n",
       "      <td>301</td>\n",
       "      <td>1</td>\n",
       "      <td>0</td>\n",
       "    </tr>\n",
       "    <tr>\n",
       "      <th>44415</th>\n",
       "      <td>../data/raw/8959/1/8959_idx5_x1601_y1151_class...</td>\n",
       "      <td>8959</td>\n",
       "      <td>1601</td>\n",
       "      <td>1151</td>\n",
       "      <td>1</td>\n",
       "      <td>0</td>\n",
       "    </tr>\n",
       "    <tr>\n",
       "      <th>44416</th>\n",
       "      <td>../data/raw/8959/1/8959_idx5_x1751_y1201_class...</td>\n",
       "      <td>8959</td>\n",
       "      <td>1751</td>\n",
       "      <td>1201</td>\n",
       "      <td>1</td>\n",
       "      <td>0</td>\n",
       "    </tr>\n",
       "    <tr>\n",
       "      <th>44417</th>\n",
       "      <td>../data/raw/8959/1/8959_idx5_x1551_y1051_class...</td>\n",
       "      <td>8959</td>\n",
       "      <td>1551</td>\n",
       "      <td>1051</td>\n",
       "      <td>1</td>\n",
       "      <td>0</td>\n",
       "    </tr>\n",
       "  </tbody>\n",
       "</table>\n",
       "<p>44418 rows × 6 columns</p>\n",
       "</div>"
      ],
      "text/plain": [
       "                                                    path   P_id     X     Y  \\\n",
       "0      ../data/raw/10268/0/10268_idx5_x2451_y2101_cla...  10268  2451  2101   \n",
       "1      ../data/raw/10268/0/10268_idx5_x2501_y2251_cla...  10268  2501  2251   \n",
       "2      ../data/raw/10268/0/10268_idx5_x751_y851_class...  10268   751   851   \n",
       "3      ../data/raw/10268/0/10268_idx5_x3401_y951_clas...  10268  3401   951   \n",
       "4      ../data/raw/10268/0/10268_idx5_x1151_y751_clas...  10268  1151   751   \n",
       "...                                                  ...    ...   ...   ...   \n",
       "44413  ../data/raw/8959/1/8959_idx5_x1501_y1101_class...   8959  1501  1101   \n",
       "44414  ../data/raw/8959/1/8959_idx5_x801_y301_class1.png   8959   801   301   \n",
       "44415  ../data/raw/8959/1/8959_idx5_x1601_y1151_class...   8959  1601  1151   \n",
       "44416  ../data/raw/8959/1/8959_idx5_x1751_y1201_class...   8959  1751  1201   \n",
       "44417  ../data/raw/8959/1/8959_idx5_x1551_y1051_class...   8959  1551  1051   \n",
       "\n",
       "       Class  Pred_Class  \n",
       "0          0           1  \n",
       "1          0           0  \n",
       "2          0           0  \n",
       "3          0           0  \n",
       "4          0           0  \n",
       "...      ...         ...  \n",
       "44413      1           1  \n",
       "44414      1           0  \n",
       "44415      1           0  \n",
       "44416      1           0  \n",
       "44417      1           0  \n",
       "\n",
       "[44418 rows x 6 columns]"
      ]
     },
     "execution_count": 49,
     "metadata": {},
     "output_type": "execute_result"
    }
   ],
   "source": [
    "\n",
    "test_df['Pred_Class']=y_pred\n",
    "test_df"
   ]
  },
  {
   "cell_type": "code",
   "execution_count": 50,
   "id": "3d9b4043",
   "metadata": {},
   "outputs": [
    {
     "data": {
      "text/html": [
       "<div>\n",
       "<style scoped>\n",
       "    .dataframe tbody tr th:only-of-type {\n",
       "        vertical-align: middle;\n",
       "    }\n",
       "\n",
       "    .dataframe tbody tr th {\n",
       "        vertical-align: top;\n",
       "    }\n",
       "\n",
       "    .dataframe thead th {\n",
       "        text-align: right;\n",
       "    }\n",
       "</style>\n",
       "<table border=\"1\" class=\"dataframe\">\n",
       "  <thead>\n",
       "    <tr style=\"text-align: right;\">\n",
       "      <th></th>\n",
       "      <th>path</th>\n",
       "      <th>P_id</th>\n",
       "      <th>X</th>\n",
       "      <th>Y</th>\n",
       "      <th>Class</th>\n",
       "      <th>Pred_Class</th>\n",
       "    </tr>\n",
       "  </thead>\n",
       "  <tbody>\n",
       "    <tr>\n",
       "      <th>1</th>\n",
       "      <td>../data/raw/10268/0/10268_idx5_x2501_y2251_cla...</td>\n",
       "      <td>10268</td>\n",
       "      <td>2501</td>\n",
       "      <td>2251</td>\n",
       "      <td>0</td>\n",
       "      <td>0</td>\n",
       "    </tr>\n",
       "    <tr>\n",
       "      <th>2</th>\n",
       "      <td>../data/raw/10268/0/10268_idx5_x751_y851_class...</td>\n",
       "      <td>10268</td>\n",
       "      <td>751</td>\n",
       "      <td>851</td>\n",
       "      <td>0</td>\n",
       "      <td>0</td>\n",
       "    </tr>\n",
       "    <tr>\n",
       "      <th>3</th>\n",
       "      <td>../data/raw/10268/0/10268_idx5_x3401_y951_clas...</td>\n",
       "      <td>10268</td>\n",
       "      <td>3401</td>\n",
       "      <td>951</td>\n",
       "      <td>0</td>\n",
       "      <td>0</td>\n",
       "    </tr>\n",
       "    <tr>\n",
       "      <th>4</th>\n",
       "      <td>../data/raw/10268/0/10268_idx5_x1151_y751_clas...</td>\n",
       "      <td>10268</td>\n",
       "      <td>1151</td>\n",
       "      <td>751</td>\n",
       "      <td>0</td>\n",
       "      <td>0</td>\n",
       "    </tr>\n",
       "    <tr>\n",
       "      <th>5</th>\n",
       "      <td>../data/raw/10268/0/10268_idx5_x3401_y1001_cla...</td>\n",
       "      <td>10268</td>\n",
       "      <td>3401</td>\n",
       "      <td>1001</td>\n",
       "      <td>0</td>\n",
       "      <td>0</td>\n",
       "    </tr>\n",
       "    <tr>\n",
       "      <th>...</th>\n",
       "      <td>...</td>\n",
       "      <td>...</td>\n",
       "      <td>...</td>\n",
       "      <td>...</td>\n",
       "      <td>...</td>\n",
       "      <td>...</td>\n",
       "    </tr>\n",
       "    <tr>\n",
       "      <th>44399</th>\n",
       "      <td>../data/raw/8959/1/8959_idx5_x901_y301_class1.png</td>\n",
       "      <td>8959</td>\n",
       "      <td>901</td>\n",
       "      <td>301</td>\n",
       "      <td>1</td>\n",
       "      <td>1</td>\n",
       "    </tr>\n",
       "    <tr>\n",
       "      <th>44402</th>\n",
       "      <td>../data/raw/8959/1/8959_idx5_x901_y351_class1.png</td>\n",
       "      <td>8959</td>\n",
       "      <td>901</td>\n",
       "      <td>351</td>\n",
       "      <td>1</td>\n",
       "      <td>1</td>\n",
       "    </tr>\n",
       "    <tr>\n",
       "      <th>44409</th>\n",
       "      <td>../data/raw/8959/1/8959_idx5_x1701_y1201_class...</td>\n",
       "      <td>8959</td>\n",
       "      <td>1701</td>\n",
       "      <td>1201</td>\n",
       "      <td>1</td>\n",
       "      <td>1</td>\n",
       "    </tr>\n",
       "    <tr>\n",
       "      <th>44412</th>\n",
       "      <td>../data/raw/8959/1/8959_idx5_x801_y401_class1.png</td>\n",
       "      <td>8959</td>\n",
       "      <td>801</td>\n",
       "      <td>401</td>\n",
       "      <td>1</td>\n",
       "      <td>1</td>\n",
       "    </tr>\n",
       "    <tr>\n",
       "      <th>44413</th>\n",
       "      <td>../data/raw/8959/1/8959_idx5_x1501_y1101_class...</td>\n",
       "      <td>8959</td>\n",
       "      <td>1501</td>\n",
       "      <td>1101</td>\n",
       "      <td>1</td>\n",
       "      <td>1</td>\n",
       "    </tr>\n",
       "  </tbody>\n",
       "</table>\n",
       "<p>37149 rows × 6 columns</p>\n",
       "</div>"
      ],
      "text/plain": [
       "                                                    path   P_id     X     Y  \\\n",
       "1      ../data/raw/10268/0/10268_idx5_x2501_y2251_cla...  10268  2501  2251   \n",
       "2      ../data/raw/10268/0/10268_idx5_x751_y851_class...  10268   751   851   \n",
       "3      ../data/raw/10268/0/10268_idx5_x3401_y951_clas...  10268  3401   951   \n",
       "4      ../data/raw/10268/0/10268_idx5_x1151_y751_clas...  10268  1151   751   \n",
       "5      ../data/raw/10268/0/10268_idx5_x3401_y1001_cla...  10268  3401  1001   \n",
       "...                                                  ...    ...   ...   ...   \n",
       "44399  ../data/raw/8959/1/8959_idx5_x901_y301_class1.png   8959   901   301   \n",
       "44402  ../data/raw/8959/1/8959_idx5_x901_y351_class1.png   8959   901   351   \n",
       "44409  ../data/raw/8959/1/8959_idx5_x1701_y1201_class...   8959  1701  1201   \n",
       "44412  ../data/raw/8959/1/8959_idx5_x801_y401_class1.png   8959   801   401   \n",
       "44413  ../data/raw/8959/1/8959_idx5_x1501_y1101_class...   8959  1501  1101   \n",
       "\n",
       "       Class  Pred_Class  \n",
       "1          0           0  \n",
       "2          0           0  \n",
       "3          0           0  \n",
       "4          0           0  \n",
       "5          0           0  \n",
       "...      ...         ...  \n",
       "44399      1           1  \n",
       "44402      1           1  \n",
       "44409      1           1  \n",
       "44412      1           1  \n",
       "44413      1           1  \n",
       "\n",
       "[37149 rows x 6 columns]"
      ]
     },
     "execution_count": 50,
     "metadata": {},
     "output_type": "execute_result"
    }
   ],
   "source": [
    "test_df[test_df['Class']==test_df['Pred_Class']]"
   ]
  },
  {
   "cell_type": "code",
   "execution_count": 43,
   "id": "0c596606",
   "metadata": {},
   "outputs": [],
   "source": [
    "img = Image.open(\"../data/testimages/cancerpatch.png\")  # for example (3456, 5184, 3)\n",
    "img = np.asarray(img)"
   ]
  },
  {
   "cell_type": "code",
   "execution_count": 51,
   "id": "795ab6a3",
   "metadata": {},
   "outputs": [
    {
     "name": "stdout",
     "output_type": "stream",
     "text": [
      "1/1 [==============================] - 0s 308ms/step\n"
     ]
    },
    {
     "data": {
      "text/plain": [
       "array([[1]])"
      ]
     },
     "execution_count": 51,
     "metadata": {},
     "output_type": "execute_result"
    }
   ],
   "source": [
    "x=tf.stack([X_test[44399]],axis=0)\n",
    "Y_p = model.predict(x)\n",
    "y_p = (Y_p > 0.5).astype(np.int64)\n",
    "y_p"
   ]
  },
  {
   "cell_type": "code",
   "execution_count": 9,
   "id": "76d6bccc",
   "metadata": {},
   "outputs": [
    {
     "name": "stdout",
     "output_type": "stream",
     "text": [
      "Precision: 0.7973102828791045\n",
      "Recall: 0.8040122489649484\n"
     ]
    }
   ],
   "source": [
    "recall = recall_score(y_test, y_pred, average='macro')\n",
    "precision = precision_score(y_test, y_pred, average='macro')\n",
    "print(\"Precision:\" ,precision)\n",
    "print(\"Recall:\", recall)"
   ]
  },
  {
   "cell_type": "code",
   "execution_count": 10,
   "id": "bd1a270d",
   "metadata": {},
   "outputs": [
    {
     "name": "stdout",
     "output_type": "stream",
     "text": [
      "Classification Report:               precision    recall  f1-score   support\n",
      "\n",
      "           0       0.89      0.88      0.89     31862\n",
      "           1       0.70      0.73      0.72     12556\n",
      "\n",
      "    accuracy                           0.84     44418\n",
      "   macro avg       0.80      0.80      0.80     44418\n",
      "weighted avg       0.84      0.84      0.84     44418\n",
      "\n"
     ]
    }
   ],
   "source": [
    "print(\"Classification Report:\",classification_report(y_test,y_pred))"
   ]
  },
  {
   "cell_type": "code",
   "execution_count": 11,
   "id": "968b6e3e",
   "metadata": {},
   "outputs": [],
   "source": [
    "def original_breast_tissue(patient_id):\n",
    "    patient_df = test_df.loc[test_df['P_id']== patient_id,:]\n",
    "    \n",
    "    max_coord = np.max((*patient_df.X,*patient_df.Y))\n",
    "    base = 255*np.ones(shape = (max_coord + 50, max_coord + 50, 3)).astype(np.uint8)\n",
    "    mask = 255*np.ones(shape = (max_coord + 50, max_coord + 50, 3)).astype(np.uint8)\n",
    "    \n",
    "    for X,Y,Class,path in zip(patient_df['X'],patient_df['Y'],patient_df['Class'],patient_df['path']):\n",
    "        try:\n",
    "            img = io.imread(path)\n",
    "            base[Y:Y+50,X:X+50] = img\n",
    "            \n",
    "            if Class == 1:\n",
    "                mask[Y:Y+50,X:X+50] = [0,0,255]\n",
    "        except: pass\n",
    "    alpha = 0.6\n",
    "    img = (mask * (1.0 - alpha) + base * alpha).astype('uint8')\n",
    "    io.imshow(img)\n",
    "    return img"
   ]
  },
  {
   "cell_type": "code",
   "execution_count": 12,
   "id": "21b7e7d0",
   "metadata": {},
   "outputs": [],
   "source": [
    "def predicted_breast_tissue(patient_id):\n",
    "    patient_df = prediction_df.loc[test_df['P_id']== patient_id,:]\n",
    "    \n",
    "    max_coord = np.max((*patient_df.X,*patient_df.Y))\n",
    "    base = 255*np.ones(shape = (max_coord + 50, max_coord + 50, 3)).astype(np.uint8)\n",
    "    mask = 255*np.ones(shape = (max_coord + 50, max_coord + 50, 3)).astype(np.uint8)\n",
    "    \n",
    "    for X,Y,Class,path in zip(patient_df['X'],patient_df['Y'],patient_df['Class'],patient_df['path']):\n",
    "        try:\n",
    "            img = io.imread(path)\n",
    "            base[Y:Y+50,X:X+50] = img\n",
    "            \n",
    "            if Class == 1:\n",
    "                mask[Y:Y+50,X:X+50] = [0,0,255]\n",
    "        except: pass\n",
    "    alpha = 0.6\n",
    "    img = (mask * (1.0 - alpha) + base * alpha).astype('uint8')\n",
    "    io.imshow(img)\n",
    "    return img"
   ]
  },
  {
   "cell_type": "code",
   "execution_count": 40,
   "id": "3cfa6d98",
   "metadata": {},
   "outputs": [
    {
     "name": "stdout",
     "output_type": "stream",
     "text": [
      "Predicted data: 0    31383\n",
      "1    13035\n",
      "Name: Class, dtype: int64\n"
     ]
    }
   ],
   "source": [
    "prediction_df=test_df.filter(['P_id','X','Y','path'],axis=1)\n",
    "prediction_df['Class']=y_pred\n",
    "#print(\"Original data:\",data.target.value_counts())\n",
    "print(\"Predicted data:\",prediction_df.Class.value_counts())"
   ]
  },
  {
   "cell_type": "code",
   "execution_count": 14,
   "id": "a8db4906",
   "metadata": {},
   "outputs": [
    {
     "data": {
      "text/plain": [
       "10288    2278\n",
       "8975     2212\n",
       "10268    2109\n",
       "10299    2106\n",
       "14211    2096\n",
       "10290    2031\n",
       "10273    2022\n",
       "12880    1935\n",
       "12910    1718\n",
       "10279    1694\n",
       "9123     1588\n",
       "13019    1510\n",
       "9226     1238\n",
       "9257     1202\n",
       "13021    1197\n",
       "9254     1172\n",
       "12951    1138\n",
       "9177     1103\n",
       "8863      979\n",
       "14190     949\n",
       "10274     878\n",
       "15513     869\n",
       "12868     861\n",
       "9227      814\n",
       "12949     808\n",
       "12869     796\n",
       "12884     769\n",
       "13460     669\n",
       "10261     646\n",
       "15514     638\n",
       "14210     573\n",
       "15471     534\n",
       "8955      495\n",
       "9124      465\n",
       "13458     443\n",
       "13666     407\n",
       "16533     367\n",
       "8959      356\n",
       "12873     281\n",
       "13023     227\n",
       "16895     151\n",
       "9262       94\n",
       "Name: P_id, dtype: int64"
      ]
     },
     "execution_count": 14,
     "metadata": {},
     "output_type": "execute_result"
    }
   ],
   "source": [
    "prediction_df.P_id.value_counts()"
   ]
  },
  {
   "cell_type": "code",
   "execution_count": 15,
   "id": "ce026217",
   "metadata": {},
   "outputs": [
    {
     "data": {
      "image/png": "[encoded data removed]",
      "text/plain": [
       "<Figure size 640x480 with 2 Axes>"
      ]
     },
     "metadata": {},
     "output_type": "display_data"
    }
   ],
   "source": [
    "fig, axes = plt.subplots(1, 2)\n",
    "img1 = original_breast_tissue(13019)\n",
    "img2 = predicted_breast_tissue(13019)\n",
    "axes[0].imshow(img1)\n",
    "axes[1].imshow(img2) \n",
    "axes[0].title.set_text('Original tissue')\n",
    "axes[1].title.set_text('predicted tissue')\n",
    "#This has more false negatives"
   ]
  },
  {
   "cell_type": "code",
   "execution_count": null,
   "id": "d11c5dd5",
   "metadata": {},
   "outputs": [],
   "source": []
  }
 ],
 "metadata": {
  "kernelspec": {
   "display_name": "Python [conda env:breastcancer_env]",
   "language": "python",
   "name": "conda-env-breastcancer_env-py"
  },
  "language_info": {
   "codemirror_mode": {
    "name": "ipython",
    "version": 3
   },
   "file_extension": ".py",
   "mimetype": "text/x-python",
   "name": "python",
   "nbconvert_exporter": "python",
   "pygments_lexer": "ipython3",
   "version": "3.8.16"
  }
 },
 "nbformat": 4,
 "nbformat_minor": 5
}
