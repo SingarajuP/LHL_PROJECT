{
 "cells": [
  {
   "cell_type": "code",
   "execution_count": 1,
   "id": "9afe4d2f",
   "metadata": {},
   "outputs": [],
   "source": [
    "import numpy as np \n",
    "import pandas as pd \n",
    "import matplotlib.pyplot as plt\n",
    "%matplotlib inline\n",
    "import seaborn as sns\n",
    "from os import listdir\n",
    "from glob import glob\n",
    "from PIL import Image\n",
    "import os\n",
    "import cv2\n",
    "import scipy.ndimage as ndimage\n",
    "from skimage import io"
   ]
  },
  {
   "cell_type": "code",
   "execution_count": 2,
   "id": "3dc510e0",
   "metadata": {},
   "outputs": [],
   "source": [
    "from sklearn.model_selection import train_test_split\n",
    "from sklearn.metrics import classification_report,confusion_matrix,precision_score,recall_score\n",
    "from sklearn.metrics import roc_curve,auc"
   ]
  },
  {
   "cell_type": "code",
   "execution_count": 2,
   "id": "3acbddb4",
   "metadata": {},
   "outputs": [],
   "source": [
    "import tensorflow as tf\n",
    "from tensorflow import keras\n",
    "from keras.utils import load_img, img_to_array\n",
    "from keras.losses import binary_crossentropy\n",
    "from keras.models import Sequential,load_model\n",
    "from keras.layers import Conv2D,MaxPooling2D,Flatten,Dense,Dropout,BatchNormalization \n",
    "from keras.callbacks import EarlyStopping,ModelCheckpoint\n",
    "from keras import backend as K\n",
    "from keras import activations\n",
    "from keras.preprocessing.image import ImageDataGenerator\n",
    "from keras import optimizers\n",
    "\n",
    "\n",
    "from numpy import expand_dims\n"
   ]
  },
  {
   "cell_type": "code",
   "execution_count": 3,
   "id": "b0b6609a",
   "metadata": {},
   "outputs": [],
   "source": [
    "def load_data(files):\n",
    "    X = []\n",
    "    y = []\n",
    "    for file in files:\n",
    "        img = load_img(file, target_size = (50,50))\n",
    "        pix = img_to_array(img)\n",
    "        pix /= 255\n",
    "        X.append(pix)\n",
    "        if(file[-5] == '1'):\n",
    "             y.append(1)\n",
    "        elif(file[-5] == '0'):\n",
    "            y.append(0)\n",
    "    return np.stack(X), y"
   ]
  },
  {
   "cell_type": "code",
   "execution_count": 4,
   "id": "63c39191",
   "metadata": {},
   "outputs": [],
   "source": [
    "model=load_model(\"../models/final_imbalance_best_sgd2.hdf5\")"
   ]
  },
  {
   "cell_type": "code",
   "execution_count": 5,
   "id": "5ce0cc25",
   "metadata": {},
   "outputs": [
    {
     "data": {
      "text/plain": [
       "((44418, 50, 50, 3), (44418, 1))"
      ]
     },
     "execution_count": 5,
     "metadata": {},
     "output_type": "execute_result"
    }
   ],
   "source": [
    "test_df=pd.read_csv(\"../data/processed/testpath_df2.csv\")\n",
    "X_test,y_test=load_data(test_df.path)\n",
    "y_test=np.vstack(y_test)\n",
    "X_test.shape,y_test.shape"
   ]
  },
  {
   "cell_type": "code",
   "execution_count": 6,
   "id": "09f6d2a1",
   "metadata": {},
   "outputs": [
    {
     "name": "stdout",
     "output_type": "stream",
     "text": [
      "1389/1389 [==============================] - 11s 8ms/step\n"
     ]
    }
   ],
   "source": [
    "Y_pred = model.predict(X_test)\n",
    "y_pred = (Y_pred > 0.5).astype(np.int64)"
   ]
  },
  {
   "cell_type": "code",
   "execution_count": 8,
   "id": "c8fc8b45",
   "metadata": {},
   "outputs": [],
   "source": [
    "def original_breast_tissue_withoutannotation(patient_id):\n",
    "    patient_df = test_df.loc[test_df['P_id']== patient_id,:]\n",
    "    \n",
    "    max_coord = np.max((*patient_df.X,*patient_df.Y))\n",
    "    base = 255*np.ones(shape = (max_coord + 50, max_coord + 50, 3)).astype(np.uint8)\n",
    "    mask = 255*np.ones(shape = (max_coord + 50, max_coord + 50, 3)).astype(np.uint8)\n",
    "    \n",
    "    for X,Y,Class,path in zip(patient_df['X'],patient_df['Y'],patient_df['Class'],patient_df['path']):\n",
    "        try:\n",
    "            img = io.imread(path)\n",
    "            base[Y:Y+50,X:X+50] = img\n",
    "            \n",
    "            \n",
    "        except: pass\n",
    "    \n",
    "    return base"
   ]
  },
  {
   "cell_type": "code",
   "execution_count": 9,
   "id": "5e465d7b",
   "metadata": {},
   "outputs": [],
   "source": [
    "img_test = original_breast_tissue_withoutannotation(13019)\n",
    "saveimage=Image.fromarray(img_test)"
   ]
  },
  {
   "cell_type": "code",
   "execution_count": 10,
   "id": "faa070a6",
   "metadata": {},
   "outputs": [],
   "source": [
    "saveimage.save(\"../data/testimages/test_patient_image.png\")\n"
   ]
  },
  {
   "cell_type": "code",
   "execution_count": null,
   "id": "227b7cc8",
   "metadata": {},
   "outputs": [],
   "source": []
  }
 ],
 "metadata": {
  "kernelspec": {
   "display_name": "Python [conda env:breastcancer_env]",
   "language": "python",
   "name": "conda-env-breastcancer_env-py"
  },
  "language_info": {
   "codemirror_mode": {
    "name": "ipython",
    "version": 3
   },
   "file_extension": ".py",
   "mimetype": "text/x-python",
   "name": "python",
   "nbconvert_exporter": "python",
   "pygments_lexer": "ipython3",
   "version": "3.8.16"
  }
 },
 "nbformat": 4,
 "nbformat_minor": 5
}
