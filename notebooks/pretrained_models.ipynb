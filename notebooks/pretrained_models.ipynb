{
 "cells": [
  {
   "cell_type": "code",
   "execution_count": 1,
   "id": "9afe4d2f",
   "metadata": {},
   "outputs": [],
   "source": [
    "import numpy as np \n",
    "import pandas as pd \n",
    "import matplotlib.pyplot as plt\n",
    "%matplotlib inline\n",
    "import seaborn as sns\n",
    "from os import listdir\n",
    "from glob import glob\n",
    "from PIL import Image\n",
    "import os\n",
    "import cv2\n",
    "import scipy.ndimage as ndimage\n",
    "from skimage import io"
   ]
  },
  {
   "cell_type": "code",
   "execution_count": 2,
   "id": "3dc510e0",
   "metadata": {},
   "outputs": [],
   "source": [
    "from sklearn.model_selection import train_test_split\n",
    "from sklearn.metrics import classification_report,confusion_matrix,precision_score,recall_score\n",
    "from sklearn.metrics import roc_curve,auc"
   ]
  },
  {
   "cell_type": "code",
   "execution_count": 3,
   "id": "3acbddb4",
   "metadata": {},
   "outputs": [],
   "source": [
    "import tensorflow as tf\n",
    "from tensorflow import keras\n",
    "from keras import Model\n",
    "from keras.utils import load_img, img_to_array\n",
    "from keras.losses import binary_crossentropy\n",
    "from keras.models import Sequential,load_model\n",
    "from keras.layers import Conv2D,MaxPooling2D,Flatten,Dense,Dropout,BatchNormalization,GlobalAveragePooling2D\n",
    "from keras.callbacks import EarlyStopping,ModelCheckpoint\n",
    "from keras import backend as K\n",
    "from keras import activations\n",
    "from keras.preprocessing.image import ImageDataGenerator\n",
    "from keras import optimizers\n",
    "\n",
    "\n",
    "from numpy import expand_dims\n"
   ]
  },
  {
   "cell_type": "code",
   "execution_count": 4,
   "id": "e2677243",
   "metadata": {},
   "outputs": [],
   "source": [
    "from tensorflow.keras.applications.vgg16 import VGG16\n"
   ]
  },
  {
   "cell_type": "code",
   "execution_count": 5,
   "id": "473acc1d",
   "metadata": {},
   "outputs": [],
   "source": [
    "train_df=pd.read_csv(\"../data/processed/trainpath_df.csv\")\n",
    "val_df=pd.read_csv(\"../data/processed/valpath_df.csv\")\n",
    "test_df=pd.read_csv(\"../data/processed/testpath_df.csv\")"
   ]
  },
  {
   "cell_type": "code",
   "execution_count": 6,
   "id": "2512fe6f",
   "metadata": {},
   "outputs": [],
   "source": [
    "def load_data(files):\n",
    "    X = []\n",
    "    y = []\n",
    "    for file in files:\n",
    "        img = load_img(file, target_size = (50,50))\n",
    "        pix = img_to_array(img)\n",
    "        pix /= 255\n",
    "        X.append(pix)\n",
    "        if(file[-5] == '1'):\n",
    "             y.append(1)\n",
    "        elif(file[-5] == '0'):\n",
    "            y.append(0)\n",
    "    return np.stack(X), y"
   ]
  },
  {
   "cell_type": "code",
   "execution_count": 7,
   "id": "6d6e62d4",
   "metadata": {},
   "outputs": [
    {
     "data": {
      "text/plain": [
       "((193799, 50, 50, 3), (193799, 1))"
      ]
     },
     "execution_count": 7,
     "metadata": {},
     "output_type": "execute_result"
    }
   ],
   "source": [
    "X,y=load_data(train_df.path)\n",
    "y=np.vstack(y)\n",
    "X.shape,y.shape"
   ]
  },
  {
   "cell_type": "code",
   "execution_count": 8,
   "id": "c7ca395c",
   "metadata": {},
   "outputs": [
    {
     "data": {
      "text/plain": [
       "((43152, 50, 50, 3), (43152, 1))"
      ]
     },
     "execution_count": 8,
     "metadata": {},
     "output_type": "execute_result"
    }
   ],
   "source": [
    "X_val,y_val=load_data(val_df.path) \n",
    "y_val=np.vstack(y_val)\n",
    "X_val.shape,y_val.shape"
   ]
  },
  {
   "cell_type": "code",
   "execution_count": 9,
   "id": "bd1a270d",
   "metadata": {},
   "outputs": [],
   "source": [
    "base_model = VGG16(input_shape = (50, 50, 3), # Shape of our images\n",
    "include_top = False, # Leave out the last fully connected layer\n",
    "weights = 'imagenet')"
   ]
  },
  {
   "cell_type": "code",
   "execution_count": 10,
   "id": "b192e2e3",
   "metadata": {},
   "outputs": [],
   "source": [
    "base_model.trainable = False"
   ]
  },
  {
   "cell_type": "code",
   "execution_count": 11,
   "id": "cd86a081",
   "metadata": {},
   "outputs": [],
   "source": [
    "# Flatten the output layer to 1 dimension\n",
    "x = base_model.output\n",
    "x = GlobalAveragePooling2D()(x)\n",
    "# Add a fully connected layer with 512 hidden units and ReLU activation\n",
    "x = Dense(512, activation='relu')(x)\n",
    "\n",
    "# Add a dropout rate of 0.5\n",
    "x = Dropout(0.5)(x)\n",
    "\n",
    "# Add a final sigmoid layer with 1 node for classification output\n",
    "x = Dense(1, activation='sigmoid')(x)"
   ]
  },
  {
   "cell_type": "code",
   "execution_count": 12,
   "id": "6c3c2fd6",
   "metadata": {},
   "outputs": [],
   "source": [
    "model = Model(inputs=base_model.input, outputs=x)"
   ]
  },
  {
   "cell_type": "code",
   "execution_count": 13,
   "id": "deef8145",
   "metadata": {},
   "outputs": [
    {
     "name": "stdout",
     "output_type": "stream",
     "text": [
      "Model: \"model\"\n",
      "_________________________________________________________________\n",
      " Layer (type)                Output Shape              Param #   \n",
      "=================================================================\n",
      " input_1 (InputLayer)        [(None, 50, 50, 3)]       0         \n",
      "                                                                 \n",
      " block1_conv1 (Conv2D)       (None, 50, 50, 64)        1792      \n",
      "                                                                 \n",
      " block1_conv2 (Conv2D)       (None, 50, 50, 64)        36928     \n",
      "                                                                 \n",
      " block1_pool (MaxPooling2D)  (None, 25, 25, 64)        0         \n",
      "                                                                 \n",
      " block2_conv1 (Conv2D)       (None, 25, 25, 128)       73856     \n",
      "                                                                 \n",
      " block2_conv2 (Conv2D)       (None, 25, 25, 128)       147584    \n",
      "                                                                 \n",
      " block2_pool (MaxPooling2D)  (None, 12, 12, 128)       0         \n",
      "                                                                 \n",
      " block3_conv1 (Conv2D)       (None, 12, 12, 256)       295168    \n",
      "                                                                 \n",
      " block3_conv2 (Conv2D)       (None, 12, 12, 256)       590080    \n",
      "                                                                 \n",
      " block3_conv3 (Conv2D)       (None, 12, 12, 256)       590080    \n",
      "                                                                 \n",
      " block3_pool (MaxPooling2D)  (None, 6, 6, 256)         0         \n",
      "                                                                 \n",
      " block4_conv1 (Conv2D)       (None, 6, 6, 512)         1180160   \n",
      "                                                                 \n",
      " block4_conv2 (Conv2D)       (None, 6, 6, 512)         2359808   \n",
      "                                                                 \n",
      " block4_conv3 (Conv2D)       (None, 6, 6, 512)         2359808   \n",
      "                                                                 \n",
      " block4_pool (MaxPooling2D)  (None, 3, 3, 512)         0         \n",
      "                                                                 \n",
      " block5_conv1 (Conv2D)       (None, 3, 3, 512)         2359808   \n",
      "                                                                 \n",
      " block5_conv2 (Conv2D)       (None, 3, 3, 512)         2359808   \n",
      "                                                                 \n",
      " block5_conv3 (Conv2D)       (None, 3, 3, 512)         2359808   \n",
      "                                                                 \n",
      " block5_pool (MaxPooling2D)  (None, 1, 1, 512)         0         \n",
      "                                                                 \n",
      " global_average_pooling2d (G  (None, 512)              0         \n",
      " lobalAveragePooling2D)                                          \n",
      "                                                                 \n",
      " dense (Dense)               (None, 512)               262656    \n",
      "                                                                 \n",
      " dropout (Dropout)           (None, 512)               0         \n",
      "                                                                 \n",
      " dense_1 (Dense)             (None, 1)                 513       \n",
      "                                                                 \n",
      "=================================================================\n",
      "Total params: 14,977,857\n",
      "Trainable params: 263,169\n",
      "Non-trainable params: 14,714,688\n",
      "_________________________________________________________________\n"
     ]
    }
   ],
   "source": [
    "model.summary()"
   ]
  },
  {
   "cell_type": "code",
   "execution_count": 14,
   "id": "1dd99bcd",
   "metadata": {},
   "outputs": [],
   "source": [
    "#opt=optimizers.Adam(learning_rate=0.001)\n",
    "opt=optimizers.SGD(learning_rate=1e-3, momentum=0.9)"
   ]
  },
  {
   "cell_type": "code",
   "execution_count": 15,
   "id": "3a8f6b01",
   "metadata": {},
   "outputs": [],
   "source": [
    "model.compile(loss=keras.losses.binary_crossentropy,\n",
    "              optimizer=opt,\n",
    "              metrics=['accuracy'])\n",
    "\n",
    "checkpoint = ModelCheckpoint(\"../models/pretrained_vgc_sgd.hdf5\", monitor='val_accuracy', verbose=1,\n",
    "    save_best_only=True, mode='max')\n",
    "es = EarlyStopping(monitor='val_loss', mode='min', verbose=1, patience=5)\n",
    "\n"
   ]
  },
  {
   "cell_type": "code",
   "execution_count": 16,
   "id": "7e21b271",
   "metadata": {
    "scrolled": true
   },
   "outputs": [
    {
     "name": "stdout",
     "output_type": "stream",
     "text": [
      "Epoch 1/100\n",
      "6057/6057 [==============================] - ETA: 0s - loss: 0.6112 - accuracy: 0.7017\n",
      "Epoch 1: val_accuracy improved from -inf to 0.72175, saving model to ../models/pretrained_vgc_sgd.hdf5\n",
      "6057/6057 [==============================] - 156s 26ms/step - loss: 0.6112 - accuracy: 0.7017 - val_loss: 0.6221 - val_accuracy: 0.7218\n",
      "Epoch 2/100\n",
      "6056/6057 [============================>.] - ETA: 0s - loss: 0.6091 - accuracy: 0.7029\n",
      "Epoch 2: val_accuracy did not improve from 0.72175\n",
      "6057/6057 [==============================] - 159s 26ms/step - loss: 0.6091 - accuracy: 0.7029 - val_loss: 0.6376 - val_accuracy: 0.7038\n",
      "Epoch 3/100\n",
      "6057/6057 [==============================] - ETA: 0s - loss: 0.6090 - accuracy: 0.7030\n",
      "Epoch 3: val_accuracy improved from 0.72175 to 0.73508, saving model to ../models/pretrained_vgc_sgd.hdf5\n",
      "6057/6057 [==============================] - 267s 44ms/step - loss: 0.6090 - accuracy: 0.7030 - val_loss: 0.6067 - val_accuracy: 0.7351\n",
      "Epoch 4/100\n",
      "6057/6057 [==============================] - ETA: 0s - loss: 0.6090 - accuracy: 0.7029\n",
      "Epoch 4: val_accuracy did not improve from 0.73508\n",
      "6057/6057 [==============================] - 265s 44ms/step - loss: 0.6090 - accuracy: 0.7029 - val_loss: 0.6223 - val_accuracy: 0.7231\n",
      "Epoch 5/100\n",
      "6056/6057 [============================>.] - ETA: 0s - loss: 0.6089 - accuracy: 0.7029\n",
      "Epoch 5: val_accuracy did not improve from 0.73508\n",
      "6057/6057 [==============================] - 263s 43ms/step - loss: 0.6089 - accuracy: 0.7029 - val_loss: 0.6110 - val_accuracy: 0.7329\n",
      "Epoch 6/100\n",
      "6056/6057 [============================>.] - ETA: 0s - loss: 0.6089 - accuracy: 0.7029\n",
      "Epoch 6: val_accuracy did not improve from 0.73508\n",
      "6057/6057 [==============================] - 261s 43ms/step - loss: 0.6089 - accuracy: 0.7029 - val_loss: 0.6160 - val_accuracy: 0.7289\n",
      "Epoch 7/100\n",
      "6057/6057 [==============================] - ETA: 0s - loss: 0.6088 - accuracy: 0.7029\n",
      "Epoch 7: val_accuracy did not improve from 0.73508\n",
      "6057/6057 [==============================] - 262s 43ms/step - loss: 0.6088 - accuracy: 0.7029 - val_loss: 0.6086 - val_accuracy: 0.7341\n",
      "Epoch 8/100\n",
      "6057/6057 [==============================] - ETA: 0s - loss: 0.6089 - accuracy: 0.7029\n",
      "Epoch 8: val_accuracy did not improve from 0.73508\n",
      "6057/6057 [==============================] - 262s 43ms/step - loss: 0.6089 - accuracy: 0.7029 - val_loss: 0.6140 - val_accuracy: 0.7313\n",
      "Epoch 8: early stopping\n"
     ]
    }
   ],
   "source": [
    "M=model.fit(X, y,validation_data=(X_val, y_val),verbose = 1,epochs = 100,callbacks=[checkpoint,es])"
   ]
  },
  {
   "cell_type": "code",
   "execution_count": 17,
   "id": "7b80e77a",
   "metadata": {},
   "outputs": [
    {
     "data": {
      "text/plain": [
       "((40573, 50, 50, 3), (40573, 1))"
      ]
     },
     "execution_count": 17,
     "metadata": {},
     "output_type": "execute_result"
    }
   ],
   "source": [
    "X_test,y_test=load_data(test_df.path)\n",
    "y_test=np.vstack(y_test)\n",
    "X_test.shape,y_test.shape"
   ]
  },
  {
   "cell_type": "code",
   "execution_count": 18,
   "id": "f35bf491",
   "metadata": {},
   "outputs": [
    {
     "name": "stdout",
     "output_type": "stream",
     "text": [
      "1268/1268 - 44s - loss: 0.6104 - accuracy: 0.7379 - 44s/epoch - 34ms/step\n",
      "\n",
      "Test accuracy: 0.7379045486450195\n",
      "\n",
      "Test Loss: 0.6104423403739929\n",
      "1268/1268 [==============================] - 24s 18ms/step\n"
     ]
    },
    {
     "data": {
      "text/plain": [
       "array([[29899,   565],\n",
       "       [10069,    40]])"
      ]
     },
     "execution_count": 18,
     "metadata": {},
     "output_type": "execute_result"
    }
   ],
   "source": [
    "test_loss, test_acc = model.evaluate(X_test,y_test, verbose=2)\n",
    "\n",
    "print('\\nTest accuracy:', test_acc)\n",
    "print('\\nTest Loss:', test_loss)\n",
    "Y_pred = model.predict(X_test)\n",
    "y_pred = (Y_pred > 0.5).astype(np.int64)\n",
    "\n",
    "confusion_matrix(y_test, y_pred)"
   ]
  },
  {
   "cell_type": "code",
   "execution_count": 19,
   "id": "331fc741",
   "metadata": {},
   "outputs": [
    {
     "name": "stdout",
     "output_type": "stream",
     "text": [
      "Precision: 0.4070945806231762\n",
      "Recall: 0.49270519451165073\n"
     ]
    }
   ],
   "source": [
    "recall = recall_score(y_test, y_pred, average='macro')\n",
    "precision = precision_score(y_test, y_pred, average='macro')\n",
    "print(\"Precision:\" ,precision)\n",
    "print(\"Recall:\", recall)"
   ]
  },
  {
   "cell_type": "code",
   "execution_count": 21,
   "id": "be37dc9b",
   "metadata": {},
   "outputs": [
    {
     "name": "stdout",
     "output_type": "stream",
     "text": [
      "Classification Report:               precision    recall  f1-score   support\n",
      "\n",
      "           0       0.75      0.98      0.85     30464\n",
      "           1       0.07      0.00      0.01     10109\n",
      "\n",
      "    accuracy                           0.74     40573\n",
      "   macro avg       0.41      0.49      0.43     40573\n",
      "weighted avg       0.58      0.74      0.64     40573\n",
      "\n"
     ]
    }
   ],
   "source": [
    "print(\"Classification Report:\",classification_report(y_test,y_pred))"
   ]
  },
  {
   "cell_type": "code",
   "execution_count": null,
   "id": "4738aa13",
   "metadata": {},
   "outputs": [],
   "source": []
  }
 ],
 "metadata": {
  "kernelspec": {
   "display_name": "Python [conda env:breastcancer_env]",
   "language": "python",
   "name": "conda-env-breastcancer_env-py"
  },
  "language_info": {
   "codemirror_mode": {
    "name": "ipython",
    "version": 3
   },
   "file_extension": ".py",
   "mimetype": "text/x-python",
   "name": "python",
   "nbconvert_exporter": "python",
   "pygments_lexer": "ipython3",
   "version": "3.8.16"
  }
 },
 "nbformat": 4,
 "nbformat_minor": 5
}
